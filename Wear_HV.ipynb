{
  "nbformat": 4,
  "nbformat_minor": 0,
  "metadata": {
    "accelerator": "GPU",
    "colab": {
      "name": "Wear-HV.ipynb",
      "provenance": [],
      "collapsed_sections": [],
      "toc_visible": true,
      "mount_file_id": "1AVhNreVvb3V43mwDnostdWyl9cHlYSxt",
      "authorship_tag": "ABX9TyOssAbeQP1s61+VMNpu+IOm",
      "include_colab_link": true
    },
    "kernelspec": {
      "display_name": "Python 3",
      "name": "python3"
    }
  },
  "cells": [
    {
      "cell_type": "markdown",
      "metadata": {
        "id": "view-in-github",
        "colab_type": "text"
      },
      "source": [
        "<a href=\"https://colab.research.google.com/github/GermanOmar/Wear/blob/master/Wear_HV.ipynb\" target=\"_parent\"><img src=\"https://colab.research.google.com/assets/colab-badge.svg\" alt=\"Open In Colab\"/></a>"
      ]
    },
    {
      "cell_type": "markdown",
      "metadata": {
        "id": "rqI9VDT0RdWk"
      },
      "source": [
        "# A machine learning approach for microhardness prediction and sliding wear evaluation in materials manufactured by laser powder bed fusion"
      ]
    },
    {
      "cell_type": "markdown",
      "metadata": {
        "id": "2OOvQQeg7d0g"
      },
      "source": [
        "<a href=\"https://ibb.co/3vvDZtg\"><img src=\"https://i.ibb.co/Nrr8Bwc/Tests2-TIFF.png\" WIDTH=\"620\" HEIGHT=\"360\"  border=\"0\"></a>"
      ]
    },
    {
      "cell_type": "markdown",
      "metadata": {
        "id": "3-T6Z2bdRvSm"
      },
      "source": [
        " Libraries"
      ]
    },
    {
      "cell_type": "code",
      "metadata": {
        "id": "ltCb1Iw6Raez"
      },
      "source": [
        "import numpy as np\n",
        "import pandas as pd\n",
        "from matplotlib import pyplot as plt\n",
        "from sklearn import preprocessing\n",
        "import warnings\n",
        "warnings.filterwarnings(\"ignore\")"
      ],
      "execution_count": 1,
      "outputs": []
    },
    {
      "cell_type": "code",
      "metadata": {
        "colab": {
          "base_uri": "https://localhost:8080/",
          "height": 1000
        },
        "id": "SLSSHb-SwB0n",
        "outputId": "3986b797-1fc1-4339-dba3-e8801b00addf"
      },
      "source": [
        "!pip install lazypredict\n",
        "warnings.filterwarnings(\"ignore\")"
      ],
      "execution_count": 2,
      "outputs": [
        {
          "output_type": "stream",
          "text": [
            "Collecting lazypredict\n",
            "  Downloading lazypredict-0.2.9-py2.py3-none-any.whl (12 kB)\n",
            "Collecting scikit-learn==0.23.1\n",
            "  Downloading scikit_learn-0.23.1-cp37-cp37m-manylinux1_x86_64.whl (6.8 MB)\n",
            "\u001b[K     |████████████████████████████████| 6.8 MB 10.0 MB/s \n",
            "\u001b[?25hCollecting numpy==1.19.1\n",
            "  Downloading numpy-1.19.1-cp37-cp37m-manylinux2010_x86_64.whl (14.5 MB)\n",
            "\u001b[K     |████████████████████████████████| 14.5 MB 7.7 kB/s \n",
            "\u001b[?25hCollecting scipy==1.5.4\n",
            "  Downloading scipy-1.5.4-cp37-cp37m-manylinux1_x86_64.whl (25.9 MB)\n",
            "\u001b[K     |████████████████████████████████| 25.9 MB 927 bytes/s \n",
            "\u001b[?25hCollecting pytest==5.4.3\n",
            "  Downloading pytest-5.4.3-py3-none-any.whl (248 kB)\n",
            "\u001b[K     |████████████████████████████████| 248 kB 62.5 MB/s \n",
            "\u001b[?25hCollecting xgboost==1.1.1\n",
            "  Downloading xgboost-1.1.1-py3-none-manylinux2010_x86_64.whl (127.6 MB)\n",
            "\u001b[K     |████████████████████████████████| 127.6 MB 22 kB/s \n",
            "\u001b[?25hCollecting tqdm==4.56.0\n",
            "  Downloading tqdm-4.56.0-py2.py3-none-any.whl (72 kB)\n",
            "\u001b[K     |████████████████████████████████| 72 kB 1.2 MB/s \n",
            "\u001b[?25hRequirement already satisfied: click==7.1.2 in /usr/local/lib/python3.7/dist-packages (from lazypredict) (7.1.2)\n",
            "Requirement already satisfied: six==1.15.0 in /usr/local/lib/python3.7/dist-packages (from lazypredict) (1.15.0)\n",
            "Collecting PyYAML==5.3.1\n",
            "  Downloading PyYAML-5.3.1.tar.gz (269 kB)\n",
            "\u001b[K     |████████████████████████████████| 269 kB 72.2 MB/s \n",
            "\u001b[?25hCollecting pandas==1.0.5\n",
            "  Downloading pandas-1.0.5-cp37-cp37m-manylinux1_x86_64.whl (10.1 MB)\n",
            "\u001b[K     |████████████████████████████████| 10.1 MB 59.5 MB/s \n",
            "\u001b[?25hCollecting lightgbm==2.3.1\n",
            "  Downloading lightgbm-2.3.1-py2.py3-none-manylinux1_x86_64.whl (1.2 MB)\n",
            "\u001b[K     |████████████████████████████████| 1.2 MB 44.2 MB/s \n",
            "\u001b[?25hCollecting joblib==1.0.0\n",
            "  Downloading joblib-1.0.0-py3-none-any.whl (302 kB)\n",
            "\u001b[K     |████████████████████████████████| 302 kB 69.5 MB/s \n",
            "\u001b[?25hRequirement already satisfied: pytz>=2017.2 in /usr/local/lib/python3.7/dist-packages (from pandas==1.0.5->lazypredict) (2018.9)\n",
            "Requirement already satisfied: python-dateutil>=2.6.1 in /usr/local/lib/python3.7/dist-packages (from pandas==1.0.5->lazypredict) (2.8.1)\n",
            "Requirement already satisfied: importlib-metadata>=0.12 in /usr/local/lib/python3.7/dist-packages (from pytest==5.4.3->lazypredict) (4.6.1)\n",
            "Requirement already satisfied: attrs>=17.4.0 in /usr/local/lib/python3.7/dist-packages (from pytest==5.4.3->lazypredict) (21.2.0)\n",
            "Requirement already satisfied: wcwidth in /usr/local/lib/python3.7/dist-packages (from pytest==5.4.3->lazypredict) (0.2.5)\n",
            "Requirement already satisfied: more-itertools>=4.0.0 in /usr/local/lib/python3.7/dist-packages (from pytest==5.4.3->lazypredict) (8.8.0)\n",
            "Requirement already satisfied: packaging in /usr/local/lib/python3.7/dist-packages (from pytest==5.4.3->lazypredict) (21.0)\n",
            "Requirement already satisfied: py>=1.5.0 in /usr/local/lib/python3.7/dist-packages (from pytest==5.4.3->lazypredict) (1.10.0)\n",
            "Collecting pluggy<1.0,>=0.12\n",
            "  Downloading pluggy-0.13.1-py2.py3-none-any.whl (18 kB)\n",
            "Collecting threadpoolctl>=2.0.0\n",
            "  Downloading threadpoolctl-2.2.0-py3-none-any.whl (12 kB)\n",
            "Requirement already satisfied: zipp>=0.5 in /usr/local/lib/python3.7/dist-packages (from importlib-metadata>=0.12->pytest==5.4.3->lazypredict) (3.5.0)\n",
            "Requirement already satisfied: typing-extensions>=3.6.4 in /usr/local/lib/python3.7/dist-packages (from importlib-metadata>=0.12->pytest==5.4.3->lazypredict) (3.7.4.3)\n",
            "Requirement already satisfied: pyparsing>=2.0.2 in /usr/local/lib/python3.7/dist-packages (from packaging->pytest==5.4.3->lazypredict) (2.4.7)\n",
            "Building wheels for collected packages: PyYAML\n",
            "  Building wheel for PyYAML (setup.py) ... \u001b[?25l\u001b[?25hdone\n",
            "  Created wheel for PyYAML: filename=PyYAML-5.3.1-cp37-cp37m-linux_x86_64.whl size=44636 sha256=1802fe6924717b89f88d2f408e50b301679cb62a745320f414c1407fe64eb1e2\n",
            "  Stored in directory: /root/.cache/pip/wheels/5e/03/1e/e1e954795d6f35dfc7b637fe2277bff021303bd9570ecea653\n",
            "Successfully built PyYAML\n",
            "Installing collected packages: numpy, threadpoolctl, scipy, joblib, scikit-learn, pluggy, xgboost, tqdm, PyYAML, pytest, pandas, lightgbm, lazypredict\n",
            "  Attempting uninstall: numpy\n",
            "    Found existing installation: numpy 1.19.5\n",
            "    Uninstalling numpy-1.19.5:\n",
            "      Successfully uninstalled numpy-1.19.5\n",
            "  Attempting uninstall: scipy\n",
            "    Found existing installation: scipy 1.4.1\n",
            "    Uninstalling scipy-1.4.1:\n",
            "      Successfully uninstalled scipy-1.4.1\n",
            "  Attempting uninstall: joblib\n",
            "    Found existing installation: joblib 1.0.1\n",
            "    Uninstalling joblib-1.0.1:\n",
            "      Successfully uninstalled joblib-1.0.1\n",
            "  Attempting uninstall: scikit-learn\n",
            "    Found existing installation: scikit-learn 0.22.2.post1\n",
            "    Uninstalling scikit-learn-0.22.2.post1:\n",
            "      Successfully uninstalled scikit-learn-0.22.2.post1\n",
            "  Attempting uninstall: pluggy\n",
            "    Found existing installation: pluggy 0.7.1\n",
            "    Uninstalling pluggy-0.7.1:\n",
            "      Successfully uninstalled pluggy-0.7.1\n",
            "  Attempting uninstall: xgboost\n",
            "    Found existing installation: xgboost 0.90\n",
            "    Uninstalling xgboost-0.90:\n",
            "      Successfully uninstalled xgboost-0.90\n",
            "  Attempting uninstall: tqdm\n",
            "    Found existing installation: tqdm 4.41.1\n",
            "    Uninstalling tqdm-4.41.1:\n",
            "      Successfully uninstalled tqdm-4.41.1\n",
            "  Attempting uninstall: PyYAML\n",
            "    Found existing installation: PyYAML 3.13\n",
            "    Uninstalling PyYAML-3.13:\n",
            "      Successfully uninstalled PyYAML-3.13\n",
            "  Attempting uninstall: pytest\n",
            "    Found existing installation: pytest 3.6.4\n",
            "    Uninstalling pytest-3.6.4:\n",
            "      Successfully uninstalled pytest-3.6.4\n",
            "  Attempting uninstall: pandas\n",
            "    Found existing installation: pandas 1.1.5\n",
            "    Uninstalling pandas-1.1.5:\n",
            "      Successfully uninstalled pandas-1.1.5\n",
            "  Attempting uninstall: lightgbm\n",
            "    Found existing installation: lightgbm 2.2.3\n",
            "    Uninstalling lightgbm-2.2.3:\n",
            "      Successfully uninstalled lightgbm-2.2.3\n",
            "\u001b[31mERROR: pip's dependency resolver does not currently take into account all the packages that are installed. This behaviour is the source of the following dependency conflicts.\n",
            "tensorflow 2.5.0 requires numpy~=1.19.2, but you have numpy 1.19.1 which is incompatible.\n",
            "google-colab 1.0.0 requires pandas~=1.1.0; python_version >= \"3.0\", but you have pandas 1.0.5 which is incompatible.\n",
            "datascience 0.10.6 requires folium==0.2.1, but you have folium 0.8.3 which is incompatible.\n",
            "albumentations 0.1.12 requires imgaug<0.2.7,>=0.2.5, but you have imgaug 0.2.9 which is incompatible.\u001b[0m\n",
            "Successfully installed PyYAML-5.3.1 joblib-1.0.0 lazypredict-0.2.9 lightgbm-2.3.1 numpy-1.19.1 pandas-1.0.5 pluggy-0.13.1 pytest-5.4.3 scikit-learn-0.23.1 scipy-1.5.4 threadpoolctl-2.2.0 tqdm-4.56.0 xgboost-1.1.1\n"
          ],
          "name": "stdout"
        },
        {
          "output_type": "display_data",
          "data": {
            "application/vnd.colab-display-data+json": {
              "pip_warning": {
                "packages": [
                  "joblib",
                  "numpy",
                  "pandas",
                  "scipy",
                  "sklearn"
                ]
              }
            }
          },
          "metadata": {
            "tags": []
          }
        }
      ]
    },
    {
      "cell_type": "markdown",
      "metadata": {
        "id": "SM_-phITCP5Q"
      },
      "source": [
        "Randomized search"
      ]
    },
    {
      "cell_type": "code",
      "metadata": {
        "id": "JXtz8RPXCOUJ"
      },
      "source": [
        "from sklearn.model_selection import RandomizedSearchCV\n",
        "from sklearn.model_selection import RepeatedKFold\n",
        "from sklearn.preprocessing import StandardScaler"
      ],
      "execution_count": null,
      "outputs": []
    },
    {
      "cell_type": "markdown",
      "metadata": {
        "id": "1Mbfb5c9yu5p"
      },
      "source": [
        " Upload database:"
      ]
    },
    {
      "cell_type": "code",
      "metadata": {
        "colab": {
          "base_uri": "https://localhost:8080/"
        },
        "id": "_V3jfdhPsEKW",
        "outputId": "6c6a5dac-8423-48e1-b5fa-94de7e79bdfa"
      },
      "source": [
        "!git clone https://github.com/GermanOmar/Wear"
      ],
      "execution_count": 2,
      "outputs": [
        {
          "output_type": "stream",
          "text": [
            "Cloning into 'Wear'...\n",
            "remote: Enumerating objects: 25, done.\u001b[K\n",
            "remote: Counting objects: 100% (25/25), done.\u001b[K\n",
            "remote: Compressing objects: 100% (24/24), done.\u001b[K\n",
            "remote: Total 25 (delta 9), reused 0 (delta 0), pack-reused 0\u001b[K\n",
            "Unpacking objects: 100% (25/25), done.\n"
          ],
          "name": "stdout"
        }
      ]
    },
    {
      "cell_type": "code",
      "metadata": {
        "colab": {
          "base_uri": "https://localhost:8080/",
          "height": 295
        },
        "id": "Yx-ovik8xxJx",
        "outputId": "7a6f3f94-8df2-419f-e939-4f3f04d8825c"
      },
      "source": [
        "#Experimental data\n",
        "data = pd.read_table('HV2.txt') \n",
        "data.describe()\n"
      ],
      "execution_count": 3,
      "outputs": [
        {
          "output_type": "execute_result",
          "data": {
            "text/html": [
              "<div>\n",
              "<style scoped>\n",
              "    .dataframe tbody tr th:only-of-type {\n",
              "        vertical-align: middle;\n",
              "    }\n",
              "\n",
              "    .dataframe tbody tr th {\n",
              "        vertical-align: top;\n",
              "    }\n",
              "\n",
              "    .dataframe thead th {\n",
              "        text-align: right;\n",
              "    }\n",
              "</style>\n",
              "<table border=\"1\" class=\"dataframe\">\n",
              "  <thead>\n",
              "    <tr style=\"text-align: right;\">\n",
              "      <th></th>\n",
              "      <th>P</th>\n",
              "      <th>S</th>\n",
              "      <th>L</th>\n",
              "      <th>D</th>\n",
              "      <th>HV</th>\n",
              "    </tr>\n",
              "  </thead>\n",
              "  <tbody>\n",
              "    <tr>\n",
              "      <th>count</th>\n",
              "      <td>73.000000</td>\n",
              "      <td>73.000000</td>\n",
              "      <td>73.000000</td>\n",
              "      <td>73.000000</td>\n",
              "      <td>73.000000</td>\n",
              "    </tr>\n",
              "    <tr>\n",
              "      <th>mean</th>\n",
              "      <td>193.013699</td>\n",
              "      <td>840.979452</td>\n",
              "      <td>45.684932</td>\n",
              "      <td>5.561233</td>\n",
              "      <td>410.906849</td>\n",
              "    </tr>\n",
              "    <tr>\n",
              "      <th>std</th>\n",
              "      <td>108.107906</td>\n",
              "      <td>846.483607</td>\n",
              "      <td>8.948738</td>\n",
              "      <td>2.289946</td>\n",
              "      <td>225.770134</td>\n",
              "    </tr>\n",
              "    <tr>\n",
              "      <th>min</th>\n",
              "      <td>80.000000</td>\n",
              "      <td>55.600000</td>\n",
              "      <td>20.000000</td>\n",
              "      <td>2.340000</td>\n",
              "      <td>118.000000</td>\n",
              "    </tr>\n",
              "    <tr>\n",
              "      <th>25%</th>\n",
              "      <td>100.000000</td>\n",
              "      <td>250.000000</td>\n",
              "      <td>50.000000</td>\n",
              "      <td>2.590000</td>\n",
              "      <td>188.000000</td>\n",
              "    </tr>\n",
              "    <tr>\n",
              "      <th>50%</th>\n",
              "      <td>150.000000</td>\n",
              "      <td>500.000000</td>\n",
              "      <td>50.000000</td>\n",
              "      <td>5.400000</td>\n",
              "      <td>393.200000</td>\n",
              "    </tr>\n",
              "    <tr>\n",
              "      <th>75%</th>\n",
              "      <td>280.000000</td>\n",
              "      <td>1000.000000</td>\n",
              "      <td>50.000000</td>\n",
              "      <td>7.800000</td>\n",
              "      <td>540.000000</td>\n",
              "    </tr>\n",
              "    <tr>\n",
              "      <th>max</th>\n",
              "      <td>500.000000</td>\n",
              "      <td>5000.000000</td>\n",
              "      <td>50.000000</td>\n",
              "      <td>8.010000</td>\n",
              "      <td>980.300000</td>\n",
              "    </tr>\n",
              "  </tbody>\n",
              "</table>\n",
              "</div>"
            ],
            "text/plain": [
              "                P            S          L          D          HV\n",
              "count   73.000000    73.000000  73.000000  73.000000   73.000000\n",
              "mean   193.013699   840.979452  45.684932   5.561233  410.906849\n",
              "std    108.107906   846.483607   8.948738   2.289946  225.770134\n",
              "min     80.000000    55.600000  20.000000   2.340000  118.000000\n",
              "25%    100.000000   250.000000  50.000000   2.590000  188.000000\n",
              "50%    150.000000   500.000000  50.000000   5.400000  393.200000\n",
              "75%    280.000000  1000.000000  50.000000   7.800000  540.000000\n",
              "max    500.000000  5000.000000  50.000000   8.010000  980.300000"
            ]
          },
          "metadata": {
            "tags": []
          },
          "execution_count": 3
        }
      ]
    },
    {
      "cell_type": "markdown",
      "metadata": {
        "id": "lFVoj9tfSQJJ"
      },
      "source": [
        "\n",
        "Setting inputs - output:"
      ]
    },
    {
      "cell_type": "code",
      "metadata": {
        "colab": {
          "base_uri": "https://localhost:8080/",
          "height": 730
        },
        "id": "SVvdbKrdZIj5",
        "outputId": "2821cc91-17cb-4281-c501-917303b59e2e"
      },
      "source": [
        "from pandas.plotting import scatter_matrix\n",
        "#DISPLAY MATRIX - identificar correlacion entre variables\n",
        "import seaborn as sns\n",
        "sns.set()\n",
        "\n",
        "plt.rcParams[\"axes.grid\"] = False\n",
        "\n",
        "#pd.tools.plotting.scatter_matrix(df, alpha=0.2, c='red', hist_kwds={'color':['burlywood']})\n",
        "\n",
        "#scatter_matrix(data, alpha=0.2, marker='s', figsize = (12,12), color = 'blue')\n",
        "scatter_matrix(data, alpha=0.9,marker='s', figsize = (12,12),  c='red', hist_kwds={'color':['red']})\n",
        "\n",
        "warnings.filterwarnings(\"ignore\")"
      ],
      "execution_count": 12,
      "outputs": [
        {
          "output_type": "display_data",
          "data": {
            "image/png": "[encoded data removed]",
            "text/plain": [
              "<Figure size 864x864 with 25 Axes>"
            ]
          },
          "metadata": {
            "tags": []
          }
        }
      ]
    },
    {
      "cell_type": "code",
      "metadata": {
        "colab": {
          "base_uri": "https://localhost:8080/",
          "height": 417
        },
        "id": "HtbC81onC-Qo",
        "outputId": "572b4f63-e48b-4cd7-c69e-55dbda20da22"
      },
      "source": [
        "#fields = ['P', 'S', 'L',  'HD1',  'F', 'd' ]\n",
        "fields = ['P', 'S', 'L',  'D'  ]\n",
        "import seaborn as sns\n",
        "sns.set_theme(style=\"darkgrid\")\n",
        "\n",
        "fig = plt.figure()\n",
        "fig.set_size_inches((15,8))\n",
        "for i, field in enumerate(fields):\n",
        "  plt.subplot(3, 3, i + 1)\n",
        "  plt.plot(data[field], data['HV'], 'rs')\n",
        "  plt.xlabel(field)\n",
        "  plt.ylabel('HV')\n",
        "\n",
        "plt.tight_layout()"
      ],
      "execution_count": 14,
      "outputs": [
        {
          "output_type": "display_data",
          "data": {
            "image/png": "[encoded data removed]",
            "text/plain": [
              "<Figure size 1080x576 with 4 Axes>"
            ]
          },
          "metadata": {
            "tags": []
          }
        }
      ]
    },
    {
      "cell_type": "code",
      "metadata": {
        "id": "VJ_ob8PakPzf"
      },
      "source": [
        "#X=data[['P', 'S', 'L',  'HD1',  'F', 'd' ]]\n",
        "X=data[['P', 'S', 'L',  'D']]\n",
        "Y=data['HV'][:,None]"
      ],
      "execution_count": 13,
      "outputs": []
    },
    {
      "cell_type": "markdown",
      "metadata": {
        "id": "7o8zckSzFI7O"
      },
      "source": [
        "# Hardness prediction"
      ]
    },
    {
      "cell_type": "markdown",
      "metadata": {
        "id": "Q6pAiesfTDDU"
      },
      "source": [
        " Split data"
      ]
    },
    {
      "cell_type": "code",
      "metadata": {
        "colab": {
          "base_uri": "https://localhost:8080/"
        },
        "id": "HI3IlTeHTF_Z",
        "outputId": "82439aec-ba70-4625-b24c-0c3ca93951ee"
      },
      "source": [
        "from sklearn.model_selection import train_test_split\n",
        "\n",
        "X_train, X_test, y_train, y_test = train_test_split(X, Y, test_size=0.2, random_state=42)\n",
        "print('training samples:', X_train.shape[0],  ' test samples:', X_test.shape[0])"
      ],
      "execution_count": 15,
      "outputs": [
        {
          "output_type": "stream",
          "text": [
            "training samples: 58  test samples: 15\n"
          ],
          "name": "stdout"
        }
      ]
    },
    {
      "cell_type": "code",
      "metadata": {
        "id": "N9C38QmsAXm-"
      },
      "source": [
        "from sklearn.preprocessing import StandardScaler\n",
        "\n",
        "scaler = StandardScaler()\n",
        "X_train = scaler.fit_transform(X_train)\n",
        "X_test = scaler.transform(X_test)\n",
        "\n",
        "#y_train = scaler.fit_transform(y_train)\n",
        "#y_test = scaler.transform(y_test)\n"
      ],
      "execution_count": 16,
      "outputs": []
    },
    {
      "cell_type": "markdown",
      "metadata": {
        "id": "7Zk7lMoGhdFO"
      },
      "source": [
        "#Results:"
      ]
    },
    {
      "cell_type": "code",
      "metadata": {
        "id": "zNL_O3xVwKpR"
      },
      "source": [
        "from lazypredict.Supervised import LazyRegressor\n",
        "from sklearn.utils import shuffle"
      ],
      "execution_count": 17,
      "outputs": []
    },
    {
      "cell_type": "code",
      "metadata": {
        "colab": {
          "base_uri": "https://localhost:8080/"
        },
        "id": "gf5o7CPSwQaT",
        "outputId": "2d82da0c-b08f-4197-c107-7796bb81b491"
      },
      "source": [
        "from sklearn.metrics import mean_absolute_error as MAE\n",
        "reg = LazyRegressor(verbose=0,ignore_warnings=False, custom_metric=None)\n",
        "models,predictions = reg.fit(X_train, X_test, y_train, y_test)\n",
        "\n",
        "print(models)"
      ],
      "execution_count": 18,
      "outputs": [
        {
          "output_type": "stream",
          "text": [
            "100%|██████████| 42/42 [00:01<00:00, 29.84it/s]\n"
          ],
          "name": "stderr"
        },
        {
          "output_type": "stream",
          "text": [
            "                               Adjusted R-Squared  ...  Time Taken\n",
            "Model                                              ...            \n",
            "GradientBoostingRegressor                    0.92  ...        0.06\n",
            "RandomForestRegressor                        0.88  ...        0.18\n",
            "BaggingRegressor                             0.85  ...        0.03\n",
            "XGBRegressor                                 0.84  ...        0.11\n",
            "AdaBoostRegressor                            0.80  ...        0.08\n",
            "ExtraTreesRegressor                          0.78  ...        0.10\n",
            "DecisionTreeRegressor                        0.71  ...        0.01\n",
            "ExtraTreeRegressor                           0.67  ...        0.01\n",
            "KNeighborsRegressor                          0.22  ...        0.02\n",
            "HuberRegressor                              -0.06  ...        0.03\n",
            "OrthogonalMatchingPursuitCV                 -0.10  ...        0.02\n",
            "OrthogonalMatchingPursuit                   -0.10  ...        0.01\n",
            "TransformedTargetRegressor                  -0.11  ...        0.01\n",
            "LinearRegression                            -0.11  ...        0.01\n",
            "Lars                                        -0.11  ...        0.01\n",
            "SGDRegressor                                -0.11  ...        0.01\n",
            "Ridge                                       -0.11  ...        0.01\n",
            "Lasso                                       -0.12  ...        0.01\n",
            "PoissonRegressor                            -0.13  ...        0.01\n",
            "LassoLars                                   -0.14  ...        0.02\n",
            "RidgeCV                                     -0.15  ...        0.01\n",
            "HistGradientBoostingRegressor               -0.18  ...        0.05\n",
            "LGBMRegressor                               -0.18  ...        0.04\n",
            "ElasticNet                                  -0.21  ...        0.01\n",
            "LassoCV                                     -0.22  ...        0.08\n",
            "GammaRegressor                              -0.24  ...        0.01\n",
            "LarsCV                                      -0.24  ...        0.02\n",
            "LassoLarsCV                                 -0.24  ...        0.02\n",
            "PassiveAggressiveRegressor                  -0.25  ...        0.01\n",
            "ElasticNetCV                                -0.25  ...        0.07\n",
            "LassoLarsIC                                 -0.25  ...        0.01\n",
            "GeneralizedLinearRegressor                  -0.26  ...        0.02\n",
            "TweedieRegressor                            -0.26  ...        0.01\n",
            "BayesianRidge                               -0.27  ...        0.01\n",
            "NuSVR                                       -0.40  ...        0.01\n",
            "SVR                                         -0.41  ...        0.02\n",
            "DummyRegressor                              -0.48  ...        0.01\n",
            "RANSACRegressor                             -0.48  ...        0.04\n",
            "LinearSVR                                   -2.53  ...        0.01\n",
            "MLPRegressor                                -3.24  ...        0.14\n",
            "KernelRidge                                 -4.00  ...        0.01\n",
            "GaussianProcessRegressor               -893847.05  ...        0.02\n",
            "\n",
            "[42 rows x 4 columns]\n"
          ],
          "name": "stdout"
        }
      ]
    },
    {
      "cell_type": "markdown",
      "metadata": {
        "id": "hkMQ_W07zri6"
      },
      "source": [
        "# XGB"
      ]
    },
    {
      "cell_type": "code",
      "metadata": {
        "id": "rLTTuAFyzJeP"
      },
      "source": [
        "import pickle\n",
        "import xgboost as xgb\n",
        "\n",
        "xgbr = xgb.XGBRegressor(base_score=0.5, booster='gbtree', colsample_bylevel=1,\n",
        "             colsample_bynode=1, colsample_bytree=1, gamma=0,\n",
        "             importance_type='gain', learning_rate=0.1, max_delta_step=0,\n",
        "             max_depth=5, min_child_weight=1, missing=None, n_estimators=10000,\n",
        "             n_jobs=1, nthread=None, objective='reg:linear', random_state=42,\n",
        "             reg_alpha=0, reg_lambda=0.1, scale_pos_weight=1, seed=None,\n",
        "             silent=None, subsample=1, verbosity=0)\n",
        "xgbr.fit(X_train, y_train)\n",
        "y_pred = xgbr.predict(X_test)"
      ],
      "execution_count": 19,
      "outputs": []
    },
    {
      "cell_type": "code",
      "metadata": {
        "colab": {
          "base_uri": "https://localhost:8080/"
        },
        "id": "saBkb2to1tVK",
        "outputId": "ba8d92da-64a3-4a3d-bfed-28cf81906d38"
      },
      "source": [
        "score = xgbr.score(X_train, y_train)  \n",
        "print(\"Training score: \", score)"
      ],
      "execution_count": 20,
      "outputs": [
        {
          "output_type": "stream",
          "text": [
            "Training score:  0.9999999998872231\n"
          ],
          "name": "stdout"
        }
      ]
    },
    {
      "cell_type": "code",
      "metadata": {
        "colab": {
          "base_uri": "https://localhost:8080/",
          "height": 562
        },
        "id": "P-auJlXw2D8o",
        "outputId": "38fcfd64-0fa6-4b68-d352-d82072162e5c"
      },
      "source": [
        "print(\"-XGBRegressor -\")\n",
        "print(\"------------------\")\n",
        "y_star_train = xgbr.predict(X_train)\n",
        "\n",
        "#EVAL\n",
        "from sklearn.metrics import mean_squared_error as MSE\n",
        "MSE_test = MSE(y_test, y_pred)\n",
        "\n",
        "#Plots\n",
        "sns.set_theme(style=\"whitegrid\")\n",
        "plt.rcParams[\"axes.grid\"] = False\n",
        "fig = plt.figure()\n",
        "fig.set_size_inches((9,6))\n",
        "import matplotlib.pyplot as plt\n",
        "plt.rcParams.update({'font.size': 30})\n",
        "\n",
        "plt.plot(y_train, y_star_train, 'bx', label = 'Train')\n",
        "plt.plot([y_star_train.min(), y_star_train.max()], [y_star_train.min(), y_star_train.max()], 'k--')\n",
        "plt.plot(y_test, y_pred, 'ro', label = 'Test')\n",
        "plt.plot([y_pred.min(), y_pred.max()], [y_pred.min(), y_pred.max()], 'k--')\n",
        "plt.legend()\n",
        "plt.ylabel('Predicted melting efficiency')\n",
        "plt.xlabel('Measured melting efficiency')\n",
        "plt.title(\"Extreme Gradient boosting regressor\")\n",
        "\n",
        "print('MSE test:', MSE_test)\n",
        "\n",
        "print()\n",
        "\n",
        "from sklearn.metrics import r2_score\n",
        "from sklearn.metrics import mean_absolute_error as MAE \n",
        "\n",
        "#METRICS: R2, RMSE, MAE\n",
        "R2=r2_score(y_test, y_pred)\n",
        "print('R2: ',R2)\n",
        "RMSE = np.sqrt(MSE_test)\n",
        "print(\"RMSE: \", RMSE)\n",
        "MAE = MAE(y_test, y_pred)\n",
        "print(\"MAE: \", MAE)\n",
        "IM=np.sqrt(((1-R2)**2) + (RMSE**2) + (MAE**2) )\n",
        "print(\"IM: \", IM)\n",
        "print()"
      ],
      "execution_count": 21,
      "outputs": [
        {
          "output_type": "stream",
          "text": [
            "-XGBRegressor -\n",
            "------------------\n",
            "MSE test: 4103.156492967152\n",
            "\n",
            "R2:  0.9335709301243099\n",
            "RMSE:  64.05588570121525\n",
            "MAE:  42.28572387695312\n",
            "IM:  76.75443537403164\n",
            "\n"
          ],
          "name": "stdout"
        },
        {
          "output_type": "display_data",
          "data": {
            "image/png": "[encoded data removed]",
            "text/plain": [
              "<Figure size 648x432 with 1 Axes>"
            ]
          },
          "metadata": {
            "tags": []
          }
        }
      ]
    },
    {
      "cell_type": "code",
      "metadata": {
        "id": "hY5StbfZukbo"
      },
      "source": [
        "# initialize model and define the space of the hyperparameters to\n",
        "# perform the grid-search over\n",
        "model = xgbr\n",
        "n_estimators = [10, 100, 1000, 10000]\n",
        "learning_rate = [0.1, 0.01, 1e-3]\n",
        "max_depth = [5, 20, 50, 100]\n",
        "reg_lambda = [0.001, 0.01, 0.1, 1, 10]\n",
        "\n",
        "\n",
        "grid = dict(n_estimators=n_estimators, learning_rate=learning_rate, max_depth=max_depth )"
      ],
      "execution_count": null,
      "outputs": []
    },
    {
      "cell_type": "code",
      "metadata": {
        "colab": {
          "base_uri": "https://localhost:8080/"
        },
        "id": "8bhkrvScvA2q",
        "outputId": "9f577676-be6a-4307-b308-6023fac5b340"
      },
      "source": [
        "# initialize a cross-validation fold and perform a randomized-search\n",
        "# to tune the hyperparameters\n",
        "print(\"[INFO] grid searching over the hyperparameters...\")\n",
        "cvFold = RepeatedKFold(n_splits=10, n_repeats=3, random_state=42)\n",
        "randomSearch = RandomizedSearchCV(estimator=model, n_jobs=-1,\n",
        "\tcv=cvFold, param_distributions=grid,\n",
        "\tscoring=\"neg_mean_squared_error\")\n",
        "searchResults = randomSearch.fit(X_train, y_train)\n",
        "# extract the best model and evaluate it\n",
        "print(\"[INFO] evaluating...\")\n",
        "bestModel = searchResults.best_estimator_\n",
        "print(\"R2: {:.2f}\".format(bestModel.score(X_test, y_test)))\n",
        "print(bestModel)"
      ],
      "execution_count": null,
      "outputs": [
        {
          "output_type": "stream",
          "text": [
            "[INFO] grid searching over the hyperparameters...\n",
            "[INFO] evaluating...\n",
            "R2: 0.18\n",
            "XGBRegressor(base_score=0.5, booster='gbtree', colsample_bylevel=1,\n",
            "             colsample_bynode=1, colsample_bytree=1, gamma=0, gpu_id=-1,\n",
            "             importance_type='gain', interaction_constraints='',\n",
            "             learning_rate=0.1, max_delta_step=0, max_depth=20,\n",
            "             min_child_weight=1, missing=None, monotone_constraints='()',\n",
            "             n_estimators=100, n_jobs=1, nthread=1, num_parallel_tree=1,\n",
            "             objective='reg:linear', random_state=1234, reg_alpha=0,\n",
            "             reg_lambda=0.1, scale_pos_weight=1, seed=1234, silent=None,\n",
            "             subsample=1, tree_method='exact', validate_parameters=1,\n",
            "             verbosity=0)\n"
          ],
          "name": "stdout"
        }
      ]
    },
    {
      "cell_type": "code",
      "metadata": {
        "colab": {
          "base_uri": "https://localhost:8080/"
        },
        "id": "0z6iA4Tv5y6c",
        "outputId": "9ac736b7-ca9a-406e-8301-ae8731305e4a"
      },
      "source": [
        "# get importance\n",
        "\n",
        "importance = xgbr.feature_importances_\n",
        "# summarize feature importance\n",
        "\n",
        "for i,v in enumerate(importance):\n",
        "\tprint('Feature: %0d, Score: %.5f' % (i,v))\n",
        "# plot feature importance\n"
      ],
      "execution_count": 22,
      "outputs": [
        {
          "output_type": "stream",
          "text": [
            "Feature: 0, Score: 0.29136\n",
            "Feature: 1, Score: 0.13245\n",
            "Feature: 2, Score: 0.04947\n",
            "Feature: 3, Score: 0.52673\n"
          ],
          "name": "stdout"
        }
      ]
    },
    {
      "cell_type": "code",
      "metadata": {
        "colab": {
          "base_uri": "https://localhost:8080/",
          "height": 322
        },
        "id": "f5jXaBcveTeJ",
        "outputId": "915e4173-9c5a-41db-b97d-452b797542b0"
      },
      "source": [
        "# Create lists for the plot\n",
        "import seaborn as sns\n",
        "sns.set()\n",
        "\n",
        "#plt.rcParams[\"axes.grid\"] = False\n",
        "\n",
        "labels = ['P', 'S', 'L',  'D' ]\n",
        "x_pos = np.arange(len(labels))\n",
        "\n",
        "fig, ax = plt.subplots()\n",
        "fig.set_size_inches((8,5))\n",
        "\n",
        "ax.bar(x_pos, importance, align='center', alpha=0.95, color='red')\n",
        "ax.set_ylabel('Features Importance')\n",
        "ax.set_xticks(x_pos)\n",
        "ax.set_xticklabels(labels)\n",
        "#ax.set_title('Features Importance Analysis')\n",
        "ax.yaxis.grid(True)\n"
      ],
      "execution_count": 24,
      "outputs": [
        {
          "output_type": "display_data",
          "data": {
            "image/png": "[encoded data removed]",
            "text/plain": [
              "<Figure size 576x360 with 1 Axes>"
            ]
          },
          "metadata": {
            "tags": []
          }
        }
      ]
    },
    {
      "cell_type": "markdown",
      "metadata": {
        "id": "lZ2wVx6IxyZb"
      },
      "source": [
        "#GBR"
      ]
    },
    {
      "cell_type": "code",
      "metadata": {
        "colab": {
          "base_uri": "https://localhost:8080/"
        },
        "id": "Vsko3aNry1kl",
        "outputId": "803f4f04-2da8-4db2-e34a-23ab3a1f00f4"
      },
      "source": [
        "from sklearn.ensemble import GradientBoostingRegressor\n",
        "#KERNEL\n",
        "#GBR=GradientBoostingRegressor(n_estimators=100, random_state=0)\n",
        "GBR=GradientBoostingRegressor(n_estimators=5000, random_state=42, learning_rate=0.1 )\n",
        "\n",
        "#START TRAINING\n",
        "GBR.fit(X_train, y_train)\n",
        "#PREDICTION\n",
        "y_pred=GBR.predict(X_test)\n",
        "\n",
        "#EVAL\n",
        "from sklearn.metrics import mean_squared_error as MSE\n",
        "MSE_test = MSE(y_test, y_pred)\n",
        "\n",
        " \n",
        "print(\"-Gradient boosting regressor-\")\n",
        "print(\"-----------------------------\")\n",
        "\n",
        "print('MSE test:', MSE_test)\n",
        "\n",
        "print()\n",
        "\n",
        "from sklearn.metrics import r2_score\n",
        "from sklearn.metrics import mean_absolute_error as MAE \n",
        "\n",
        "#METRICS: R2, RMSE, MAE\n",
        "R2=r2_score(y_test, y_pred)\n",
        "print('R2: ',R2)\n",
        "RMSE = np.sqrt(MSE_test)\n",
        "print(\"RMSE: \", RMSE)\n",
        "MAE = MAE(y_test, y_pred)\n",
        "print(\"MAE: \", MAE)\n",
        "IM=np.sqrt(((1-R2)**2) + (RMSE**2) + (MAE**2) )\n",
        "print(\"IM: \", IM)\n",
        "print()\n"
      ],
      "execution_count": 25,
      "outputs": [
        {
          "output_type": "stream",
          "text": [
            "-Gradient boosting regressor-\n",
            "-----------------------------\n",
            "MSE test: 3085.2547560125126\n",
            "\n",
            "R2:  0.9500505027963843\n",
            "RMSE:  55.54506959229156\n",
            "MAE:  43.84875656242936\n",
            "IM:  70.76701705622455\n",
            "\n"
          ],
          "name": "stdout"
        }
      ]
    },
    {
      "cell_type": "markdown",
      "metadata": {
        "id": "z-I-8DZZnl5K"
      },
      "source": [
        "# ADA"
      ]
    },
    {
      "cell_type": "code",
      "metadata": {
        "colab": {
          "base_uri": "https://localhost:8080/"
        },
        "id": "NituWLLikcek",
        "outputId": "e4ba72d6-f8e0-43ec-9e1f-3bd62657c891"
      },
      "source": [
        "from sklearn.ensemble import AdaBoostRegressor\n",
        "\n",
        "print(\" AdaBoost -\")\n",
        "print(\"------------------\")\n",
        "\n",
        "Ada = AdaBoostRegressor(random_state=32, n_estimators=1000)\n",
        "#START TRAINING\n",
        "Ada.fit(X_train,y_train)\n",
        "#PREDICTION\n",
        "y_pred=Ada.predict(X_test)\n",
        "\n",
        "#EVAL\n",
        "from sklearn.metrics import mean_squared_error as MSE\n",
        "MSE_test = MSE(y_test, y_pred)\n",
        "\n",
        "print('MSE test:', MSE_test)\n",
        "\n",
        "print()\n",
        "\n",
        "from sklearn.metrics import r2_score\n",
        "from sklearn.metrics import mean_absolute_error as MAE \n",
        "\n",
        "#METRICS: R2, RMSE, MAE\n",
        "R2=r2_score(y_test, y_pred)\n",
        "print('R2: ',R2)\n",
        "RMSE = np.sqrt(MSE_test)\n",
        "print(\"RMSE: \", RMSE)\n",
        "MAE = MAE(y_test, y_pred)\n",
        "print(\"MAE: \", MAE)\n",
        "IM=np.sqrt(((1-R2)**2) + (RMSE**2) + (MAE**2) )\n",
        "print(\"IM: \", IM)\n",
        "print()"
      ],
      "execution_count": 26,
      "outputs": [
        {
          "output_type": "stream",
          "text": [
            " AdaBoost -\n",
            "------------------\n",
            "MSE test: 7234.845559551198\n",
            "\n",
            "R2:  0.8828696731311583\n",
            "RMSE:  85.05789533929932\n",
            "MAE:  70.81435131984252\n",
            "IM:  110.6776022143358\n",
            "\n"
          ],
          "name": "stdout"
        }
      ]
    },
    {
      "cell_type": "markdown",
      "metadata": {
        "id": "ttmqN0XXnq8H"
      },
      "source": [
        "# RFR"
      ]
    },
    {
      "cell_type": "code",
      "metadata": {
        "colab": {
          "base_uri": "https://localhost:8080/"
        },
        "id": "CP_A-XGEntxU",
        "outputId": "9fb65fa6-f0a4-48f1-dfee-a6ad2e4600fe"
      },
      "source": [
        "from sklearn.ensemble import RandomForestRegressor\n",
        "#KERNEL\n",
        "RFR=RandomForestRegressor(n_estimators=2000,max_depth=20)\n",
        "\n",
        "#START TRAINING\n",
        "RFR.fit(X_train,y_train)\n",
        "#PREDICTION\n",
        "y_pred=RFR.predict(X_test)\n",
        "\n",
        "#EVAL\n",
        "from sklearn.metrics import mean_squared_error as MSE\n",
        "MSE_test = MSE(y_test, y_pred)\n",
        "\n",
        "print(\"-----------------------------\")\n",
        "\n",
        "print('MSE test:', MSE_test)\n",
        "\n",
        "print()\n",
        "\n",
        "from sklearn.metrics import r2_score\n",
        "from sklearn.metrics import mean_absolute_error as MAE \n",
        "\n",
        "#METRICS: R2, RMSE, MAE\n",
        "R2=r2_score(y_test, y_pred)\n",
        "print('R2: ',R2)\n",
        "RMSE = np.sqrt(MSE_test)\n",
        "print(\"RMSE: \", RMSE)\n",
        "MAE = MAE(y_test, y_pred)\n",
        "print(\"MAE: \", MAE)\n",
        "IM=np.sqrt(((1-R2)**2) + (RMSE**2) + (MAE**2) )\n",
        "print(\"IM: \", IM)\n",
        "print()"
      ],
      "execution_count": 27,
      "outputs": [
        {
          "output_type": "stream",
          "text": [
            "-----------------------------\n",
            "MSE test: 6219.076780127079\n",
            "\n",
            "R2:  0.8993147137581889\n",
            "RMSE:  78.86112337601512\n",
            "MAE:  53.70985999999889\n",
            "IM:  95.4140240157254\n",
            "\n"
          ],
          "name": "stdout"
        }
      ]
    },
    {
      "cell_type": "markdown",
      "metadata": {
        "id": "ZOYI1QkauabG"
      },
      "source": [
        "## Comparisson"
      ]
    },
    {
      "cell_type": "code",
      "metadata": {
        "colab": {
          "base_uri": "https://localhost:8080/",
          "height": 411
        },
        "id": "DH0SyeJQ04d1",
        "outputId": "c0c5f86b-2329-429b-f8c1-5a5cdf4d6559"
      },
      "source": [
        "import seaborn as sns\n",
        "sns.set()\n",
        "\n",
        "\n",
        "y1=xgbr.predict(X_test)\n",
        "y2=GBR.predict(X_test)\n",
        "y3=Ada.predict(X_test)\n",
        "y4=RFR.predict(X_test)\n",
        "\n",
        "#Plots\n",
        "#sns.set_theme(style=\"whitegrid\")\n",
        "#sns.set_theme(style=\"darkgrid\")\n",
        "plt.rcParams[\"axes.grid\"] = True\n",
        "fig = plt.figure()\n",
        "fig.set_size_inches((9,6))\n",
        "import matplotlib.pyplot as plt\n",
        "plt.rcParams.update({'font.size': 30})\n",
        "\n",
        "plt.plot(y_train, y_star_train, 'mx', label = 'Train')\n",
        "plt.plot([y_star_train.min(), y_star_train.max()], [y_star_train.min(), y_star_train.max()], 'k--')\n",
        "plt.plot(y_test, y1, 'rs', label = 'XGBR')\n",
        "plt.plot(y_test, y2, 'g^', label = 'GBR')\n",
        "plt.plot(y_test, y3, 'bo', label = 'Adaboost')\n",
        "plt.plot(y_test, y4, 'yp', label = 'RFR')\n",
        "\n",
        "plt.legend()\n",
        "plt.ylabel('Predicted microhardness (HV)')\n",
        "plt.xlabel('Measured microhardness (HV)')\n",
        "#plt.title(\"Machine learning regressors\")\n",
        "print()"
      ],
      "execution_count": 47,
      "outputs": [
        {
          "output_type": "stream",
          "text": [
            "\n"
          ],
          "name": "stdout"
        },
        {
          "output_type": "display_data",
          "data": {
            "image/png": "[encoded data removed]",
            "text/plain": [
              "<Figure size 648x432 with 1 Axes>"
            ]
          },
          "metadata": {
            "tags": []
          }
        }
      ]
    },
    {
      "cell_type": "markdown",
      "metadata": {
        "id": "cNDmSIe0TMW4"
      },
      "source": [
        "CROSS-VALIDATION"
      ]
    },
    {
      "cell_type": "code",
      "metadata": {
        "colab": {
          "base_uri": "https://localhost:8080/"
        },
        "id": "HIEmJUZF69lo",
        "outputId": "8bfabab9-7a4f-41ca-f296-b6e45e409b26"
      },
      "source": [
        "\n",
        "from sklearn.metrics import r2_score\n",
        "from sklearn.metrics import mean_squared_error as MSE\n",
        "from sklearn.metrics import mean_absolute_error \n",
        "from sklearn.model_selection import cross_val_score as CV\n",
        "\n",
        "import warnings\n",
        "warnings.filterwarnings('ignore')\n",
        "\n",
        "models = [ xgbr,  GBR, Ada, RFR ]\n",
        "labels = ['XGBR',  'GBR', 'Adaboost', 'RFR']\n",
        "IMS = []\n",
        "\n",
        "print(\"--------------------------------------------------------------\")\n",
        "print(\"%5s | %5s | %5s | %5s | %5s \" % (\"ML algorithm\",  \"CV-R2\", \"CV-MSE\", \"CV-MAE\", \"IM\"))\n",
        "print(\"--------------------------------------------------------------\")\n",
        "\n",
        "for mod, label in zip( models, labels): \n",
        "  #y_star = mod.predict(X)\n",
        " \n",
        "  scoreR2 = CV(mod, X_train, y_train, cv=5, scoring='r2')\n",
        "  #print(-1*scoreR2)\n",
        "  scoreMSE = CV(mod, X_train, y_train, cv=5, scoring='neg_mean_squared_error')\n",
        "  #print(-1*scoreMSE)\n",
        "  scoreMAE = CV(mod, X_train, y_train, cv=5, scoring='neg_mean_absolute_error')\n",
        "  #print(-1*scoreMAE)\n",
        "  IM=np.sqrt(((1-scoreR2)**2) + (scoreMSE) + (scoreMAE**2) )\n",
        "  #print(\"IM: \", IM)\n",
        "  \n",
        " \n",
        "  print(\"%15s | %.4f | %.4f | %.4f | %.4f \" % (label,  scoreR2.mean(), -1*scoreMSE.mean(), -1*scoreMAE.mean() , np.sqrt(((1-scoreR2.mean())**2) + (-1*scoreMSE.mean()) + (scoreMAE.mean()**2) )))\n",
        "print(\"--------------------------------------------------------------\")"
      ],
      "execution_count": 30,
      "outputs": [
        {
          "output_type": "stream",
          "text": [
            "--------------------------------------------------------------\n",
            "ML algorithm | CV-R2 | CV-MSE | CV-MAE |    IM \n",
            "--------------------------------------------------------------\n",
            "           XGBR | 0.5557 | 16111.4338 | 87.3516 | 154.0842 \n",
            "            GBR | 0.5909 | 14549.9751 | 85.8374 | 148.0480 \n",
            "       Adaboost | 0.5410 | 18136.2949 | 104.4257 | 170.4149 \n",
            "            RFR | 0.5514 | 17097.9556 | 95.2713 | 161.7862 \n",
            "--------------------------------------------------------------\n"
          ],
          "name": "stdout"
        }
      ]
    }
  ]
}