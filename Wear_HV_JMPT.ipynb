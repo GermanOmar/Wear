{
  "nbformat": 4,
  "nbformat_minor": 0,
  "metadata": {
    "accelerator": "GPU",
    "colab": {
      "name": "Wear-HV-JMPT.ipynb",
      "provenance": [],
      "collapsed_sections": [],
      "toc_visible": true,
      "mount_file_id": "1AVhNreVvb3V43mwDnostdWyl9cHlYSxt",
      "authorship_tag": "ABX9TyMbbpzcxuCOPX889gMqEW3c",
      "include_colab_link": true
    },
    "kernelspec": {
      "display_name": "Python 3",
      "name": "python3"
    }
  },
  "cells": [
    {
      "cell_type": "markdown",
      "metadata": {
        "id": "view-in-github",
        "colab_type": "text"
      },
      "source": [
        "<a href=\"https://colab.research.google.com/github/GermanOmar/Wear/blob/master/Wear_HV_JMPT.ipynb\" target=\"_parent\"><img src=\"https://colab.research.google.com/assets/colab-badge.svg\" alt=\"Open In Colab\"/></a>"
      ]
    },
    {
      "cell_type": "markdown",
      "metadata": {
        "id": "rqI9VDT0RdWk"
      },
      "source": [
        "# A machine learning approach for microhardness prediction and sliding wear evaluation in materials manufactured by laser powder bed fusion"
      ]
    },
    {
      "cell_type": "markdown",
      "metadata": {
        "id": "2OOvQQeg7d0g"
      },
      "source": [
        "<a href=\"https://ibb.co/3vvDZtg\"><img src=\"https://i.ibb.co/Nrr8Bwc/Tests2-TIFF.png\" WIDTH=\"620\" HEIGHT=\"360\"  border=\"0\"></a>"
      ]
    },
    {
      "cell_type": "markdown",
      "metadata": {
        "id": "3-T6Z2bdRvSm"
      },
      "source": [
        " Libraries"
      ]
    },
    {
      "cell_type": "code",
      "metadata": {
        "id": "ltCb1Iw6Raez"
      },
      "source": [
        "import numpy as np\n",
        "import pandas as pd\n",
        "from matplotlib import pyplot as plt\n",
        "from sklearn import preprocessing\n",
        "import warnings\n",
        "warnings.filterwarnings(\"ignore\")"
      ],
      "execution_count": null,
      "outputs": []
    },
    {
      "cell_type": "code",
      "metadata": {
        "colab": {
          "base_uri": "https://localhost:8080/",
          "height": 1000
        },
        "id": "SLSSHb-SwB0n",
        "outputId": "14d58962-fdb7-4e58-e6e7-b182fe1e529a"
      },
      "source": [
        "!pip install lazypredict\n",
        "warnings.filterwarnings(\"ignore\")"
      ],
      "execution_count": null,
      "outputs": [
        {
          "output_type": "stream",
          "text": [
            "Collecting lazypredict\n",
            "  Downloading lazypredict-0.2.9-py2.py3-none-any.whl (12 kB)\n",
            "Collecting lightgbm==2.3.1\n",
            "  Downloading lightgbm-2.3.1-py2.py3-none-manylinux1_x86_64.whl (1.2 MB)\n",
            "\u001b[K     |████████████████████████████████| 1.2 MB 8.5 MB/s \n",
            "\u001b[?25hRequirement already satisfied: six==1.15.0 in /usr/local/lib/python3.7/dist-packages (from lazypredict) (1.15.0)\n",
            "Collecting scipy==1.5.4\n",
            "  Downloading scipy-1.5.4-cp37-cp37m-manylinux1_x86_64.whl (25.9 MB)\n",
            "\u001b[K     |████████████████████████████████| 25.9 MB 59.4 MB/s \n",
            "\u001b[?25hCollecting pandas==1.0.5\n",
            "  Downloading pandas-1.0.5-cp37-cp37m-manylinux1_x86_64.whl (10.1 MB)\n",
            "\u001b[K     |████████████████████████████████| 10.1 MB 20.7 MB/s \n",
            "\u001b[?25hCollecting numpy==1.19.1\n",
            "  Downloading numpy-1.19.1-cp37-cp37m-manylinux2010_x86_64.whl (14.5 MB)\n",
            "\u001b[K     |████████████████████████████████| 14.5 MB 7.7 kB/s \n",
            "\u001b[?25hCollecting pytest==5.4.3\n",
            "  Downloading pytest-5.4.3-py3-none-any.whl (248 kB)\n",
            "\u001b[K     |████████████████████████████████| 248 kB 52.2 MB/s \n",
            "\u001b[?25hCollecting joblib==1.0.0\n",
            "  Downloading joblib-1.0.0-py3-none-any.whl (302 kB)\n",
            "\u001b[K     |████████████████████████████████| 302 kB 60.4 MB/s \n",
            "\u001b[?25hCollecting PyYAML==5.3.1\n",
            "  Downloading PyYAML-5.3.1.tar.gz (269 kB)\n",
            "\u001b[K     |████████████████████████████████| 269 kB 60.4 MB/s \n",
            "\u001b[?25hCollecting tqdm==4.56.0\n",
            "  Downloading tqdm-4.56.0-py2.py3-none-any.whl (72 kB)\n",
            "\u001b[K     |████████████████████████████████| 72 kB 1.1 MB/s \n",
            "\u001b[?25hCollecting scikit-learn==0.23.1\n",
            "  Downloading scikit_learn-0.23.1-cp37-cp37m-manylinux1_x86_64.whl (6.8 MB)\n",
            "\u001b[K     |████████████████████████████████| 6.8 MB 16.4 MB/s \n",
            "\u001b[?25hCollecting xgboost==1.1.1\n",
            "  Downloading xgboost-1.1.1-py3-none-manylinux2010_x86_64.whl (127.6 MB)\n",
            "\u001b[K     |████████████████████████████████| 127.6 MB 8.7 kB/s \n",
            "\u001b[?25hRequirement already satisfied: click==7.1.2 in /usr/local/lib/python3.7/dist-packages (from lazypredict) (7.1.2)\n",
            "Requirement already satisfied: pytz>=2017.2 in /usr/local/lib/python3.7/dist-packages (from pandas==1.0.5->lazypredict) (2018.9)\n",
            "Requirement already satisfied: python-dateutil>=2.6.1 in /usr/local/lib/python3.7/dist-packages (from pandas==1.0.5->lazypredict) (2.8.1)\n",
            "Requirement already satisfied: attrs>=17.4.0 in /usr/local/lib/python3.7/dist-packages (from pytest==5.4.3->lazypredict) (21.2.0)\n",
            "Requirement already satisfied: packaging in /usr/local/lib/python3.7/dist-packages (from pytest==5.4.3->lazypredict) (21.0)\n",
            "Requirement already satisfied: py>=1.5.0 in /usr/local/lib/python3.7/dist-packages (from pytest==5.4.3->lazypredict) (1.10.0)\n",
            "Requirement already satisfied: more-itertools>=4.0.0 in /usr/local/lib/python3.7/dist-packages (from pytest==5.4.3->lazypredict) (8.8.0)\n",
            "Collecting pluggy<1.0,>=0.12\n",
            "  Downloading pluggy-0.13.1-py2.py3-none-any.whl (18 kB)\n",
            "Requirement already satisfied: wcwidth in /usr/local/lib/python3.7/dist-packages (from pytest==5.4.3->lazypredict) (0.2.5)\n",
            "Requirement already satisfied: importlib-metadata>=0.12 in /usr/local/lib/python3.7/dist-packages (from pytest==5.4.3->lazypredict) (4.6.1)\n",
            "Collecting threadpoolctl>=2.0.0\n",
            "  Downloading threadpoolctl-2.2.0-py3-none-any.whl (12 kB)\n",
            "Requirement already satisfied: zipp>=0.5 in /usr/local/lib/python3.7/dist-packages (from importlib-metadata>=0.12->pytest==5.4.3->lazypredict) (3.5.0)\n",
            "Requirement already satisfied: typing-extensions>=3.6.4 in /usr/local/lib/python3.7/dist-packages (from importlib-metadata>=0.12->pytest==5.4.3->lazypredict) (3.7.4.3)\n",
            "Requirement already satisfied: pyparsing>=2.0.2 in /usr/local/lib/python3.7/dist-packages (from packaging->pytest==5.4.3->lazypredict) (2.4.7)\n",
            "Building wheels for collected packages: PyYAML\n",
            "  Building wheel for PyYAML (setup.py) ... \u001b[?25l\u001b[?25hdone\n",
            "  Created wheel for PyYAML: filename=PyYAML-5.3.1-cp37-cp37m-linux_x86_64.whl size=44636 sha256=dca374c5c3b184ced88fdbe620b45d8e47c0be20289ec5216fdaab34bb64275a\n",
            "  Stored in directory: /root/.cache/pip/wheels/5e/03/1e/e1e954795d6f35dfc7b637fe2277bff021303bd9570ecea653\n",
            "Successfully built PyYAML\n",
            "Installing collected packages: numpy, threadpoolctl, scipy, joblib, scikit-learn, pluggy, xgboost, tqdm, PyYAML, pytest, pandas, lightgbm, lazypredict\n",
            "  Attempting uninstall: numpy\n",
            "    Found existing installation: numpy 1.19.5\n",
            "    Uninstalling numpy-1.19.5:\n",
            "      Successfully uninstalled numpy-1.19.5\n",
            "  Attempting uninstall: scipy\n",
            "    Found existing installation: scipy 1.4.1\n",
            "    Uninstalling scipy-1.4.1:\n",
            "      Successfully uninstalled scipy-1.4.1\n",
            "  Attempting uninstall: joblib\n",
            "    Found existing installation: joblib 1.0.1\n",
            "    Uninstalling joblib-1.0.1:\n",
            "      Successfully uninstalled joblib-1.0.1\n",
            "  Attempting uninstall: scikit-learn\n",
            "    Found existing installation: scikit-learn 0.22.2.post1\n",
            "    Uninstalling scikit-learn-0.22.2.post1:\n",
            "      Successfully uninstalled scikit-learn-0.22.2.post1\n",
            "  Attempting uninstall: pluggy\n",
            "    Found existing installation: pluggy 0.7.1\n",
            "    Uninstalling pluggy-0.7.1:\n",
            "      Successfully uninstalled pluggy-0.7.1\n",
            "  Attempting uninstall: xgboost\n",
            "    Found existing installation: xgboost 0.90\n",
            "    Uninstalling xgboost-0.90:\n",
            "      Successfully uninstalled xgboost-0.90\n",
            "  Attempting uninstall: tqdm\n",
            "    Found existing installation: tqdm 4.41.1\n",
            "    Uninstalling tqdm-4.41.1:\n",
            "      Successfully uninstalled tqdm-4.41.1\n",
            "  Attempting uninstall: PyYAML\n",
            "    Found existing installation: PyYAML 3.13\n",
            "    Uninstalling PyYAML-3.13:\n",
            "      Successfully uninstalled PyYAML-3.13\n",
            "  Attempting uninstall: pytest\n",
            "    Found existing installation: pytest 3.6.4\n",
            "    Uninstalling pytest-3.6.4:\n",
            "      Successfully uninstalled pytest-3.6.4\n",
            "  Attempting uninstall: pandas\n",
            "    Found existing installation: pandas 1.1.5\n",
            "    Uninstalling pandas-1.1.5:\n",
            "      Successfully uninstalled pandas-1.1.5\n",
            "  Attempting uninstall: lightgbm\n",
            "    Found existing installation: lightgbm 2.2.3\n",
            "    Uninstalling lightgbm-2.2.3:\n",
            "      Successfully uninstalled lightgbm-2.2.3\n",
            "\u001b[31mERROR: pip's dependency resolver does not currently take into account all the packages that are installed. This behaviour is the source of the following dependency conflicts.\n",
            "tensorflow 2.5.0 requires numpy~=1.19.2, but you have numpy 1.19.1 which is incompatible.\n",
            "google-colab 1.0.0 requires pandas~=1.1.0; python_version >= \"3.0\", but you have pandas 1.0.5 which is incompatible.\n",
            "datascience 0.10.6 requires folium==0.2.1, but you have folium 0.8.3 which is incompatible.\n",
            "albumentations 0.1.12 requires imgaug<0.2.7,>=0.2.5, but you have imgaug 0.2.9 which is incompatible.\u001b[0m\n",
            "Successfully installed PyYAML-5.3.1 joblib-1.0.0 lazypredict-0.2.9 lightgbm-2.3.1 numpy-1.19.1 pandas-1.0.5 pluggy-0.13.1 pytest-5.4.3 scikit-learn-0.23.1 scipy-1.5.4 threadpoolctl-2.2.0 tqdm-4.56.0 xgboost-1.1.1\n"
          ],
          "name": "stdout"
        },
        {
          "output_type": "display_data",
          "data": {
            "application/vnd.colab-display-data+json": {
              "pip_warning": {
                "packages": [
                  "joblib",
                  "numpy",
                  "pandas",
                  "scipy",
                  "sklearn",
                  "xgboost"
                ]
              }
            }
          },
          "metadata": {
            "tags": []
          }
        }
      ]
    },
    {
      "cell_type": "markdown",
      "metadata": {
        "id": "SM_-phITCP5Q"
      },
      "source": [
        "Randomized search"
      ]
    },
    {
      "cell_type": "code",
      "metadata": {
        "id": "JXtz8RPXCOUJ"
      },
      "source": [
        "from sklearn.model_selection import RandomizedSearchCV\n",
        "from sklearn.model_selection import RepeatedKFold\n",
        "from sklearn.preprocessing import StandardScaler"
      ],
      "execution_count": null,
      "outputs": []
    },
    {
      "cell_type": "markdown",
      "metadata": {
        "id": "1Mbfb5c9yu5p"
      },
      "source": [
        " Upload database:"
      ]
    },
    {
      "cell_type": "code",
      "metadata": {
        "colab": {
          "base_uri": "https://localhost:8080/"
        },
        "id": "_V3jfdhPsEKW",
        "outputId": "5355879f-d1da-487e-c602-27dfbace3142"
      },
      "source": [
        "!git clone https://github.com/GermanOmar/Wear"
      ],
      "execution_count": null,
      "outputs": [
        {
          "output_type": "stream",
          "text": [
            "Cloning into 'Wear'...\n",
            "remote: Enumerating objects: 31, done.\u001b[K\n",
            "remote: Counting objects: 100% (31/31), done.\u001b[K\n",
            "remote: Compressing objects: 100% (30/30), done.\u001b[K\n",
            "remote: Total 31 (delta 12), reused 0 (delta 0), pack-reused 0\u001b[K\n",
            "Unpacking objects: 100% (31/31), done.\n"
          ],
          "name": "stdout"
        }
      ]
    },
    {
      "cell_type": "code",
      "metadata": {
        "colab": {
          "base_uri": "https://localhost:8080/",
          "height": 295
        },
        "id": "Yx-ovik8xxJx",
        "outputId": "3ef9fc84-d1de-499f-e5e4-1637ab1a9dea"
      },
      "source": [
        "#Experimental data\n",
        "data = pd.read_table('HV2.txt') \n",
        "data.describe()\n"
      ],
      "execution_count": null,
      "outputs": [
        {
          "output_type": "execute_result",
          "data": {
            "text/html": [
              "<div>\n",
              "<style scoped>\n",
              "    .dataframe tbody tr th:only-of-type {\n",
              "        vertical-align: middle;\n",
              "    }\n",
              "\n",
              "    .dataframe tbody tr th {\n",
              "        vertical-align: top;\n",
              "    }\n",
              "\n",
              "    .dataframe thead th {\n",
              "        text-align: right;\n",
              "    }\n",
              "</style>\n",
              "<table border=\"1\" class=\"dataframe\">\n",
              "  <thead>\n",
              "    <tr style=\"text-align: right;\">\n",
              "      <th></th>\n",
              "      <th>P</th>\n",
              "      <th>S</th>\n",
              "      <th>L</th>\n",
              "      <th>D</th>\n",
              "      <th>HV</th>\n",
              "    </tr>\n",
              "  </thead>\n",
              "  <tbody>\n",
              "    <tr>\n",
              "      <th>count</th>\n",
              "      <td>73.000000</td>\n",
              "      <td>73.000000</td>\n",
              "      <td>73.000000</td>\n",
              "      <td>73.000000</td>\n",
              "      <td>73.000000</td>\n",
              "    </tr>\n",
              "    <tr>\n",
              "      <th>mean</th>\n",
              "      <td>193.013699</td>\n",
              "      <td>840.979452</td>\n",
              "      <td>45.684932</td>\n",
              "      <td>5.561233</td>\n",
              "      <td>410.906849</td>\n",
              "    </tr>\n",
              "    <tr>\n",
              "      <th>std</th>\n",
              "      <td>108.107906</td>\n",
              "      <td>846.483607</td>\n",
              "      <td>8.948738</td>\n",
              "      <td>2.289946</td>\n",
              "      <td>225.770134</td>\n",
              "    </tr>\n",
              "    <tr>\n",
              "      <th>min</th>\n",
              "      <td>80.000000</td>\n",
              "      <td>55.600000</td>\n",
              "      <td>20.000000</td>\n",
              "      <td>2.340000</td>\n",
              "      <td>118.000000</td>\n",
              "    </tr>\n",
              "    <tr>\n",
              "      <th>25%</th>\n",
              "      <td>100.000000</td>\n",
              "      <td>250.000000</td>\n",
              "      <td>50.000000</td>\n",
              "      <td>2.590000</td>\n",
              "      <td>188.000000</td>\n",
              "    </tr>\n",
              "    <tr>\n",
              "      <th>50%</th>\n",
              "      <td>150.000000</td>\n",
              "      <td>500.000000</td>\n",
              "      <td>50.000000</td>\n",
              "      <td>5.400000</td>\n",
              "      <td>393.200000</td>\n",
              "    </tr>\n",
              "    <tr>\n",
              "      <th>75%</th>\n",
              "      <td>280.000000</td>\n",
              "      <td>1000.000000</td>\n",
              "      <td>50.000000</td>\n",
              "      <td>7.800000</td>\n",
              "      <td>540.000000</td>\n",
              "    </tr>\n",
              "    <tr>\n",
              "      <th>max</th>\n",
              "      <td>500.000000</td>\n",
              "      <td>5000.000000</td>\n",
              "      <td>50.000000</td>\n",
              "      <td>8.010000</td>\n",
              "      <td>980.300000</td>\n",
              "    </tr>\n",
              "  </tbody>\n",
              "</table>\n",
              "</div>"
            ],
            "text/plain": [
              "                P            S          L          D          HV\n",
              "count   73.000000    73.000000  73.000000  73.000000   73.000000\n",
              "mean   193.013699   840.979452  45.684932   5.561233  410.906849\n",
              "std    108.107906   846.483607   8.948738   2.289946  225.770134\n",
              "min     80.000000    55.600000  20.000000   2.340000  118.000000\n",
              "25%    100.000000   250.000000  50.000000   2.590000  188.000000\n",
              "50%    150.000000   500.000000  50.000000   5.400000  393.200000\n",
              "75%    280.000000  1000.000000  50.000000   7.800000  540.000000\n",
              "max    500.000000  5000.000000  50.000000   8.010000  980.300000"
            ]
          },
          "metadata": {
            "tags": []
          },
          "execution_count": 4
        }
      ]
    },
    {
      "cell_type": "markdown",
      "metadata": {
        "id": "lFVoj9tfSQJJ"
      },
      "source": [
        "\n",
        "Setting inputs - output:"
      ]
    },
    {
      "cell_type": "code",
      "metadata": {
        "colab": {
          "base_uri": "https://localhost:8080/",
          "height": 730
        },
        "id": "SVvdbKrdZIj5",
        "outputId": "2821cc91-17cb-4281-c501-917303b59e2e"
      },
      "source": [
        "from pandas.plotting import scatter_matrix\n",
        "#DISPLAY MATRIX - identificar correlacion entre variables\n",
        "import seaborn as sns\n",
        "sns.set()\n",
        "\n",
        "plt.rcParams[\"axes.grid\"] = False\n",
        "\n",
        "#pd.tools.plotting.scatter_matrix(df, alpha=0.2, c='red', hist_kwds={'color':['burlywood']})\n",
        "\n",
        "#scatter_matrix(data, alpha=0.2, marker='s', figsize = (12,12), color = 'blue')\n",
        "scatter_matrix(data, alpha=0.9,marker='s', figsize = (12,12),  c='red', hist_kwds={'color':['red']})\n",
        "\n",
        "warnings.filterwarnings(\"ignore\")"
      ],
      "execution_count": null,
      "outputs": [
        {
          "output_type": "display_data",
          "data": {
            "image/png": "[encoded data removed]",
            "text/plain": [
              "<Figure size 864x864 with 25 Axes>"
            ]
          },
          "metadata": {
            "tags": []
          }
        }
      ]
    },
    {
      "cell_type": "code",
      "metadata": {
        "colab": {
          "base_uri": "https://localhost:8080/",
          "height": 417
        },
        "id": "HtbC81onC-Qo",
        "outputId": "0ed4a87e-a98f-4e6e-c32c-2da47a9ad7f3"
      },
      "source": [
        "#fields = ['P', 'S', 'L',  'HD1',  'F', 'd' ]\n",
        "fields = ['P', 'S', 'L',  'D'  ]\n",
        "import seaborn as sns\n",
        "sns.set_theme(style=\"darkgrid\")\n",
        "\n",
        "fig = plt.figure()\n",
        "fig.set_size_inches((15,8))\n",
        "for i, field in enumerate(fields):\n",
        "  plt.subplot(3, 3, i + 1)\n",
        "  plt.plot(data[field], data['HV'], 'rs')\n",
        "  plt.xlabel(field)\n",
        "  plt.ylabel('HV')\n",
        "\n",
        "plt.tight_layout()"
      ],
      "execution_count": null,
      "outputs": [
        {
          "output_type": "display_data",
          "data": {
            "image/png": "[encoded data removed]",
            "text/plain": [
              "<Figure size 1080x576 with 4 Axes>"
            ]
          },
          "metadata": {
            "tags": []
          }
        }
      ]
    },
    {
      "cell_type": "code",
      "metadata": {
        "id": "VJ_ob8PakPzf"
      },
      "source": [
        "#X=data[['P', 'S', 'L',  'HD1',  'F', 'd' ]]\n",
        "X=data[['P', 'S', 'L',  'D']]\n",
        "Y=data['HV'][:,None]"
      ],
      "execution_count": null,
      "outputs": []
    },
    {
      "cell_type": "markdown",
      "metadata": {
        "id": "7o8zckSzFI7O"
      },
      "source": [
        "# Hardness prediction"
      ]
    },
    {
      "cell_type": "markdown",
      "metadata": {
        "id": "Q6pAiesfTDDU"
      },
      "source": [
        " Split data"
      ]
    },
    {
      "cell_type": "code",
      "metadata": {
        "colab": {
          "base_uri": "https://localhost:8080/"
        },
        "id": "HI3IlTeHTF_Z",
        "outputId": "3aaa6999-2b41-49b9-9d62-3298843ddbe6"
      },
      "source": [
        "from sklearn.model_selection import train_test_split\n",
        "\n",
        "X_train, X_test, y_train, y_test = train_test_split(X, Y, test_size=0.2, random_state=42)\n",
        "print('training samples:', X_train.shape[0],  ' test samples:', X_test.shape[0])"
      ],
      "execution_count": null,
      "outputs": [
        {
          "output_type": "stream",
          "text": [
            "training samples: 58  test samples: 15\n"
          ],
          "name": "stdout"
        }
      ]
    },
    {
      "cell_type": "code",
      "metadata": {
        "id": "N9C38QmsAXm-"
      },
      "source": [
        "from sklearn.preprocessing import StandardScaler\n",
        "\n",
        "scaler = StandardScaler()\n",
        "X_train = scaler.fit_transform(X_train)\n",
        "X_test = scaler.transform(X_test)\n",
        "\n",
        "#y_train = scaler.fit_transform(y_train)\n",
        "#y_test = scaler.transform(y_test)\n"
      ],
      "execution_count": null,
      "outputs": []
    },
    {
      "cell_type": "markdown",
      "metadata": {
        "id": "7Zk7lMoGhdFO"
      },
      "source": [
        "###Results:"
      ]
    },
    {
      "cell_type": "code",
      "metadata": {
        "id": "zNL_O3xVwKpR"
      },
      "source": [
        "from lazypredict.Supervised import LazyRegressor\n",
        "from sklearn.utils import shuffle"
      ],
      "execution_count": null,
      "outputs": []
    },
    {
      "cell_type": "code",
      "metadata": {
        "colab": {
          "base_uri": "https://localhost:8080/"
        },
        "id": "gf5o7CPSwQaT",
        "outputId": "2d82da0c-b08f-4197-c107-7796bb81b491"
      },
      "source": [
        "from sklearn.metrics import mean_absolute_error as MAE\n",
        "reg = LazyRegressor(verbose=0,ignore_warnings=False, custom_metric=None)\n",
        "models,predictions = reg.fit(X_train, X_test, y_train, y_test)\n",
        "\n",
        "print(models)"
      ],
      "execution_count": null,
      "outputs": [
        {
          "output_type": "stream",
          "text": [
            "100%|██████████| 42/42 [00:01<00:00, 29.84it/s]\n"
          ],
          "name": "stderr"
        },
        {
          "output_type": "stream",
          "text": [
            "                               Adjusted R-Squared  ...  Time Taken\n",
            "Model                                              ...            \n",
            "GradientBoostingRegressor                    0.92  ...        0.06\n",
            "RandomForestRegressor                        0.88  ...        0.18\n",
            "BaggingRegressor                             0.85  ...        0.03\n",
            "XGBRegressor                                 0.84  ...        0.11\n",
            "AdaBoostRegressor                            0.80  ...        0.08\n",
            "ExtraTreesRegressor                          0.78  ...        0.10\n",
            "DecisionTreeRegressor                        0.71  ...        0.01\n",
            "ExtraTreeRegressor                           0.67  ...        0.01\n",
            "KNeighborsRegressor                          0.22  ...        0.02\n",
            "HuberRegressor                              -0.06  ...        0.03\n",
            "OrthogonalMatchingPursuitCV                 -0.10  ...        0.02\n",
            "OrthogonalMatchingPursuit                   -0.10  ...        0.01\n",
            "TransformedTargetRegressor                  -0.11  ...        0.01\n",
            "LinearRegression                            -0.11  ...        0.01\n",
            "Lars                                        -0.11  ...        0.01\n",
            "SGDRegressor                                -0.11  ...        0.01\n",
            "Ridge                                       -0.11  ...        0.01\n",
            "Lasso                                       -0.12  ...        0.01\n",
            "PoissonRegressor                            -0.13  ...        0.01\n",
            "LassoLars                                   -0.14  ...        0.02\n",
            "RidgeCV                                     -0.15  ...        0.01\n",
            "HistGradientBoostingRegressor               -0.18  ...        0.05\n",
            "LGBMRegressor                               -0.18  ...        0.04\n",
            "ElasticNet                                  -0.21  ...        0.01\n",
            "LassoCV                                     -0.22  ...        0.08\n",
            "GammaRegressor                              -0.24  ...        0.01\n",
            "LarsCV                                      -0.24  ...        0.02\n",
            "LassoLarsCV                                 -0.24  ...        0.02\n",
            "PassiveAggressiveRegressor                  -0.25  ...        0.01\n",
            "ElasticNetCV                                -0.25  ...        0.07\n",
            "LassoLarsIC                                 -0.25  ...        0.01\n",
            "GeneralizedLinearRegressor                  -0.26  ...        0.02\n",
            "TweedieRegressor                            -0.26  ...        0.01\n",
            "BayesianRidge                               -0.27  ...        0.01\n",
            "NuSVR                                       -0.40  ...        0.01\n",
            "SVR                                         -0.41  ...        0.02\n",
            "DummyRegressor                              -0.48  ...        0.01\n",
            "RANSACRegressor                             -0.48  ...        0.04\n",
            "LinearSVR                                   -2.53  ...        0.01\n",
            "MLPRegressor                                -3.24  ...        0.14\n",
            "KernelRidge                                 -4.00  ...        0.01\n",
            "GaussianProcessRegressor               -893847.05  ...        0.02\n",
            "\n",
            "[42 rows x 4 columns]\n"
          ],
          "name": "stdout"
        }
      ]
    },
    {
      "cell_type": "markdown",
      "metadata": {
        "id": "hkMQ_W07zri6"
      },
      "source": [
        "### XGB"
      ]
    },
    {
      "cell_type": "code",
      "metadata": {
        "id": "rLTTuAFyzJeP"
      },
      "source": [
        "import pickle\n",
        "import xgboost as xgb\n",
        "\n",
        "xgbr = xgb.XGBRegressor(base_score=0.5, booster='gbtree', colsample_bylevel=1,\n",
        "             colsample_bynode=1, colsample_bytree=1, gamma=0,\n",
        "             importance_type='gain', learning_rate=0.1, max_delta_step=0,\n",
        "             max_depth=5, min_child_weight=1, missing=None, n_estimators=10000,\n",
        "             n_jobs=1, nthread=None, objective='reg:linear', random_state=42,\n",
        "             reg_alpha=0, reg_lambda=0.1, scale_pos_weight=1, seed=None,\n",
        "             silent=None, subsample=1, verbosity=0)\n",
        "xgbr.fit(X_train, y_train)\n",
        "y_pred = xgbr.predict(X_test)"
      ],
      "execution_count": null,
      "outputs": []
    },
    {
      "cell_type": "code",
      "metadata": {
        "colab": {
          "base_uri": "https://localhost:8080/",
          "height": 562
        },
        "id": "P-auJlXw2D8o",
        "outputId": "3bcfb582-bc2c-4714-a56a-1821b23e112d"
      },
      "source": [
        "print(\"-XGBRegressor -\")\n",
        "print(\"------------------\")\n",
        "y_star_train = xgbr.predict(X_train)\n",
        "\n",
        "#EVAL\n",
        "from sklearn.metrics import mean_squared_error as MSE\n",
        "MSE_test = MSE(y_test, y_pred)\n",
        "\n",
        "#Plots\n",
        "#sns.set_theme(style=\"whitegrid\")\n",
        "plt.rcParams[\"axes.grid\"] = False\n",
        "fig = plt.figure()\n",
        "fig.set_size_inches((9,6))\n",
        "import matplotlib.pyplot as plt\n",
        "plt.rcParams.update({'font.size': 30})\n",
        "\n",
        "plt.plot(y_train, y_star_train, 'bx', label = 'Train')\n",
        "plt.plot([y_star_train.min(), y_star_train.max()], [y_star_train.min(), y_star_train.max()], 'k--')\n",
        "plt.plot(y_test, y_pred, 'ro', label = 'Test')\n",
        "plt.plot([y_pred.min(), y_pred.max()], [y_pred.min(), y_pred.max()], 'k--')\n",
        "plt.legend()\n",
        "plt.ylabel('Predicted melting efficiency')\n",
        "plt.xlabel('Measured melting efficiency')\n",
        "plt.title(\"Extreme Gradient boosting regressor\")\n",
        "\n",
        "print('MSE test:', MSE_test)\n",
        "\n",
        "print()\n",
        "\n",
        "from sklearn.metrics import r2_score\n",
        "from sklearn.metrics import mean_absolute_error as MAE \n",
        "\n",
        "#METRICS: R2, RMSE, MAE\n",
        "R2=r2_score(y_test, y_pred)\n",
        "print('R2: ',R2)\n",
        "RMSE = np.sqrt(MSE_test)\n",
        "print(\"RMSE: \", RMSE)\n",
        "MAE = MAE(y_test, y_pred)\n",
        "print(\"MAE: \", MAE)\n",
        "IM=np.sqrt(((1-R2)**2) + (RMSE**2) + (MAE**2) )\n",
        "print(\"IM: \", IM)\n",
        "print()"
      ],
      "execution_count": null,
      "outputs": [
        {
          "output_type": "stream",
          "text": [
            "-XGBRegressor -\n",
            "------------------\n",
            "MSE test: 4103.156492967152\n",
            "\n",
            "R2:  0.9335709301243099\n",
            "RMSE:  64.05588570121525\n",
            "MAE:  42.28572387695312\n",
            "IM:  76.75443537403164\n",
            "\n"
          ],
          "name": "stdout"
        },
        {
          "output_type": "display_data",
          "data": {
            "image/png": "[encoded data removed]",
            "text/plain": [
              "<Figure size 648x432 with 1 Axes>"
            ]
          },
          "metadata": {
            "tags": []
          }
        }
      ]
    },
    {
      "cell_type": "code",
      "metadata": {
        "id": "hY5StbfZukbo"
      },
      "source": [
        "# initialize model and define the space of the hyperparameters to\n",
        "# perform the grid-search over\n",
        "model = xgbr\n",
        "n_estimators = [10, 100, 1000, 10000]\n",
        "learning_rate = [0.1, 0.01, 1e-3]\n",
        "max_depth = [5, 20, 50, 100]\n",
        "reg_lambda = [0.001, 0.01, 0.1, 1, 10]\n",
        "\n",
        "\n",
        "grid = dict(n_estimators=n_estimators, learning_rate=learning_rate, max_depth=max_depth )"
      ],
      "execution_count": null,
      "outputs": []
    },
    {
      "cell_type": "code",
      "metadata": {
        "colab": {
          "base_uri": "https://localhost:8080/"
        },
        "id": "8bhkrvScvA2q",
        "outputId": "9f577676-be6a-4307-b308-6023fac5b340"
      },
      "source": [
        "# initialize a cross-validation fold and perform a randomized-search\n",
        "# to tune the hyperparameters\n",
        "print(\"[INFO] grid searching over the hyperparameters...\")\n",
        "cvFold = RepeatedKFold(n_splits=10, n_repeats=3, random_state=42)\n",
        "randomSearch = RandomizedSearchCV(estimator=model, n_jobs=-1,\n",
        "\tcv=cvFold, param_distributions=grid,\n",
        "\tscoring=\"neg_mean_squared_error\")\n",
        "searchResults = randomSearch.fit(X_train, y_train)\n",
        "# extract the best model and evaluate it\n",
        "print(\"[INFO] evaluating...\")\n",
        "bestModel = searchResults.best_estimator_\n",
        "print(\"R2: {:.2f}\".format(bestModel.score(X_test, y_test)))\n",
        "print(bestModel)"
      ],
      "execution_count": null,
      "outputs": [
        {
          "output_type": "stream",
          "text": [
            "[INFO] grid searching over the hyperparameters...\n",
            "[INFO] evaluating...\n",
            "R2: 0.18\n",
            "XGBRegressor(base_score=0.5, booster='gbtree', colsample_bylevel=1,\n",
            "             colsample_bynode=1, colsample_bytree=1, gamma=0, gpu_id=-1,\n",
            "             importance_type='gain', interaction_constraints='',\n",
            "             learning_rate=0.1, max_delta_step=0, max_depth=20,\n",
            "             min_child_weight=1, missing=None, monotone_constraints='()',\n",
            "             n_estimators=100, n_jobs=1, nthread=1, num_parallel_tree=1,\n",
            "             objective='reg:linear', random_state=1234, reg_alpha=0,\n",
            "             reg_lambda=0.1, scale_pos_weight=1, seed=1234, silent=None,\n",
            "             subsample=1, tree_method='exact', validate_parameters=1,\n",
            "             verbosity=0)\n"
          ],
          "name": "stdout"
        }
      ]
    },
    {
      "cell_type": "code",
      "metadata": {
        "colab": {
          "base_uri": "https://localhost:8080/"
        },
        "id": "0z6iA4Tv5y6c",
        "outputId": "0a089ba4-8741-410b-d9b1-e7b391fdc897"
      },
      "source": [
        "# get importance\n",
        "\n",
        "importance = xgbr.feature_importances_\n",
        "# summarize feature importance\n",
        "\n",
        "for i,v in enumerate(importance):\n",
        "\tprint('Feature: %0d, Score: %.5f' % (i,v))\n",
        "# plot feature importance\n"
      ],
      "execution_count": null,
      "outputs": [
        {
          "output_type": "stream",
          "text": [
            "Feature: 0, Score: 0.29136\n",
            "Feature: 1, Score: 0.13245\n",
            "Feature: 2, Score: 0.04947\n",
            "Feature: 3, Score: 0.52673\n"
          ],
          "name": "stdout"
        }
      ]
    },
    {
      "cell_type": "code",
      "metadata": {
        "colab": {
          "base_uri": "https://localhost:8080/",
          "height": 322
        },
        "id": "f5jXaBcveTeJ",
        "outputId": "e6822708-f729-4518-9236-7a913ac32987"
      },
      "source": [
        "# Create lists for the plot\n",
        "import seaborn as sns\n",
        "sns.set()\n",
        "\n",
        "#plt.rcParams[\"axes.grid\"] = False\n",
        "\n",
        "labels = ['P', 'S', 'L',  'D' ]\n",
        "x_pos = np.arange(len(labels))\n",
        "\n",
        "fig, ax = plt.subplots()\n",
        "fig.set_size_inches((8,5))\n",
        "\n",
        "ax.bar(x_pos, importance, align='center', alpha=0.95, color='red')\n",
        "ax.set_ylabel('Features Importance')\n",
        "ax.set_xticks(x_pos)\n",
        "ax.set_xticklabels(labels)\n",
        "#ax.set_title('Features Importance Analysis')\n",
        "ax.yaxis.grid(True)\n"
      ],
      "execution_count": null,
      "outputs": [
        {
          "output_type": "display_data",
          "data": {
            "image/png": "[encoded data removed]",
            "text/plain": [
              "<Figure size 576x360 with 1 Axes>"
            ]
          },
          "metadata": {
            "tags": []
          }
        }
      ]
    },
    {
      "cell_type": "markdown",
      "metadata": {
        "id": "lZ2wVx6IxyZb"
      },
      "source": [
        "## ##GBR"
      ]
    },
    {
      "cell_type": "code",
      "metadata": {
        "colab": {
          "base_uri": "https://localhost:8080/"
        },
        "id": "Vsko3aNry1kl",
        "outputId": "aff1b808-5ade-4521-a2fb-73ae650c6d2f"
      },
      "source": [
        "from sklearn.ensemble import GradientBoostingRegressor\n",
        "#KERNEL\n",
        "#GBR=GradientBoostingRegressor(n_estimators=100, random_state=0)\n",
        "GBR=GradientBoostingRegressor(n_estimators=5000, random_state=42, learning_rate=0.1 )\n",
        "\n",
        "#START TRAINING\n",
        "GBR.fit(X_train, y_train)\n",
        "#PREDICTION\n",
        "y_pred=GBR.predict(X_test)\n",
        "\n",
        "#EVAL\n",
        "from sklearn.metrics import mean_squared_error as MSE\n",
        "MSE_test = MSE(y_test, y_pred)\n",
        "\n",
        " \n",
        "print(\"-Gradient boosting regressor-\")\n",
        "print(\"-----------------------------\")\n",
        "\n",
        "print('MSE test:', MSE_test)\n",
        "\n",
        "print()\n",
        "\n",
        "from sklearn.metrics import r2_score\n",
        "from sklearn.metrics import mean_absolute_error as MAE \n",
        "\n",
        "#METRICS: R2, RMSE, MAE\n",
        "R2=r2_score(y_test, y_pred)\n",
        "print('R2: ',R2)\n",
        "RMSE = np.sqrt(MSE_test)\n",
        "print(\"RMSE: \", RMSE)\n",
        "MAE = MAE(y_test, y_pred)\n",
        "print(\"MAE: \", MAE)\n",
        "IM=np.sqrt(((1-R2)**2) + (RMSE**2) + (MAE**2) )\n",
        "print(\"IM: \", IM)\n",
        "print()\n"
      ],
      "execution_count": null,
      "outputs": [
        {
          "output_type": "stream",
          "text": [
            "-Gradient boosting regressor-\n",
            "-----------------------------\n",
            "MSE test: 10973.102041221147\n",
            "\n",
            "R2:  0.7621263514381786\n",
            "RMSE:  104.75257534409904\n",
            "MAE:  76.81526513769423\n",
            "IM:  129.8989745273922\n",
            "\n"
          ],
          "name": "stdout"
        }
      ]
    },
    {
      "cell_type": "markdown",
      "metadata": {
        "id": "z-I-8DZZnl5K"
      },
      "source": [
        "## ADA"
      ]
    },
    {
      "cell_type": "code",
      "metadata": {
        "colab": {
          "base_uri": "https://localhost:8080/"
        },
        "id": "NituWLLikcek",
        "outputId": "459fa689-9e29-49c4-bedb-d5cfa1fb8d7e"
      },
      "source": [
        "from sklearn.ensemble import AdaBoostRegressor\n",
        "\n",
        "print(\" AdaBoost -\")\n",
        "print(\"------------------\")\n",
        "\n",
        "Ada = AdaBoostRegressor(random_state=32, n_estimators=1000)\n",
        "#START TRAINING\n",
        "Ada.fit(X_train,y_train)\n",
        "#PREDICTION\n",
        "y_pred=Ada.predict(X_test)\n",
        "\n",
        "#EVAL\n",
        "from sklearn.metrics import mean_squared_error as MSE\n",
        "MSE_test = MSE(y_test, y_pred)\n",
        "\n",
        "print('MSE test:', MSE_test)\n",
        "\n",
        "print()\n",
        "\n",
        "from sklearn.metrics import r2_score\n",
        "from sklearn.metrics import mean_absolute_error as MAE \n",
        "\n",
        "#METRICS: R2, RMSE, MAE\n",
        "R2=r2_score(y_test, y_pred)\n",
        "print('R2: ',R2)\n",
        "RMSE = np.sqrt(MSE_test)\n",
        "print(\"RMSE: \", RMSE)\n",
        "MAE = MAE(y_test, y_pred)\n",
        "print(\"MAE: \", MAE)\n",
        "IM=np.sqrt(((1-R2)**2) + (RMSE**2) + (MAE**2) )\n",
        "print(\"IM: \", IM)\n",
        "print()"
      ],
      "execution_count": null,
      "outputs": [
        {
          "output_type": "stream",
          "text": [
            " AdaBoost -\n",
            "------------------\n",
            "MSE test: 16483.22360089614\n",
            "\n",
            "R2:  0.6426785677125495\n",
            "RMSE:  128.38700713427406\n",
            "MAE:  98.24626833814334\n",
            "IM:  161.6653349418872\n",
            "\n"
          ],
          "name": "stdout"
        }
      ]
    },
    {
      "cell_type": "markdown",
      "metadata": {
        "id": "ttmqN0XXnq8H"
      },
      "source": [
        "## RFR"
      ]
    },
    {
      "cell_type": "code",
      "metadata": {
        "colab": {
          "base_uri": "https://localhost:8080/"
        },
        "id": "CP_A-XGEntxU",
        "outputId": "231622fd-66f1-427a-c91d-3df0cda5b174"
      },
      "source": [
        "from sklearn.ensemble import RandomForestRegressor\n",
        "#KERNEL\n",
        "RFR=RandomForestRegressor(n_estimators=2000,max_depth=20)\n",
        "\n",
        "#START TRAINING\n",
        "RFR.fit(X_train,y_train)\n",
        "#PREDICTION\n",
        "y_pred=RFR.predict(X_test)\n",
        "\n",
        "#EVAL\n",
        "from sklearn.metrics import mean_squared_error as MSE\n",
        "MSE_test = MSE(y_test, y_pred)\n",
        "\n",
        "print(\"-----------------------------\")\n",
        "\n",
        "print('MSE test:', MSE_test)\n",
        "\n",
        "print()\n",
        "\n",
        "from sklearn.metrics import r2_score\n",
        "from sklearn.metrics import mean_absolute_error as MAE \n",
        "\n",
        "#METRICS: R2, RMSE, MAE\n",
        "R2=r2_score(y_test, y_pred)\n",
        "print('R2: ',R2)\n",
        "RMSE = np.sqrt(MSE_test)\n",
        "print(\"RMSE: \", RMSE)\n",
        "MAE = MAE(y_test, y_pred)\n",
        "print(\"MAE: \", MAE)\n",
        "IM=np.sqrt(((1-R2)**2) + (RMSE**2) + (MAE**2) )\n",
        "print(\"IM: \", IM)\n",
        "print()"
      ],
      "execution_count": null,
      "outputs": [
        {
          "output_type": "stream",
          "text": [
            "-----------------------------\n",
            "MSE test: 19226.150822315973\n",
            "\n",
            "R2:  0.58321770573864\n",
            "RMSE:  138.65839614792887\n",
            "MAE:  104.74154666666506\n",
            "IM:  173.7731743622184\n",
            "\n"
          ],
          "name": "stdout"
        }
      ]
    },
    {
      "cell_type": "markdown",
      "metadata": {
        "id": "ZOYI1QkauabG"
      },
      "source": [
        "## Comparisson"
      ]
    },
    {
      "cell_type": "code",
      "metadata": {
        "colab": {
          "base_uri": "https://localhost:8080/",
          "height": 411
        },
        "id": "DH0SyeJQ04d1",
        "outputId": "8a78f952-ec0b-4bc4-d8fb-e3c695bc5f30"
      },
      "source": [
        "import seaborn as sns\n",
        "sns.set()\n",
        "\n",
        "y1=xgbr.predict(X_test)\n",
        "y2=GBR.predict(X_test)\n",
        "y3=Ada.predict(X_test)\n",
        "y4=RFR.predict(X_test)\n",
        "\n",
        "#Plots\n",
        "#sns.set_theme(style=\"whitegrid\")\n",
        "#sns.set_theme(style=\"darkgrid\")\n",
        "plt.rcParams[\"axes.grid\"] = True\n",
        "fig = plt.figure()\n",
        "fig.set_size_inches((9,6))\n",
        "import matplotlib.pyplot as plt\n",
        "plt.rcParams.update({'font.size': 30})\n",
        "\n",
        "plt.plot(y_train, y_star_train, 'mx', label = 'Train')\n",
        "plt.plot([y_star_train.min(), y_star_train.max()], [y_star_train.min(), y_star_train.max()], 'k--')\n",
        "plt.plot(y_test, y1, 'rs', label = 'XGBR')\n",
        "plt.plot(y_test, y2, 'g^', label = 'GBR')\n",
        "plt.plot(y_test, y3, 'bo', label = 'Adaboost')\n",
        "plt.plot(y_test, y4, 'yp', label = 'RFR')\n",
        "\n",
        "plt.legend()\n",
        "plt.ylabel('Predicted microhardness (HV)')\n",
        "plt.xlabel('Measured microhardness (HV)')\n",
        "#plt.title(\"Machine learning regressors\")\n",
        "print()"
      ],
      "execution_count": null,
      "outputs": [
        {
          "output_type": "stream",
          "text": [
            "\n"
          ],
          "name": "stdout"
        },
        {
          "output_type": "display_data",
          "data": {
            "image/png": "[encoded data removed]",
            "text/plain": [
              "<Figure size 648x432 with 1 Axes>"
            ]
          },
          "metadata": {
            "tags": []
          }
        }
      ]
    },
    {
      "cell_type": "markdown",
      "metadata": {
        "id": "cNDmSIe0TMW4"
      },
      "source": [
        "### CROSS-VALIDATION"
      ]
    },
    {
      "cell_type": "code",
      "metadata": {
        "colab": {
          "base_uri": "https://localhost:8080/"
        },
        "id": "HIEmJUZF69lo",
        "outputId": "e7af041b-65f4-40a1-fcfa-58fcdc550145"
      },
      "source": [
        "\n",
        "from sklearn.metrics import r2_score\n",
        "from sklearn.metrics import mean_squared_error as MSE\n",
        "from sklearn.metrics import mean_absolute_error \n",
        "from sklearn.model_selection import cross_val_score as CV\n",
        "\n",
        "import warnings\n",
        "warnings.filterwarnings('ignore')\n",
        "\n",
        "models = [ xgbr,  GBR, Ada, RFR ]\n",
        "labels = ['XGBR',  'GBR', 'Adaboost', 'RFR']\n",
        "IMS = []\n",
        "\n",
        "print(\"--------------------------------------------------------------\")\n",
        "print(\"%5s | %5s | %5s | %5s | %5s \" % (\"ML algorithm\",  \"CV-R2\", \"CV-MSE\", \"CV-MAE\", \"IM\"))\n",
        "print(\"--------------------------------------------------------------\")\n",
        "\n",
        "for mod, label in zip( models, labels): \n",
        "  #y_star = mod.predict(X)\n",
        " \n",
        "  scoreR2 = CV(mod, X_train, y_train, cv=5, scoring='r2')\n",
        "  #print(-1*scoreR2)\n",
        "  scoreMSE = CV(mod, X_train, y_train, cv=5, scoring='neg_mean_squared_error')\n",
        "  #print(-1*scoreMSE)\n",
        "  scoreMAE = CV(mod, X_train, y_train, cv=5, scoring='neg_mean_absolute_error')\n",
        "  #print(-1*scoreMAE)\n",
        "  IM=np.sqrt(((1-scoreR2)**2) + (scoreMSE) + (scoreMAE**2) )\n",
        "  #print(\"IM: \", IM)\n",
        "  \n",
        " \n",
        "  print(\"%15s | %.4f | %.4f | %.4f | %.4f \" % (label,  scoreR2.mean(), -1*scoreMSE.mean(), -1*scoreMAE.mean() , np.sqrt(((1-scoreR2.mean())**2) + (-1*scoreMSE.mean()) + (scoreMAE.mean()**2) )))\n",
        "print(\"--------------------------------------------------------------\")"
      ],
      "execution_count": null,
      "outputs": [
        {
          "output_type": "stream",
          "text": [
            "--------------------------------------------------------------\n",
            "ML algorithm | CV-R2 | CV-MSE | CV-MAE |    IM \n",
            "--------------------------------------------------------------\n",
            "           XGBR | 0.6273 | 17196.4900 | 87.1912 | 157.4768 \n",
            "            GBR | 0.6467 | 16060.2211 | 87.2538 | 153.8622 \n",
            "       Adaboost | 0.6824 | 13923.6081 | 83.8577 | 144.7612 \n",
            "            RFR | 0.7046 | 13857.6553 | 80.6745 | 142.7099 \n",
            "--------------------------------------------------------------\n"
          ],
          "name": "stdout"
        }
      ]
    },
    {
      "cell_type": "markdown",
      "metadata": {
        "id": "lkgBZClMhPGV"
      },
      "source": [
        "# Wear evaluation"
      ]
    },
    {
      "cell_type": "code",
      "metadata": {
        "colab": {
          "base_uri": "https://localhost:8080/",
          "height": 295
        },
        "id": "RTyLpJqShTkK",
        "outputId": "a5a3e9cc-de0f-47e3-db61-9551d35fb729"
      },
      "source": [
        "#Experimental data\n",
        "data = pd.read_table('wear.txt') \n",
        "data.describe()"
      ],
      "execution_count": null,
      "outputs": [
        {
          "output_type": "execute_result",
          "data": {
            "text/html": [
              "<div>\n",
              "<style scoped>\n",
              "    .dataframe tbody tr th:only-of-type {\n",
              "        vertical-align: middle;\n",
              "    }\n",
              "\n",
              "    .dataframe tbody tr th {\n",
              "        vertical-align: top;\n",
              "    }\n",
              "\n",
              "    .dataframe thead th {\n",
              "        text-align: right;\n",
              "    }\n",
              "</style>\n",
              "<table border=\"1\" class=\"dataframe\">\n",
              "  <thead>\n",
              "    <tr style=\"text-align: right;\">\n",
              "      <th></th>\n",
              "      <th>LP</th>\n",
              "      <th>SS</th>\n",
              "      <th>LT</th>\n",
              "      <th>RD</th>\n",
              "      <th>HBM</th>\n",
              "      <th>HCB</th>\n",
              "      <th>F</th>\n",
              "      <th>D</th>\n",
              "      <th>w</th>\n",
              "      <th>K</th>\n",
              "    </tr>\n",
              "  </thead>\n",
              "  <tbody>\n",
              "    <tr>\n",
              "      <th>count</th>\n",
              "      <td>62.000000</td>\n",
              "      <td>62.000000</td>\n",
              "      <td>62.000000</td>\n",
              "      <td>62.000000</td>\n",
              "      <td>62.000000</td>\n",
              "      <td>62.000000</td>\n",
              "      <td>62.000000</td>\n",
              "      <td>62.000000</td>\n",
              "      <td>62.000000</td>\n",
              "      <td>62.000000</td>\n",
              "    </tr>\n",
              "    <tr>\n",
              "      <th>mean</th>\n",
              "      <td>173.870968</td>\n",
              "      <td>591.895161</td>\n",
              "      <td>44.354839</td>\n",
              "      <td>5.762581</td>\n",
              "      <td>439.427419</td>\n",
              "      <td>1229.274194</td>\n",
              "      <td>9.653226</td>\n",
              "      <td>158.173042</td>\n",
              "      <td>2.880145</td>\n",
              "      <td>10.420758</td>\n",
              "    </tr>\n",
              "    <tr>\n",
              "      <th>std</th>\n",
              "      <td>117.910147</td>\n",
              "      <td>523.769677</td>\n",
              "      <td>8.419526</td>\n",
              "      <td>2.167730</td>\n",
              "      <td>218.076880</td>\n",
              "      <td>645.368878</td>\n",
              "      <td>14.458870</td>\n",
              "      <td>76.361416</td>\n",
              "      <td>3.321766</td>\n",
              "      <td>11.435778</td>\n",
              "    </tr>\n",
              "    <tr>\n",
              "      <th>min</th>\n",
              "      <td>25.000000</td>\n",
              "      <td>55.600000</td>\n",
              "      <td>20.000000</td>\n",
              "      <td>2.400000</td>\n",
              "      <td>145.000000</td>\n",
              "      <td>600.000000</td>\n",
              "      <td>3.000000</td>\n",
              "      <td>70.371675</td>\n",
              "      <td>0.003000</td>\n",
              "      <td>0.014000</td>\n",
              "    </tr>\n",
              "    <tr>\n",
              "      <th>25%</th>\n",
              "      <td>100.000000</td>\n",
              "      <td>200.000000</td>\n",
              "      <td>40.000000</td>\n",
              "      <td>4.342500</td>\n",
              "      <td>309.250000</td>\n",
              "      <td>746.000000</td>\n",
              "      <td>3.000000</td>\n",
              "      <td>105.557513</td>\n",
              "      <td>0.429750</td>\n",
              "      <td>1.168500</td>\n",
              "    </tr>\n",
              "    <tr>\n",
              "      <th>50%</th>\n",
              "      <td>110.000000</td>\n",
              "      <td>400.000000</td>\n",
              "      <td>50.000000</td>\n",
              "      <td>4.990000</td>\n",
              "      <td>399.500000</td>\n",
              "      <td>830.000000</td>\n",
              "      <td>4.950000</td>\n",
              "      <td>133.203529</td>\n",
              "      <td>1.470000</td>\n",
              "      <td>7.363000</td>\n",
              "    </tr>\n",
              "    <tr>\n",
              "      <th>75%</th>\n",
              "      <td>247.500000</td>\n",
              "      <td>800.000000</td>\n",
              "      <td>50.000000</td>\n",
              "      <td>7.872500</td>\n",
              "      <td>538.500000</td>\n",
              "      <td>1601.500000</td>\n",
              "      <td>5.750000</td>\n",
              "      <td>211.115026</td>\n",
              "      <td>4.391750</td>\n",
              "      <td>14.517750</td>\n",
              "    </tr>\n",
              "    <tr>\n",
              "      <th>max</th>\n",
              "      <td>800.000000</td>\n",
              "      <td>2000.000000</td>\n",
              "      <td>50.000000</td>\n",
              "      <td>8.010000</td>\n",
              "      <td>980.300000</td>\n",
              "      <td>2800.000000</td>\n",
              "      <td>50.000000</td>\n",
              "      <td>592.500000</td>\n",
              "      <td>11.900000</td>\n",
              "      <td>48.305000</td>\n",
              "    </tr>\n",
              "  </tbody>\n",
              "</table>\n",
              "</div>"
            ],
            "text/plain": [
              "               LP           SS         LT  ...           D          w          K\n",
              "count   62.000000    62.000000  62.000000  ...   62.000000  62.000000  62.000000\n",
              "mean   173.870968   591.895161  44.354839  ...  158.173042   2.880145  10.420758\n",
              "std    117.910147   523.769677   8.419526  ...   76.361416   3.321766  11.435778\n",
              "min     25.000000    55.600000  20.000000  ...   70.371675   0.003000   0.014000\n",
              "25%    100.000000   200.000000  40.000000  ...  105.557513   0.429750   1.168500\n",
              "50%    110.000000   400.000000  50.000000  ...  133.203529   1.470000   7.363000\n",
              "75%    247.500000   800.000000  50.000000  ...  211.115026   4.391750  14.517750\n",
              "max    800.000000  2000.000000  50.000000  ...  592.500000  11.900000  48.305000\n",
              "\n",
              "[8 rows x 10 columns]"
            ]
          },
          "metadata": {
            "tags": []
          },
          "execution_count": 2
        }
      ]
    },
    {
      "cell_type": "code",
      "metadata": {
        "colab": {
          "base_uri": "https://localhost:8080/",
          "height": 730
        },
        "id": "tv1t0rt3qitU",
        "outputId": "e532a5e3-9438-4a31-ba9c-84614ad48dc0"
      },
      "source": [
        "from pandas.plotting import scatter_matrix\n",
        "#DISPLAY MATRIX - identificar correlacion entre variables\n",
        "import seaborn as sns\n",
        "sns.set()\n",
        "\n",
        "plt.rcParams[\"axes.grid\"] = False\n",
        "\n",
        "#pd.tools.plotting.scatter_matrix(df, alpha=0.2, c='red', hist_kwds={'color':['burlywood']})\n",
        "\n",
        "#scatter_matrix(data, alpha=0.2, marker='s', figsize = (12,12), color = 'blue')\n",
        "scatter_matrix(data, alpha=0.9,marker='s', figsize = (12,12),  c='red', hist_kwds={'color':['red']})\n",
        "\n",
        "warnings.filterwarnings(\"ignore\")"
      ],
      "execution_count": null,
      "outputs": [
        {
          "output_type": "display_data",
          "data": {
            "image/png": "[encoded data removed]",
            "text/plain": [
              "<Figure size 864x864 with 100 Axes>"
            ]
          },
          "metadata": {
            "tags": []
          }
        }
      ]
    },
    {
      "cell_type": "code",
      "metadata": {
        "colab": {
          "base_uri": "https://localhost:8080/",
          "height": 428
        },
        "id": "P_YLcmX3tyy3",
        "outputId": "958eeefd-6e07-41e2-facc-baf6e01d236c"
      },
      "source": [
        "#Plots\n",
        "#sns.set_theme(style=\"whitegrid\")\n",
        "plt.rcParams[\"axes.grid\"] = True\n",
        "fig = plt.figure()\n",
        "fig.set_size_inches((9,6))\n",
        "import matplotlib.pyplot as plt\n",
        "plt.rcParams.update({'font.size': 30})\n",
        "\n",
        "plt.plot(data['w'], data['K'], alpha=0.95, color='red',  marker='o', linestyle='None')\n",
        "\n",
        "plt.legend()\n",
        "plt.ylabel('Wear coefficient')\n",
        "plt.xlabel('Wear rate')\n"
      ],
      "execution_count": null,
      "outputs": [
        {
          "output_type": "stream",
          "text": [
            "No handles with labels found to put in legend.\n"
          ],
          "name": "stderr"
        },
        {
          "output_type": "execute_result",
          "data": {
            "text/plain": [
              "Text(0.5, 0, 'Wear rate')"
            ]
          },
          "metadata": {
            "tags": []
          },
          "execution_count": 4
        },
        {
          "output_type": "display_data",
          "data": {
            "image/png": "[encoded data removed]",
            "text/plain": [
              "<Figure size 648x432 with 1 Axes>"
            ]
          },
          "metadata": {
            "tags": []
          }
        }
      ]
    },
    {
      "cell_type": "code",
      "metadata": {
        "id": "PAcwwaQLiT7w"
      },
      "source": [
        "X=data[['LP', 'SS', 'LT',  'RD', 'HBM', 'HCB', 'F','D', 'w']]\n",
        "Y=data['K'][:,None]"
      ],
      "execution_count": null,
      "outputs": []
    },
    {
      "cell_type": "code",
      "metadata": {
        "colab": {
          "base_uri": "https://localhost:8080/"
        },
        "id": "h9eH4KMIi7lM",
        "outputId": "112ca516-5b4d-450d-af05-778c65cfef06"
      },
      "source": [
        "from sklearn.model_selection import train_test_split\n",
        "\n",
        "X_train, X_test, y_train, y_test = train_test_split(X, Y, test_size=0.2, random_state=42)\n",
        "print('training samples:', X_train.shape[0],  ' test samples:', X_test.shape[0])"
      ],
      "execution_count": null,
      "outputs": [
        {
          "output_type": "stream",
          "text": [
            "training samples: 49  test samples: 13\n"
          ],
          "name": "stdout"
        }
      ]
    },
    {
      "cell_type": "code",
      "metadata": {
        "id": "bDp28wMQi_qi"
      },
      "source": [
        "from sklearn.preprocessing import StandardScaler\n",
        "\n",
        "scaler = StandardScaler()\n",
        "X_train = scaler.fit_transform(X_train)\n",
        "X_test = scaler.transform(X_test)"
      ],
      "execution_count": null,
      "outputs": []
    },
    {
      "cell_type": "code",
      "metadata": {
        "id": "pOMAkvfOjAL8"
      },
      "source": [
        "from lazypredict.Supervised import LazyRegressor\n",
        "from sklearn.utils import shuffle"
      ],
      "execution_count": null,
      "outputs": []
    },
    {
      "cell_type": "code",
      "metadata": {
        "colab": {
          "base_uri": "https://localhost:8080/"
        },
        "id": "U0Q5UH6GjFnh",
        "outputId": "e7274095-ceea-449c-b2f6-3ff6f27ec330"
      },
      "source": [
        "from sklearn.metrics import mean_absolute_error as MAE\n",
        "reg = LazyRegressor(verbose=0,ignore_warnings=False, custom_metric=None)\n",
        "models,predictions = reg.fit(X_train, X_test, y_train, y_test)\n",
        "\n",
        "print(models)"
      ],
      "execution_count": null,
      "outputs": [
        {
          "output_type": "stream",
          "text": [
            "100%|██████████| 42/42 [00:01<00:00, 29.82it/s]"
          ],
          "name": "stderr"
        },
        {
          "output_type": "stream",
          "text": [
            "                               Adjusted R-Squared  R-Squared  RMSE  Time Taken\n",
            "Model                                                                         \n",
            "ExtraTreesRegressor                          0.87       0.97  2.21        0.11\n",
            "GradientBoostingRegressor                    0.83       0.96  2.59        0.07\n",
            "XGBRegressor                                 0.72       0.93  3.29        0.04\n",
            "AdaBoostRegressor                            0.72       0.93  3.29        0.08\n",
            "DecisionTreeRegressor                        0.65       0.91  3.71        0.01\n",
            "RandomForestRegressor                        0.52       0.88  4.32        0.19\n",
            "BaggingRegressor                             0.50       0.88  4.40        0.03\n",
            "PoissonRegressor                             0.28       0.82  5.30        0.01\n",
            "SGDRegressor                                 0.26       0.82  5.35        0.01\n",
            "LassoLarsCV                                  0.26       0.82  5.35        0.03\n",
            "LarsCV                                       0.26       0.82  5.35        0.03\n",
            "LassoCV                                      0.26       0.82  5.35        0.08\n",
            "Lars                                         0.26       0.82  5.35        0.01\n",
            "LinearRegression                             0.26       0.82  5.35        0.01\n",
            "TransformedTargetRegressor                   0.26       0.82  5.35        0.01\n",
            "RidgeCV                                      0.24       0.81  5.43        0.01\n",
            "Ridge                                        0.24       0.81  5.43        0.01\n",
            "BayesianRidge                                0.24       0.81  5.44        0.01\n",
            "ElasticNetCV                                 0.23       0.81  5.47        0.06\n",
            "OrthogonalMatchingPursuitCV                  0.18       0.80  5.63        0.01\n",
            "HuberRegressor                               0.14       0.78  5.79        0.02\n",
            "LassoLarsIC                                 -0.00       0.75  6.24        0.01\n",
            "Lasso                                       -0.02       0.75  6.29        0.01\n",
            "PassiveAggressiveRegressor                  -0.03       0.74  6.31        0.01\n",
            "RANSACRegressor                             -0.10       0.72  6.54        0.06\n",
            "ExtraTreeRegressor                          -0.24       0.69  6.95        0.01\n",
            "OrthogonalMatchingPursuit                   -0.48       0.63  7.59        0.01\n",
            "LinearSVR                                   -0.56       0.61  7.77        0.01\n",
            "GaussianProcessRegressor                    -0.59       0.60  7.85        0.01\n",
            "ElasticNet                                  -0.64       0.59  7.99        0.01\n",
            "HistGradientBoostingRegressor               -0.74       0.56  8.23        0.08\n",
            "LGBMRegressor                               -0.78       0.55  8.32        0.04\n",
            "GeneralizedLinearRegressor                  -1.09       0.48  9.02        0.01\n",
            "TweedieRegressor                            -1.09       0.48  9.02        0.01\n",
            "KNeighborsRegressor                         -1.23       0.44  9.30        0.01\n",
            "MLPRegressor                                -1.64       0.34 10.13        0.15\n",
            "GammaRegressor                              -1.78       0.30 10.39        0.01\n",
            "KernelRidge                                 -2.43       0.14 11.55        0.01\n",
            "LassoLars                                   -2.51       0.12 11.68        0.01\n",
            "NuSVR                                       -3.52      -0.13 13.24        0.01\n",
            "SVR                                         -3.85      -0.21 13.72        0.01\n",
            "DummyRegressor                              -3.89      -0.22 13.78        0.01\n"
          ],
          "name": "stdout"
        },
        {
          "output_type": "stream",
          "text": [
            "\n"
          ],
          "name": "stderr"
        }
      ]
    },
    {
      "cell_type": "markdown",
      "metadata": {
        "id": "3Ylcj7nNlK1d"
      },
      "source": [
        "XGBR"
      ]
    },
    {
      "cell_type": "code",
      "metadata": {
        "id": "wGWof7YDjGHw"
      },
      "source": [
        "import pickle\n",
        "import xgboost as xgb\n",
        "\n",
        "xgbr = xgb.XGBRegressor(base_score=0.5, booster='gbtree', colsample_bylevel=1,\n",
        "             colsample_bynode=1, colsample_bytree=1, gamma=0, gpu_id=-1,\n",
        "             importance_type='gain', interaction_constraints='',\n",
        "             learning_rate=0.1, max_delta_step=0, max_depth=40,\n",
        "             min_child_weight=1,  monotone_constraints='()',\n",
        "             n_estimators=10000, n_jobs=0, num_parallel_tree=1, random_state=42,\n",
        "             reg_alpha=0, reg_lambda=1, scale_pos_weight=1, subsample=1,\n",
        "             tree_method='exact', validate_parameters=1, verbosity=0)\n",
        "xgbr.fit(X_train, y_train)\n",
        "y_pred = xgbr.predict(X_test)"
      ],
      "execution_count": null,
      "outputs": []
    },
    {
      "cell_type": "code",
      "metadata": {
        "colab": {
          "base_uri": "https://localhost:8080/"
        },
        "id": "Y284C_GokAkj",
        "outputId": "120e4685-b864-476a-c232-428d43750932"
      },
      "source": [
        "print(\"-XGBRegressor -\")\n",
        "print(\"------------------\")\n",
        "y_star_train = xgbr.predict(X_train)\n",
        "\n",
        "#EVAL\n",
        "from sklearn.metrics import mean_squared_error as MSE\n",
        "MSE_test = MSE(y_test, y_pred)\n",
        "\n",
        "print('MSE test:', MSE_test)\n",
        "\n",
        "print()\n",
        "\n",
        "from sklearn.metrics import r2_score\n",
        "from sklearn.metrics import mean_absolute_error as MAE \n",
        "\n",
        "#METRICS: R2, RMSE, MAE\n",
        "R2=r2_score(y_test, y_pred)\n",
        "print('R2: ',R2)\n",
        "RMSE = np.sqrt(MSE_test)\n",
        "print(\"RMSE: \", RMSE)\n",
        "MAE = MAE(y_test, y_pred)\n",
        "print(\"MAE: \", MAE)\n",
        "IM=np.sqrt(((1-R2)**2) + (RMSE**2) + (MAE**2) )\n",
        "print(\"IM: \", IM)\n",
        "print()"
      ],
      "execution_count": null,
      "outputs": [
        {
          "output_type": "stream",
          "text": [
            "-XGBRegressor -\n",
            "------------------\n",
            "MSE test: 7.449781267041502\n",
            "\n",
            "R2:  0.9520405625820793\n",
            "RMSE:  2.7294287437193705\n",
            "MAE:  2.260113185827549\n",
            "IM:  3.5440362565062022\n",
            "\n"
          ],
          "name": "stdout"
        }
      ]
    },
    {
      "cell_type": "markdown",
      "metadata": {
        "id": "euUcV1Y5o-QW"
      },
      "source": [
        "Random search optimization"
      ]
    },
    {
      "cell_type": "code",
      "metadata": {
        "id": "P-oHBff2pAyI"
      },
      "source": [
        "from sklearn.model_selection import RandomizedSearchCV\n",
        "from sklearn.model_selection import RepeatedKFold\n",
        "from sklearn.preprocessing import StandardScaler"
      ],
      "execution_count": null,
      "outputs": []
    },
    {
      "cell_type": "code",
      "metadata": {
        "id": "2f2rAZizpB4c"
      },
      "source": [
        "# initialize model and define the space of the hyperparameters to\n",
        "# perform the grid-search over\n",
        "model = xgbr\n",
        "n_estimators = [10, 100, 1000, 10000]\n",
        "learning_rate = [0.1, 0.01, 1e-3]\n",
        "max_depth = [5, 10, 20, 40]\n",
        "reg_lambda = [0.01, 0.1, 1]\n",
        "\n",
        "\n",
        "grid = dict(n_estimators=n_estimators, learning_rate=learning_rate, max_depth=max_depth )"
      ],
      "execution_count": null,
      "outputs": []
    },
    {
      "cell_type": "code",
      "metadata": {
        "colab": {
          "base_uri": "https://localhost:8080/"
        },
        "id": "pb2D5l9cpHAM",
        "outputId": "8ec315f8-419f-4263-84ce-93d3e4412290"
      },
      "source": [
        "# initialize a cross-validation fold and perform a randomized-search\n",
        "# to tune the hyperparameters\n",
        "print(\"[INFO] grid searching over the hyperparameters...\")\n",
        "cvFold = RepeatedKFold(n_splits=10, n_repeats=3, random_state=1)\n",
        "randomSearch = RandomizedSearchCV(estimator=model, n_jobs=-1,\n",
        "\tcv=cvFold, param_distributions=grid,\n",
        "\tscoring=\"neg_mean_squared_error\")\n",
        "searchResults = randomSearch.fit(X_train, y_train)\n",
        "# extract the best model and evaluate it\n",
        "print(\"[INFO] evaluating...\")\n",
        "bestModel = searchResults.best_estimator_\n",
        "print(\"R2: {:.2f}\".format(bestModel.score(X_test, y_test)))\n",
        "print(bestModel)"
      ],
      "execution_count": null,
      "outputs": [
        {
          "output_type": "stream",
          "text": [
            "[INFO] grid searching over the hyperparameters...\n",
            "[INFO] evaluating...\n",
            "R2: 0.95\n",
            "XGBRegressor(base_score=0.5, booster='gbtree', colsample_bylevel=1,\n",
            "             colsample_bynode=1, colsample_bytree=1, gamma=0, gpu_id=-1,\n",
            "             importance_type='gain', interaction_constraints='',\n",
            "             learning_rate=0.1, max_delta_step=0, max_depth=40,\n",
            "             min_child_weight=1, missing=nan, monotone_constraints='()',\n",
            "             n_estimators=10000, n_jobs=0, num_parallel_tree=1, random_state=0,\n",
            "             reg_alpha=0, reg_lambda=1, scale_pos_weight=1, subsample=1,\n",
            "             tree_method='exact', validate_parameters=1, verbosity=0)\n"
          ],
          "name": "stdout"
        }
      ]
    },
    {
      "cell_type": "code",
      "metadata": {
        "colab": {
          "background_save": true,
          "base_uri": "https://localhost:8080/"
        },
        "id": "wKyqHA7qkFhE",
        "outputId": "8b0bcdc0-47e2-4faf-f400-ca7040121640"
      },
      "source": [
        "# get importance\n",
        "\n",
        "importance = xgbr.feature_importances_\n",
        "# summarize feature importance\n",
        "\n",
        "for i,v in enumerate(importance):\n",
        "\tprint('Feature: %0d, Score: %.5f' % (i,v))\n",
        "# plot feature importance\n"
      ],
      "execution_count": null,
      "outputs": [
        {
          "output_type": "stream",
          "text": [
            "Feature: 0, Score: 0.01047\n",
            "Feature: 1, Score: 0.00175\n",
            "Feature: 2, Score: 0.00006\n",
            "Feature: 3, Score: 0.13450\n",
            "Feature: 4, Score: 0.04362\n",
            "Feature: 5, Score: 0.00019\n",
            "Feature: 6, Score: 0.00102\n",
            "Feature: 7, Score: 0.19690\n",
            "Feature: 8, Score: 0.61149\n"
          ],
          "name": "stdout"
        }
      ]
    },
    {
      "cell_type": "code",
      "metadata": {
        "colab": {
          "base_uri": "https://localhost:8080/",
          "height": 322
        },
        "id": "jxupf4yskJE0",
        "outputId": "0a67c422-043f-4e73-ab91-b5eb99a32d13"
      },
      "source": [
        "# Create lists for the plot\n",
        "import seaborn as sns\n",
        "sns.set()\n",
        "\n",
        "#plt.rcParams[\"axes.grid\"] = False\n",
        "\n",
        "labels = ['P', 'S', 'L',  'D', 'HBM', 'HCB', 'F','d', 'w']\n",
        "#labels = [ 'HBM', 'HCB', 'F','D','K' ]\n",
        "x_pos = np.arange(len(labels))\n",
        "\n",
        "\n",
        "fig, ax = plt.subplots()\n",
        "fig.set_size_inches((8,5))\n",
        "\n",
        "ax.bar(x_pos, importance, align='center', alpha=0.95, color='red')\n",
        "ax.set_ylabel('Features Importance')\n",
        "ax.set_xticks(x_pos)\n",
        "ax.set_xticklabels(labels)\n",
        "#ax.set_title('Features Importance Analysis')\n",
        "ax.yaxis.grid(True)"
      ],
      "execution_count": null,
      "outputs": [
        {
          "output_type": "display_data",
          "data": {
            "image/png": "[encoded data removed]",
            "text/plain": [
              "<Figure size 576x360 with 1 Axes>"
            ]
          },
          "metadata": {
            "tags": []
          }
        }
      ]
    },
    {
      "cell_type": "markdown",
      "metadata": {
        "id": "rtiABXjPlF0g"
      },
      "source": [
        "GBR"
      ]
    },
    {
      "cell_type": "code",
      "metadata": {
        "colab": {
          "base_uri": "https://localhost:8080/"
        },
        "id": "ezNArQ76k6M8",
        "outputId": "3324fb01-d17c-42b5-98f1-45bee536536d"
      },
      "source": [
        "from sklearn.ensemble import GradientBoostingRegressor\n",
        "#KERNEL\n",
        "#GBR=GradientBoostingRegressor(n_estimators=100, random_state=0)\n",
        "GBR=GradientBoostingRegressor(n_estimators=5000, random_state=42, learning_rate=0.1 )\n",
        "\n",
        "#START TRAINING\n",
        "GBR.fit(X_train, y_train)\n",
        "#PREDICTION\n",
        "y_pred=GBR.predict(X_test)\n",
        "\n",
        "#EVAL\n",
        "from sklearn.metrics import mean_squared_error as MSE\n",
        "MSE_test = MSE(y_test, y_pred)\n",
        "\n",
        " \n",
        "print(\"-Gradient boosting regressor-\")\n",
        "print(\"-----------------------------\")\n",
        "\n",
        "print('MSE test:', MSE_test)\n",
        "\n",
        "print()\n",
        "\n",
        "from sklearn.metrics import r2_score\n",
        "from sklearn.metrics import mean_absolute_error as MAE \n",
        "\n",
        "#METRICS: R2, RMSE, MAE\n",
        "R2=r2_score(y_test, y_pred)\n",
        "print('R2: ',R2)\n",
        "RMSE = np.sqrt(MSE_test)\n",
        "print(\"RMSE: \", RMSE)\n",
        "MAE = MAE(y_test, y_pred)\n",
        "print(\"MAE: \", MAE)\n",
        "IM=np.sqrt(((1-R2)**2) + (RMSE**2) + (MAE**2) )\n",
        "print(\"IM: \", IM)\n",
        "print()"
      ],
      "execution_count": null,
      "outputs": [
        {
          "output_type": "stream",
          "text": [
            "-Gradient boosting regressor-\n",
            "-----------------------------\n",
            "MSE test: 6.707872794269478\n",
            "\n",
            "R2:  0.9568167448207647\n",
            "RMSE:  2.589956137518448\n",
            "MAE:  2.094255937426088\n",
            "IM:  3.331012686742843\n",
            "\n"
          ],
          "name": "stdout"
        }
      ]
    },
    {
      "cell_type": "markdown",
      "metadata": {
        "id": "PHnJOVfblHoi"
      },
      "source": [
        "AdaBoost"
      ]
    },
    {
      "cell_type": "code",
      "metadata": {
        "colab": {
          "base_uri": "https://localhost:8080/"
        },
        "id": "-zjt4ApAlEOq",
        "outputId": "e6b7be83-0c7b-496e-ecb8-614f4c72ea23"
      },
      "source": [
        "from sklearn.ensemble import AdaBoostRegressor\n",
        "\n",
        "print(\" AdaBoost -\")\n",
        "print(\"------------------\")\n",
        "\n",
        "Ada = AdaBoostRegressor(random_state=32, n_estimators=1000)\n",
        "#START TRAINING\n",
        "Ada.fit(X_train,y_train)\n",
        "#PREDICTION\n",
        "y_pred=Ada.predict(X_test)\n",
        "\n",
        "#EVAL\n",
        "from sklearn.metrics import mean_squared_error as MSE\n",
        "MSE_test = MSE(y_test, y_pred)\n",
        "\n",
        "print('MSE test:', MSE_test)\n",
        "\n",
        "print()\n",
        "\n",
        "from sklearn.metrics import r2_score\n",
        "from sklearn.metrics import mean_absolute_error as MAE \n",
        "\n",
        "#METRICS: R2, RMSE, MAE\n",
        "R2=r2_score(y_test, y_pred)\n",
        "print('R2: ',R2)\n",
        "RMSE = np.sqrt(MSE_test)\n",
        "print(\"RMSE: \", RMSE)\n",
        "MAE = MAE(y_test, y_pred)\n",
        "print(\"MAE: \", MAE)\n",
        "IM=np.sqrt(((1-R2)**2) + (RMSE**2) + (MAE**2) )\n",
        "print(\"IM: \", IM)\n",
        "print()"
      ],
      "execution_count": null,
      "outputs": [
        {
          "output_type": "stream",
          "text": [
            " AdaBoost -\n",
            "------------------\n",
            "MSE test: 9.799983574842042\n",
            "\n",
            "R2:  0.9369106713194899\n",
            "RMSE:  3.1304925450864824\n",
            "MAE:  2.793970085470085\n",
            "IM:  4.196454774775622\n",
            "\n"
          ],
          "name": "stdout"
        }
      ]
    },
    {
      "cell_type": "markdown",
      "metadata": {
        "id": "luhokZpA0hUd"
      },
      "source": [
        "GPR"
      ]
    },
    {
      "cell_type": "code",
      "metadata": {
        "colab": {
          "base_uri": "https://localhost:8080/"
        },
        "id": "bTe3OIgp0i4j",
        "outputId": "056445e4-1c0c-493f-913b-d6786661a510"
      },
      "source": [
        "from sklearn.gaussian_process import GaussianProcessRegressor as GPR\n",
        "from sklearn.gaussian_process.kernels import RBF, ConstantKernel as C\n",
        "kernel = C(1.0, (1e-3, 1e3)) * RBF(10, (1e-2, 1e2))\n",
        " \n",
        "GP=GPR(alpha=0.001, copy_X_train=True,\n",
        "                         kernel=1**2 * RBF(length_scale=10),\n",
        "                         n_restarts_optimizer=40, normalize_y=True,\n",
        "                         optimizer='fmin_l_bfgs_b', random_state=1234)\n",
        " \n",
        "#Training\n",
        "GP.fit(X_train,y_train)\n",
        " \n",
        "#Testing\n",
        "y_star_train = GP.predict(X_train)\n",
        "y_pred = GP.predict(X_test)\n",
        " \n",
        "from sklearn.metrics import mean_squared_error\n",
        "MSE_test = mean_squared_error(y_test, y_pred)\n",
        "MSE_train = mean_squared_error(y_train, y_star_train)\n",
        " \n",
        "print(\"Gaussian Process\")\n",
        "print('MSE train:', MSE_train)\n",
        "print('MSE test:', MSE_test)\n",
        "print(\"MSE train < MSE test?\", MSE_train < MSE_test)\n",
        "print()\n",
        "from sklearn.metrics import r2_score\n",
        "R2_train=r2_score(y_train, y_star_train)\n",
        "print('R2_train: ',R2_train)\n",
        "R2_test=r2_score(y_test, y_pred)\n",
        "print('R2_test: ',R2_test)\n",
        "print()\n",
        "\"\"\" \n",
        "RE=100 * abs(y_test - y_pred) / y_test\n",
        "print('Relative error (%): ',RE)\n",
        "\"\"\"\n",
        "from sklearn.metrics import r2_score\n",
        "from sklearn.metrics import mean_absolute_error as MAE \n",
        "#METRICS: R2, RMSE, MAE\n",
        "R2=r2_score(y_test, y_pred)\n",
        "print('R2: ',R2)\n",
        "RMSE = np.sqrt(MSE_test)\n",
        "print(\"RMSE: \", RMSE)\n",
        "MAE = MAE(y_test, y_pred)\n",
        "print(\"MAE: \", MAE)\n",
        "IM=np.sqrt(((1-R2)**2) + (RMSE**2) + (MAE**2) )\n",
        "print(\"IM: \", IM)\n",
        "print()"
      ],
      "execution_count": null,
      "outputs": [
        {
          "output_type": "stream",
          "text": [
            "Gaussian Process\n",
            "MSE train: 0.006993464484704267\n",
            "MSE test: 0.5985730414165049\n",
            "MSE train < MSE test? True\n",
            "\n",
            "R2_train:  0.9999388436320826\n",
            "R2_test:  0.9961465678936277\n",
            "\n",
            "R2:  0.9961465678936277\n",
            "RMSE:  0.7736750231308395\n",
            "MAE:  0.5345789788727899\n",
            "IM:  0.9404055375252627\n",
            "\n"
          ],
          "name": "stdout"
        }
      ]
    },
    {
      "cell_type": "markdown",
      "metadata": {
        "id": "65BcrZ7PlVu3"
      },
      "source": [
        "C-V"
      ]
    },
    {
      "cell_type": "code",
      "metadata": {
        "colab": {
          "base_uri": "https://localhost:8080/",
          "height": 387
        },
        "id": "L74jTiKQlWmN",
        "outputId": "8c313853-a986-49c3-fae0-3c135e0abe98"
      },
      "source": [
        "import seaborn as sns\n",
        "sns.set()\n",
        "\n",
        "y1=xgbr.predict(X_test)\n",
        "y2=GBR.predict(X_test)\n",
        "y3=Ada.predict(X_test)\n",
        "y4=GP.predict(X_test)\n",
        "#Plots\n",
        "#sns.set_theme(style=\"whitegrid\")\n",
        "plt.rcParams[\"axes.grid\"] = True\n",
        "fig = plt.figure()\n",
        "fig.set_size_inches((9,6))\n",
        "import matplotlib.pyplot as plt\n",
        "plt.rcParams.update({'font.size': 30})\n",
        "\n",
        "plt.plot(y_train, y_star_train, 'yx', label = 'Train')\n",
        "plt.plot([y_star_train.min(), y_star_train.max()], [y_star_train.min(), y_star_train.max()], 'k--')\n",
        "plt.plot(y_test, y1, 'rs', label = 'XGBR')\n",
        "plt.plot(y_test, y2, 'g^', label = 'GBR')\n",
        "plt.plot(y_test, y3, 'bo', label = 'Adaboost')\n",
        "plt.plot(y_test, y4, 'm*', label = 'Gaussian')\n",
        "\n",
        "\n",
        "plt.legend()\n",
        "plt.ylabel('Predicted wear coefficient')\n",
        "plt.xlabel('Measured wear coefficient')\n",
        "#plt.title(\"Machine learning regressors\")\n",
        "print()"
      ],
      "execution_count": null,
      "outputs": [
        {
          "output_type": "error",
          "ename": "ValueError",
          "evalue": "ignored",
          "traceback": [
            "\u001b[0;31m---------------------------------------------------------------------------\u001b[0m",
            "\u001b[0;31mValueError\u001b[0m                                Traceback (most recent call last)",
            "\u001b[0;32m<ipython-input-47-225a19fd5947>\u001b[0m in \u001b[0;36m<module>\u001b[0;34m()\u001b[0m\n\u001b[1;32m      2\u001b[0m \u001b[0msns\u001b[0m\u001b[0;34m.\u001b[0m\u001b[0mset\u001b[0m\u001b[0;34m(\u001b[0m\u001b[0;34m)\u001b[0m\u001b[0;34m\u001b[0m\u001b[0;34m\u001b[0m\u001b[0m\n\u001b[1;32m      3\u001b[0m \u001b[0;34m\u001b[0m\u001b[0m\n\u001b[0;32m----> 4\u001b[0;31m \u001b[0my1\u001b[0m\u001b[0;34m=\u001b[0m\u001b[0mxgbr\u001b[0m\u001b[0;34m.\u001b[0m\u001b[0mpredict\u001b[0m\u001b[0;34m(\u001b[0m\u001b[0mX_test\u001b[0m\u001b[0;34m)\u001b[0m\u001b[0;34m\u001b[0m\u001b[0;34m\u001b[0m\u001b[0m\n\u001b[0m\u001b[1;32m      5\u001b[0m \u001b[0my2\u001b[0m\u001b[0;34m=\u001b[0m\u001b[0mGBR\u001b[0m\u001b[0;34m.\u001b[0m\u001b[0mpredict\u001b[0m\u001b[0;34m(\u001b[0m\u001b[0mX_test\u001b[0m\u001b[0;34m)\u001b[0m\u001b[0;34m\u001b[0m\u001b[0;34m\u001b[0m\u001b[0m\n\u001b[1;32m      6\u001b[0m \u001b[0my3\u001b[0m\u001b[0;34m=\u001b[0m\u001b[0mAda\u001b[0m\u001b[0;34m.\u001b[0m\u001b[0mpredict\u001b[0m\u001b[0;34m(\u001b[0m\u001b[0mX_test\u001b[0m\u001b[0;34m)\u001b[0m\u001b[0;34m\u001b[0m\u001b[0;34m\u001b[0m\u001b[0m\n",
            "\u001b[0;32m/usr/local/lib/python3.7/dist-packages/xgboost/sklearn.py\u001b[0m in \u001b[0;36mpredict\u001b[0;34m(self, data, output_margin, ntree_limit, validate_features, base_margin)\u001b[0m\n\u001b[1;32m    598\u001b[0m                                           \u001b[0moutput_margin\u001b[0m\u001b[0;34m=\u001b[0m\u001b[0moutput_margin\u001b[0m\u001b[0;34m,\u001b[0m\u001b[0;34m\u001b[0m\u001b[0;34m\u001b[0m\u001b[0m\n\u001b[1;32m    599\u001b[0m                                           \u001b[0mntree_limit\u001b[0m\u001b[0;34m=\u001b[0m\u001b[0mntree_limit\u001b[0m\u001b[0;34m,\u001b[0m\u001b[0;34m\u001b[0m\u001b[0;34m\u001b[0m\u001b[0m\n\u001b[0;32m--> 600\u001b[0;31m                                           validate_features=validate_features)\n\u001b[0m\u001b[1;32m    601\u001b[0m \u001b[0;34m\u001b[0m\u001b[0m\n\u001b[1;32m    602\u001b[0m     \u001b[0;32mdef\u001b[0m \u001b[0mapply\u001b[0m\u001b[0;34m(\u001b[0m\u001b[0mself\u001b[0m\u001b[0;34m,\u001b[0m \u001b[0mX\u001b[0m\u001b[0;34m,\u001b[0m \u001b[0mntree_limit\u001b[0m\u001b[0;34m=\u001b[0m\u001b[0;36m0\u001b[0m\u001b[0;34m)\u001b[0m\u001b[0;34m:\u001b[0m\u001b[0;34m\u001b[0m\u001b[0;34m\u001b[0m\u001b[0m\n",
            "\u001b[0;32m/usr/local/lib/python3.7/dist-packages/xgboost/core.py\u001b[0m in \u001b[0;36mpredict\u001b[0;34m(self, data, output_margin, ntree_limit, pred_leaf, pred_contribs, approx_contribs, pred_interactions, validate_features, training)\u001b[0m\n\u001b[1;32m   1569\u001b[0m \u001b[0;34m\u001b[0m\u001b[0m\n\u001b[1;32m   1570\u001b[0m         \u001b[0;32mif\u001b[0m \u001b[0mvalidate_features\u001b[0m\u001b[0;34m:\u001b[0m\u001b[0;34m\u001b[0m\u001b[0;34m\u001b[0m\u001b[0m\n\u001b[0;32m-> 1571\u001b[0;31m             \u001b[0mself\u001b[0m\u001b[0;34m.\u001b[0m\u001b[0m_validate_features\u001b[0m\u001b[0;34m(\u001b[0m\u001b[0mdata\u001b[0m\u001b[0;34m)\u001b[0m\u001b[0;34m\u001b[0m\u001b[0;34m\u001b[0m\u001b[0m\n\u001b[0m\u001b[1;32m   1572\u001b[0m \u001b[0;34m\u001b[0m\u001b[0m\n\u001b[1;32m   1573\u001b[0m         \u001b[0mlength\u001b[0m \u001b[0;34m=\u001b[0m \u001b[0mc_bst_ulong\u001b[0m\u001b[0;34m(\u001b[0m\u001b[0;34m)\u001b[0m\u001b[0;34m\u001b[0m\u001b[0;34m\u001b[0m\u001b[0m\n",
            "\u001b[0;32m/usr/local/lib/python3.7/dist-packages/xgboost/core.py\u001b[0m in \u001b[0;36m_validate_features\u001b[0;34m(self, data)\u001b[0m\n\u001b[1;32m   2129\u001b[0m \u001b[0;34m\u001b[0m\u001b[0m\n\u001b[1;32m   2130\u001b[0m                 raise ValueError(msg.format(self.feature_names,\n\u001b[0;32m-> 2131\u001b[0;31m                                             data.feature_names))\n\u001b[0m\u001b[1;32m   2132\u001b[0m \u001b[0;34m\u001b[0m\u001b[0m\n\u001b[1;32m   2133\u001b[0m     def get_split_value_histogram(self, feature, fmap='', bins=None,\n",
            "\u001b[0;31mValueError\u001b[0m: feature_names mismatch: ['f0', 'f1', 'f2', 'f3', 'f4', 'f5', 'f6', 'f7', 'f8'] ['f0']\nexpected f5, f3, f6, f8, f2, f7, f1, f4 in input data"
          ]
        }
      ]
    },
    {
      "cell_type": "code",
      "metadata": {
        "colab": {
          "base_uri": "https://localhost:8080/"
        },
        "id": "Z_9GprQUldvK",
        "outputId": "32d2c6c7-b178-4939-b1df-8a349f502ab9"
      },
      "source": [
        "\n",
        "from sklearn.metrics import r2_score\n",
        "from sklearn.metrics import mean_squared_error as MSE\n",
        "from sklearn.metrics import mean_absolute_error \n",
        "from sklearn.model_selection import cross_val_score as CV\n",
        "\n",
        "import warnings\n",
        "warnings.filterwarnings('ignore')\n",
        "\n",
        "models = [ xgbr,  GBR, Ada, GP ]\n",
        "labels = ['XGBR',  'GBR', 'Adaboost', 'GPR']\n",
        "IMS = []\n",
        "\n",
        "print(\"--------------------------------------------------------------\")\n",
        "print(\"%5s | %5s | %5s | %5s | %5s \" % (\"ML algorithm\",  \"CV-R2\", \"CV-MSE\", \"CV-MAE\", \"IM\"))\n",
        "print(\"--------------------------------------------------------------\")\n",
        "\n",
        "for mod, label in zip( models, labels): \n",
        "  #y_star = mod.predict(X)\n",
        " \n",
        "  scoreR2 = CV(mod, X_train, y_train, cv=5, scoring='r2')\n",
        "  #print(-1*scoreR2)\n",
        "  scoreMSE = CV(mod, X_train, y_train, cv=5, scoring='neg_mean_squared_error')\n",
        "  #print(-1*scoreMSE)\n",
        "  scoreMAE = CV(mod, X_train, y_train, cv=5, scoring='neg_mean_absolute_error')\n",
        "  #print(-1*scoreMAE)\n",
        "  IM=np.sqrt(((1-scoreR2)**2) + (scoreMSE) + (scoreMAE**2) )\n",
        "  #print(\"IM: \", IM)\n",
        "  \n",
        " \n",
        "  print(\"%15s | %.4f | %.4f | %.4f | %.4f \" % (label,  scoreR2.mean(), -1*scoreMSE.mean(), -1*scoreMAE.mean() , np.sqrt(((1-scoreR2.mean())**2) + (-1*scoreMSE.mean()) + (scoreMAE.mean()**2) )))\n",
        "print(\"--------------------------------------------------------------\")"
      ],
      "execution_count": null,
      "outputs": [
        {
          "output_type": "stream",
          "text": [
            "--------------------------------------------------------------\n",
            "ML algorithm | CV-R2 | CV-MSE | CV-MAE |    IM \n",
            "--------------------------------------------------------------\n",
            "           XGBR | 0.7657 | 22.3727 | 2.6934 | 5.4481 \n",
            "            GBR | 0.8116 | 18.8794 | 2.3829 | 4.9591 \n",
            "       Adaboost | 0.8022 | 20.0517 | 2.7945 | 5.2820 \n",
            "            GPR | 0.9618 | 3.7952 | 1.0432 | 2.2102 \n",
            "--------------------------------------------------------------\n"
          ],
          "name": "stdout"
        }
      ]
    },
    {
      "cell_type": "markdown",
      "metadata": {
        "id": "VWa-KJkqwh0Y"
      },
      "source": [
        "## Uncertainty quantification"
      ]
    },
    {
      "cell_type": "code",
      "metadata": {
        "colab": {
          "base_uri": "https://localhost:8080/",
          "height": 629
        },
        "id": "u8E6NCZNlzTi",
        "outputId": "c1fc5ed1-5f0f-4cac-b64d-377f26e616b9"
      },
      "source": [
        "from sklearn.gaussian_process import GaussianProcessRegressor as GPR\n",
        "from sklearn.gaussian_process.kernels import RBF, ConstantKernel as C\n",
        "kernel = C(1.0, (1e-3, 1e3)) * RBF(10, (1e-2, 1e2))\n",
        " \n",
        "GP=GPR(alpha=0.001, copy_X_train=True,\n",
        "                         kernel=1**2 * RBF(length_scale=10),\n",
        "                         n_restarts_optimizer=40, normalize_y=True,\n",
        "                         optimizer='fmin_l_bfgs_b', random_state=1234)\n",
        " \n",
        "#Training\n",
        "GP.fit(X_train,y_train)\n",
        " \n",
        "#Testing\n",
        "y_star_train = GP.predict(X_train)\n",
        "y_pred = GP.predict(X_test)\n",
        " \n",
        "#Plots\n",
        "sns.set_theme(style=\"darkgrid\")\n",
        "plt.rcParams[\"axes.grid\"] = True\n",
        "fig = plt.figure()\n",
        "fig.set_size_inches((9,6))\n",
        "\n",
        "import matplotlib.pyplot as plt\n",
        "plt.rcParams.update({'font.size': 30})\n",
        "\n",
        "plt.plot(y_train, y_star_train, 'bx', label = 'Train')\n",
        "plt.plot([y_star_train.min(), y_star_train.max()], [y_star_train.min(), y_star_train.max()], 'k--')\n",
        "plt.plot(y_test, y_pred, 'ro', label = 'Test')\n",
        "plt.plot([y_pred.min(), y_pred.max()], [y_pred.min(), y_pred.max()], 'k--')\n",
        "plt.legend()\n",
        "plt.ylabel('Predicted melting efficiency')\n",
        "plt.xlabel('Measured melting efficiency')\n",
        "plt.title(\"Gaussian process regressor\")\n",
        " \n",
        "from sklearn.metrics import mean_squared_error\n",
        "MSE_test = mean_squared_error(y_test, y_pred)\n",
        "MSE_train = mean_squared_error(y_train, y_star_train)\n",
        " \n",
        "print(\"Gaussian Process\")\n",
        "print('MSE train:', MSE_train)\n",
        "print('MSE test:', MSE_test)\n",
        "print(\"MSE train < MSE test?\", MSE_train < MSE_test)\n",
        "print()\n",
        "from sklearn.metrics import r2_score\n",
        "R2_train=r2_score(y_train, y_star_train)\n",
        "print('R2_train: ',R2_train)\n",
        "R2_test=r2_score(y_test, y_pred)\n",
        "print('R2_test: ',R2_test)\n",
        "print()\n",
        "\"\"\" \n",
        "RE=100 * abs(y_test - y_pred) / y_test\n",
        "print('Relative error (%): ',RE)\n",
        "\"\"\"\n",
        "from sklearn.metrics import r2_score\n",
        "from sklearn.metrics import mean_absolute_error as MAE \n",
        "#METRICS: R2, RMSE, MAE\n",
        "R2=r2_score(y_test, y_pred)\n",
        "print('R2: ',R2)\n",
        "RMSE = np.sqrt(MSE_test)\n",
        "print(\"RMSE: \", RMSE)\n",
        "MAE = MAE(y_test, y_pred)\n",
        "print(\"MAE: \", MAE)\n",
        "IM=np.sqrt(((1-R2)**2) + (RMSE**2) + (MAE**2) )\n",
        "print(\"IM: \", IM)\n",
        "print()"
      ],
      "execution_count": null,
      "outputs": [
        {
          "output_type": "stream",
          "text": [
            "Gaussian Process\n",
            "MSE train: 0.006993464484704267\n",
            "MSE test: 0.5985730414165049\n",
            "MSE train < MSE test? True\n",
            "\n",
            "R2_train:  0.9999388436320826\n",
            "R2_test:  0.9961465678936277\n",
            "\n",
            "R2:  0.9961465678936277\n",
            "RMSE:  0.7736750231308395\n",
            "MAE:  0.5345789788727899\n",
            "IM:  0.9404055375252627\n",
            "\n"
          ],
          "name": "stdout"
        },
        {
          "output_type": "display_data",
          "data": {
            "image/png": "[encoded data removed]",
            "text/plain": [
              "<Figure size 648x432 with 1 Axes>"
            ]
          },
          "metadata": {
            "tags": []
          }
        }
      ]
    },
    {
      "cell_type": "code",
      "metadata": {
        "id": "aQCToIRQxiUQ"
      },
      "source": [
        "X=data['w'][:,None]\n",
        "Y=data['K'][:,None]"
      ],
      "execution_count": null,
      "outputs": []
    },
    {
      "cell_type": "code",
      "metadata": {
        "colab": {
          "base_uri": "https://localhost:8080/"
        },
        "id": "4ES8XxX_xmr5",
        "outputId": "693cfbd3-c4b8-4843-d7af-d4f65f5110ba"
      },
      "source": [
        "from sklearn.model_selection import train_test_split\n",
        "\n",
        "X_train, X_test, y_train, y_test = train_test_split(X, Y, test_size=0.2, random_state=42)\n",
        "print('training samples:', X_train.shape[0],  ' test samples:', X_test.shape[0])"
      ],
      "execution_count": null,
      "outputs": [
        {
          "output_type": "stream",
          "text": [
            "training samples: 49  test samples: 13\n"
          ],
          "name": "stdout"
        }
      ]
    },
    {
      "cell_type": "markdown",
      "metadata": {
        "id": "8oG52c-Lxulv"
      },
      "source": [
        "Analitical model"
      ]
    },
    {
      "cell_type": "code",
      "metadata": {
        "colab": {
          "base_uri": "https://localhost:8080/",
          "height": 428
        },
        "id": "YqXnLnyDxwLN",
        "outputId": "8459795e-ab85-4251-e17d-b0ef1160aa1d"
      },
      "source": [
        "def f(x):\n",
        "  return  2.9321*x + 1.9759\n",
        "\n",
        "Xs = np.linspace(0.003,11.9,30)\n",
        "Ys=f(Xs)\n",
        "plt.figure()\n",
        "plt.figure(figsize =(9, 6))\n",
        "plt.plot(Xs, Ys, 'k--',  label = 'Model')\n",
        "plt.plot(X_train, y_train, 'b*', label = 'Train')\n",
        "plt.plot(X_test, y_test, 'ro', label = 'Test')\n",
        "plt.legend()\n",
        "plt.xlabel('Wear rate')\n",
        "plt.ylabel('Wear coefficient')"
      ],
      "execution_count": null,
      "outputs": [
        {
          "output_type": "execute_result",
          "data": {
            "text/plain": [
              "Text(0, 0.5, 'Wear coefficient')"
            ]
          },
          "metadata": {
            "tags": []
          },
          "execution_count": 31
        },
        {
          "output_type": "display_data",
          "data": {
            "text/plain": [
              "<Figure size 432x288 with 0 Axes>"
            ]
          },
          "metadata": {
            "tags": []
          }
        },
        {
          "output_type": "display_data",
          "data": {
            "image/png": "[encoded data removed]",
            "text/plain": [
              "<Figure size 648x432 with 1 Axes>"
            ]
          },
          "metadata": {
            "tags": []
          }
        }
      ]
    },
    {
      "cell_type": "code",
      "metadata": {
        "colab": {
          "base_uri": "https://localhost:8080/",
          "height": 428
        },
        "id": "6bLsN8OnyJL5",
        "outputId": "8dab3b2e-c8a7-4c89-ed5a-b706ac427a7d"
      },
      "source": [
        "#Tunning hiperparameters (Training data)\n",
        "def f(x):\n",
        "  return 2.9321*x + 1.9759\n",
        "\n",
        "X1 = np.asarray(X_train)\n",
        "y1 = np.asarray(y_train).ravel()\n",
        "\n",
        "x1 = np.atleast_2d(np.linspace(0.003,11.9,30)).T\n",
        "\n",
        "kernel = C(1.0, (1e-3, 1e3)) * RBF(10, (1e-3, 1e3))\n",
        "model = GPR(kernel=kernel, n_restarts_optimizer=8, alpha=0.5, normalize_y=True)\n",
        "\n",
        "model.fit(X1, y1)\n",
        "\n",
        "# Make the prediction on the meshed x-axis (ask for MSE as well)\n",
        "y_pred, sigma = model.predict(x1, return_std=True)\n",
        "\n",
        "# Plot the function, the prediction and the 95% confidence interval based on the MSE\n",
        "plt.figure()\n",
        "plt.figure(figsize =(9, 6)) \n",
        "plt.plot(x1, f(x1), 'k:', label=r'Empirical Model')\n",
        "plt.plot(X1, y1, 'b.', markersize=10, label='Experimental data')\n",
        "plt.plot(x1, y_pred, 'r-', label='Prediction')\n",
        "plt.fill(np.concatenate([x1, x1[::-1]]),\n",
        "         np.concatenate([y_pred - 1.9600 * sigma,\n",
        "                        (y_pred + 1.9600 * sigma)[::-1]]),\n",
        "         alpha=.25, fc='y', ec='None', label='95% confidence interval')\n",
        "plt.xlabel('Power (kW)')\n",
        "plt.ylabel('WW (mm)')\n",
        "plt.legend(loc='upper left')"
      ],
      "execution_count": null,
      "outputs": [
        {
          "output_type": "execute_result",
          "data": {
            "text/plain": [
              "<matplotlib.legend.Legend at 0x7fc19870f9d0>"
            ]
          },
          "metadata": {
            "tags": []
          },
          "execution_count": 32
        },
        {
          "output_type": "display_data",
          "data": {
            "text/plain": [
              "<Figure size 432x288 with 0 Axes>"
            ]
          },
          "metadata": {
            "tags": []
          }
        },
        {
          "output_type": "display_data",
          "data": {
            "image/png": "[encoded data removed]",
            "text/plain": [
              "<Figure size 648x432 with 1 Axes>"
            ]
          },
          "metadata": {
            "tags": []
          }
        }
      ]
    },
    {
      "cell_type": "code",
      "metadata": {
        "colab": {
          "base_uri": "https://localhost:8080/",
          "height": 428
        },
        "id": "2eX3-bCvy0J1",
        "outputId": "a3d9de7d-96cc-4436-f46e-22bd75dff0c1"
      },
      "source": [
        "#Tunning hiperparameters (Testing data)\n",
        "def f(x):\n",
        "  return 2.9321*x + 1.9759\n",
        "\n",
        "X2 = np.asarray(X)\n",
        "y2 = np.asarray(Y).ravel()\n",
        "\n",
        "x2 = np.atleast_2d(np.linspace(0.003,11.9,30)).T\n",
        "\n",
        "kernel = C(1.0, (1e-3, 1e3)) * RBF(10, (1e-3, 1e3))\n",
        "model = GPR(kernel=kernel, n_restarts_optimizer=8, alpha=0.1, normalize_y=True)\n",
        "\n",
        "model.fit(X2, y2)\n",
        "\n",
        "# Make the prediction on the meshed x-axis (ask for MSE as well)\n",
        "y_pred, sigma = model.predict(x2, return_std=True)\n",
        "\n",
        "# Plot the function, the prediction and the 95% confidence interval based on the MSE\n",
        "plt.figure()\n",
        "plt.figure(figsize =(9, 6)) \n",
        "plt.plot(x2, f(x2), 'k:', label=r'Analitical Model')\n",
        "plt.plot(X_train, y_train, 'bo', label = 'Train')\n",
        "plt.plot(X_test, y_test, 'ys', label = 'Test')\n",
        "plt.plot(x2, y_pred, 'r-' , label='Prediction')\n",
        "plt.fill(np.concatenate([x2, x2[::-1]]),\n",
        "         np.concatenate([y_pred - 1.9600 * sigma,\n",
        "                        (y_pred + 1.9600 * sigma)[::-1]]),\n",
        "         alpha=.1, fc='r', ec='None', label='95% confidence interval')\n",
        "plt.xlabel('Wear rate ')\n",
        "plt.ylabel('Wear coefficient ')\n",
        "plt.legend(loc='upper left')"
      ],
      "execution_count": null,
      "outputs": [
        {
          "output_type": "execute_result",
          "data": {
            "text/plain": [
              "<matplotlib.legend.Legend at 0x7fc199770990>"
            ]
          },
          "metadata": {
            "tags": []
          },
          "execution_count": 46
        },
        {
          "output_type": "display_data",
          "data": {
            "text/plain": [
              "<Figure size 432x288 with 0 Axes>"
            ]
          },
          "metadata": {
            "tags": []
          }
        },
        {
          "output_type": "display_data",
          "data": {
            "image/png": "[encoded data removed]",
            "text/plain": [
              "<Figure size 648x432 with 1 Axes>"
            ]
          },
          "metadata": {
            "tags": []
          }
        }
      ]
    },
    {
      "cell_type": "code",
      "metadata": {
        "id": "icFew20OzB6S"
      },
      "source": [
        ""
      ],
      "execution_count": null,
      "outputs": []
    }
  ]
}