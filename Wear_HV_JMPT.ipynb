{
  "nbformat": 4,
  "nbformat_minor": 0,
  "metadata": {
    "accelerator": "GPU",
    "colab": {
      "name": "Wear-HV-JMPT.ipynb",
      "provenance": [],
      "collapsed_sections": [],
      "toc_visible": true,
      "mount_file_id": "1AVhNreVvb3V43mwDnostdWyl9cHlYSxt",
      "authorship_tag": "ABX9TyOgrHD/F7K2tTzBmX7WABIb",
      "include_colab_link": true
    },
    "kernelspec": {
      "display_name": "Python 3",
      "name": "python3"
    }
  },
  "cells": [
    {
      "cell_type": "markdown",
      "metadata": {
        "id": "view-in-github",
        "colab_type": "text"
      },
      "source": [
        "<a href=\"https://colab.research.google.com/github/GermanOmar/Wear/blob/master/Wear_HV_JMPT.ipynb\" target=\"_parent\"><img src=\"https://colab.research.google.com/assets/colab-badge.svg\" alt=\"Open In Colab\"/></a>"
      ]
    },
    {
      "cell_type": "markdown",
      "metadata": {
        "id": "rqI9VDT0RdWk"
      },
      "source": [
        "# A machine learning approach for microhardness prediction and sliding wear evaluation in materials manufactured by laser powder bed fusion"
      ]
    },
    {
      "cell_type": "markdown",
      "metadata": {
        "id": "2OOvQQeg7d0g"
      },
      "source": [
        "<a href=\"https://ibb.co/3vvDZtg\"><img src=\"https://i.ibb.co/Nrr8Bwc/Tests2-TIFF.png\" WIDTH=\"620\" HEIGHT=\"360\"  border=\"0\"></a>"
      ]
    },
    {
      "cell_type": "markdown",
      "metadata": {
        "id": "3-T6Z2bdRvSm"
      },
      "source": [
        " Libraries"
      ]
    },
    {
      "cell_type": "code",
      "metadata": {
        "id": "ltCb1Iw6Raez"
      },
      "source": [
        "import numpy as np\n",
        "import pandas as pd\n",
        "from matplotlib import pyplot as plt\n",
        "from sklearn import preprocessing\n",
        "import warnings\n",
        "warnings.filterwarnings(\"ignore\")"
      ],
      "execution_count": null,
      "outputs": []
    },
    {
      "cell_type": "code",
      "metadata": {
        "colab": {
          "base_uri": "https://localhost:8080/",
          "height": 1000
        },
        "id": "SLSSHb-SwB0n",
        "outputId": "371a9b5e-b920-451e-acc8-4bf895b0496f"
      },
      "source": [
        "!pip install lazypredict\n",
        "warnings.filterwarnings(\"ignore\")"
      ],
      "execution_count": null,
      "outputs": [
        {
          "output_type": "stream",
          "text": [
            "Collecting lazypredict\n",
            "  Downloading lazypredict-0.2.9-py2.py3-none-any.whl (12 kB)\n",
            "Collecting joblib==1.0.0\n",
            "  Downloading joblib-1.0.0-py3-none-any.whl (302 kB)\n",
            "\u001b[K     |████████████████████████████████| 302 kB 5.0 MB/s \n",
            "\u001b[?25hRequirement already satisfied: click==7.1.2 in /usr/local/lib/python3.7/dist-packages (from lazypredict) (7.1.2)\n",
            "Collecting xgboost==1.1.1\n",
            "  Downloading xgboost-1.1.1-py3-none-manylinux2010_x86_64.whl (127.6 MB)\n",
            "\u001b[K     |████████████████████████████████| 127.6 MB 21 kB/s \n",
            "\u001b[?25hCollecting pytest==5.4.3\n",
            "  Downloading pytest-5.4.3-py3-none-any.whl (248 kB)\n",
            "\u001b[K     |████████████████████████████████| 248 kB 42.6 MB/s \n",
            "\u001b[?25hCollecting scipy==1.5.4\n",
            "  Downloading scipy-1.5.4-cp37-cp37m-manylinux1_x86_64.whl (25.9 MB)\n",
            "\u001b[K     |████████████████████████████████| 25.9 MB 926 bytes/s \n",
            "\u001b[?25hCollecting lightgbm==2.3.1\n",
            "  Downloading lightgbm-2.3.1-py2.py3-none-manylinux1_x86_64.whl (1.2 MB)\n",
            "\u001b[K     |████████████████████████████████| 1.2 MB 43.5 MB/s \n",
            "\u001b[?25hCollecting pandas==1.0.5\n",
            "  Downloading pandas-1.0.5-cp37-cp37m-manylinux1_x86_64.whl (10.1 MB)\n",
            "\u001b[K     |████████████████████████████████| 10.1 MB 42.6 MB/s \n",
            "\u001b[?25hCollecting PyYAML==5.3.1\n",
            "  Downloading PyYAML-5.3.1.tar.gz (269 kB)\n",
            "\u001b[K     |████████████████████████████████| 269 kB 42.2 MB/s \n",
            "\u001b[?25hCollecting numpy==1.19.1\n",
            "  Downloading numpy-1.19.1-cp37-cp37m-manylinux2010_x86_64.whl (14.5 MB)\n",
            "\u001b[K     |████████████████████████████████| 14.5 MB 7.6 kB/s \n",
            "\u001b[?25hCollecting tqdm==4.56.0\n",
            "  Downloading tqdm-4.56.0-py2.py3-none-any.whl (72 kB)\n",
            "\u001b[K     |████████████████████████████████| 72 kB 931 kB/s \n",
            "\u001b[?25hRequirement already satisfied: six==1.15.0 in /usr/local/lib/python3.7/dist-packages (from lazypredict) (1.15.0)\n",
            "Collecting scikit-learn==0.23.1\n",
            "  Downloading scikit_learn-0.23.1-cp37-cp37m-manylinux1_x86_64.whl (6.8 MB)\n",
            "\u001b[K     |████████████████████████████████| 6.8 MB 44.1 MB/s \n",
            "\u001b[?25hRequirement already satisfied: python-dateutil>=2.6.1 in /usr/local/lib/python3.7/dist-packages (from pandas==1.0.5->lazypredict) (2.8.2)\n",
            "Requirement already satisfied: pytz>=2017.2 in /usr/local/lib/python3.7/dist-packages (from pandas==1.0.5->lazypredict) (2018.9)\n",
            "Requirement already satisfied: packaging in /usr/local/lib/python3.7/dist-packages (from pytest==5.4.3->lazypredict) (21.0)\n",
            "Requirement already satisfied: wcwidth in /usr/local/lib/python3.7/dist-packages (from pytest==5.4.3->lazypredict) (0.2.5)\n",
            "Requirement already satisfied: more-itertools>=4.0.0 in /usr/local/lib/python3.7/dist-packages (from pytest==5.4.3->lazypredict) (8.8.0)\n",
            "Requirement already satisfied: py>=1.5.0 in /usr/local/lib/python3.7/dist-packages (from pytest==5.4.3->lazypredict) (1.10.0)\n",
            "Requirement already satisfied: attrs>=17.4.0 in /usr/local/lib/python3.7/dist-packages (from pytest==5.4.3->lazypredict) (21.2.0)\n",
            "Requirement already satisfied: importlib-metadata>=0.12 in /usr/local/lib/python3.7/dist-packages (from pytest==5.4.3->lazypredict) (4.6.4)\n",
            "Collecting pluggy<1.0,>=0.12\n",
            "  Downloading pluggy-0.13.1-py2.py3-none-any.whl (18 kB)\n",
            "Collecting threadpoolctl>=2.0.0\n",
            "  Downloading threadpoolctl-2.2.0-py3-none-any.whl (12 kB)\n",
            "Requirement already satisfied: typing-extensions>=3.6.4 in /usr/local/lib/python3.7/dist-packages (from importlib-metadata>=0.12->pytest==5.4.3->lazypredict) (3.7.4.3)\n",
            "Requirement already satisfied: zipp>=0.5 in /usr/local/lib/python3.7/dist-packages (from importlib-metadata>=0.12->pytest==5.4.3->lazypredict) (3.5.0)\n",
            "Requirement already satisfied: pyparsing>=2.0.2 in /usr/local/lib/python3.7/dist-packages (from packaging->pytest==5.4.3->lazypredict) (2.4.7)\n",
            "Building wheels for collected packages: PyYAML\n",
            "  Building wheel for PyYAML (setup.py) ... \u001b[?25l\u001b[?25hdone\n",
            "  Created wheel for PyYAML: filename=PyYAML-5.3.1-cp37-cp37m-linux_x86_64.whl size=44635 sha256=d33c792fe2412462a530ad4d728c313d74378832d6cc91611da3f821650da412\n",
            "  Stored in directory: /root/.cache/pip/wheels/5e/03/1e/e1e954795d6f35dfc7b637fe2277bff021303bd9570ecea653\n",
            "Successfully built PyYAML\n",
            "Installing collected packages: numpy, threadpoolctl, scipy, joblib, scikit-learn, pluggy, xgboost, tqdm, PyYAML, pytest, pandas, lightgbm, lazypredict\n",
            "  Attempting uninstall: numpy\n",
            "    Found existing installation: numpy 1.19.5\n",
            "    Uninstalling numpy-1.19.5:\n",
            "      Successfully uninstalled numpy-1.19.5\n",
            "  Attempting uninstall: scipy\n",
            "    Found existing installation: scipy 1.4.1\n",
            "    Uninstalling scipy-1.4.1:\n",
            "      Successfully uninstalled scipy-1.4.1\n",
            "  Attempting uninstall: joblib\n",
            "    Found existing installation: joblib 1.0.1\n",
            "    Uninstalling joblib-1.0.1:\n",
            "      Successfully uninstalled joblib-1.0.1\n",
            "  Attempting uninstall: scikit-learn\n",
            "    Found existing installation: scikit-learn 0.22.2.post1\n",
            "    Uninstalling scikit-learn-0.22.2.post1:\n",
            "      Successfully uninstalled scikit-learn-0.22.2.post1\n",
            "  Attempting uninstall: pluggy\n",
            "    Found existing installation: pluggy 0.7.1\n",
            "    Uninstalling pluggy-0.7.1:\n",
            "      Successfully uninstalled pluggy-0.7.1\n",
            "  Attempting uninstall: xgboost\n",
            "    Found existing installation: xgboost 0.90\n",
            "    Uninstalling xgboost-0.90:\n",
            "      Successfully uninstalled xgboost-0.90\n",
            "  Attempting uninstall: tqdm\n",
            "    Found existing installation: tqdm 4.62.0\n",
            "    Uninstalling tqdm-4.62.0:\n",
            "      Successfully uninstalled tqdm-4.62.0\n",
            "  Attempting uninstall: PyYAML\n",
            "    Found existing installation: PyYAML 3.13\n",
            "    Uninstalling PyYAML-3.13:\n",
            "      Successfully uninstalled PyYAML-3.13\n",
            "  Attempting uninstall: pytest\n",
            "    Found existing installation: pytest 3.6.4\n",
            "    Uninstalling pytest-3.6.4:\n",
            "      Successfully uninstalled pytest-3.6.4\n",
            "  Attempting uninstall: pandas\n",
            "    Found existing installation: pandas 1.1.5\n",
            "    Uninstalling pandas-1.1.5:\n",
            "      Successfully uninstalled pandas-1.1.5\n",
            "  Attempting uninstall: lightgbm\n",
            "    Found existing installation: lightgbm 2.2.3\n",
            "    Uninstalling lightgbm-2.2.3:\n",
            "      Successfully uninstalled lightgbm-2.2.3\n",
            "\u001b[31mERROR: pip's dependency resolver does not currently take into account all the packages that are installed. This behaviour is the source of the following dependency conflicts.\n",
            "tensorflow 2.6.0 requires numpy~=1.19.2, but you have numpy 1.19.1 which is incompatible.\n",
            "google-colab 1.0.0 requires pandas~=1.1.0; python_version >= \"3.0\", but you have pandas 1.0.5 which is incompatible.\n",
            "datascience 0.10.6 requires folium==0.2.1, but you have folium 0.8.3 which is incompatible.\n",
            "albumentations 0.1.12 requires imgaug<0.2.7,>=0.2.5, but you have imgaug 0.2.9 which is incompatible.\u001b[0m\n",
            "Successfully installed PyYAML-5.3.1 joblib-1.0.0 lazypredict-0.2.9 lightgbm-2.3.1 numpy-1.19.1 pandas-1.0.5 pluggy-0.13.1 pytest-5.4.3 scikit-learn-0.23.1 scipy-1.5.4 threadpoolctl-2.2.0 tqdm-4.56.0 xgboost-1.1.1\n"
          ],
          "name": "stdout"
        },
        {
          "output_type": "display_data",
          "data": {
            "application/vnd.colab-display-data+json": {
              "pip_warning": {
                "packages": [
                  "numpy",
                  "pandas"
                ]
              }
            }
          },
          "metadata": {}
        },
        {
          "output_type": "error",
          "ename": "NameError",
          "evalue": "ignored",
          "traceback": [
            "\u001b[0;31m---------------------------------------------------------------------------\u001b[0m",
            "\u001b[0;31mNameError\u001b[0m                                 Traceback (most recent call last)",
            "\u001b[0;32m<ipython-input-1-456097742b9a>\u001b[0m in \u001b[0;36m<module>\u001b[0;34m()\u001b[0m\n\u001b[1;32m      1\u001b[0m \u001b[0mget_ipython\u001b[0m\u001b[0;34m(\u001b[0m\u001b[0;34m)\u001b[0m\u001b[0;34m.\u001b[0m\u001b[0msystem\u001b[0m\u001b[0;34m(\u001b[0m\u001b[0;34m'pip install lazypredict'\u001b[0m\u001b[0;34m)\u001b[0m\u001b[0;34m\u001b[0m\u001b[0;34m\u001b[0m\u001b[0m\n\u001b[0;32m----> 2\u001b[0;31m \u001b[0mwarnings\u001b[0m\u001b[0;34m.\u001b[0m\u001b[0mfilterwarnings\u001b[0m\u001b[0;34m(\u001b[0m\u001b[0;34m\"ignore\"\u001b[0m\u001b[0;34m)\u001b[0m\u001b[0;34m\u001b[0m\u001b[0;34m\u001b[0m\u001b[0m\n\u001b[0m",
            "\u001b[0;31mNameError\u001b[0m: name 'warnings' is not defined"
          ]
        }
      ]
    },
    {
      "cell_type": "markdown",
      "metadata": {
        "id": "SM_-phITCP5Q"
      },
      "source": [
        "Randomized search"
      ]
    },
    {
      "cell_type": "code",
      "metadata": {
        "id": "JXtz8RPXCOUJ"
      },
      "source": [
        "from sklearn.model_selection import RandomizedSearchCV\n",
        "from sklearn.model_selection import RepeatedKFold\n",
        "from sklearn.preprocessing import StandardScaler"
      ],
      "execution_count": null,
      "outputs": []
    },
    {
      "cell_type": "markdown",
      "metadata": {
        "id": "1Mbfb5c9yu5p"
      },
      "source": [
        " Upload database:"
      ]
    },
    {
      "cell_type": "code",
      "metadata": {
        "colab": {
          "base_uri": "https://localhost:8080/"
        },
        "id": "_V3jfdhPsEKW",
        "outputId": "985fdf2b-a3d5-418c-ddcf-898ca852df34"
      },
      "source": [
        "!git clone https://github.com/GermanOmar/Wear"
      ],
      "execution_count": null,
      "outputs": [
        {
          "output_type": "stream",
          "text": [
            "Cloning into 'Wear'...\n",
            "remote: Enumerating objects: 37, done.\u001b[K\n",
            "remote: Counting objects: 100% (37/37), done.\u001b[K\n",
            "remote: Compressing objects: 100% (36/36), done.\u001b[K\n",
            "remote: Total 37 (delta 15), reused 0 (delta 0), pack-reused 0\u001b[K\n",
            "Unpacking objects: 100% (37/37), done.\n"
          ],
          "name": "stdout"
        }
      ]
    },
    {
      "cell_type": "code",
      "metadata": {
        "colab": {
          "base_uri": "https://localhost:8080/",
          "height": 295
        },
        "id": "Yx-ovik8xxJx",
        "outputId": "20bde08f-422e-4163-c771-69a800796ac6"
      },
      "source": [
        "#Experimental data\n",
        "data = pd.read_table('HV2.txt') \n",
        "data.describe()\n"
      ],
      "execution_count": null,
      "outputs": [
        {
          "output_type": "execute_result",
          "data": {
            "text/html": [
              "<div>\n",
              "<style scoped>\n",
              "    .dataframe tbody tr th:only-of-type {\n",
              "        vertical-align: middle;\n",
              "    }\n",
              "\n",
              "    .dataframe tbody tr th {\n",
              "        vertical-align: top;\n",
              "    }\n",
              "\n",
              "    .dataframe thead th {\n",
              "        text-align: right;\n",
              "    }\n",
              "</style>\n",
              "<table border=\"1\" class=\"dataframe\">\n",
              "  <thead>\n",
              "    <tr style=\"text-align: right;\">\n",
              "      <th></th>\n",
              "      <th>P</th>\n",
              "      <th>S</th>\n",
              "      <th>L</th>\n",
              "      <th>D</th>\n",
              "      <th>HV</th>\n",
              "    </tr>\n",
              "  </thead>\n",
              "  <tbody>\n",
              "    <tr>\n",
              "      <th>count</th>\n",
              "      <td>73.000000</td>\n",
              "      <td>73.000000</td>\n",
              "      <td>73.000000</td>\n",
              "      <td>73.000000</td>\n",
              "      <td>73.000000</td>\n",
              "    </tr>\n",
              "    <tr>\n",
              "      <th>mean</th>\n",
              "      <td>193.013699</td>\n",
              "      <td>840.979452</td>\n",
              "      <td>45.684932</td>\n",
              "      <td>5.561233</td>\n",
              "      <td>410.906849</td>\n",
              "    </tr>\n",
              "    <tr>\n",
              "      <th>std</th>\n",
              "      <td>108.107906</td>\n",
              "      <td>846.483607</td>\n",
              "      <td>8.948738</td>\n",
              "      <td>2.289946</td>\n",
              "      <td>225.770134</td>\n",
              "    </tr>\n",
              "    <tr>\n",
              "      <th>min</th>\n",
              "      <td>80.000000</td>\n",
              "      <td>55.600000</td>\n",
              "      <td>20.000000</td>\n",
              "      <td>2.340000</td>\n",
              "      <td>118.000000</td>\n",
              "    </tr>\n",
              "    <tr>\n",
              "      <th>25%</th>\n",
              "      <td>100.000000</td>\n",
              "      <td>250.000000</td>\n",
              "      <td>50.000000</td>\n",
              "      <td>2.590000</td>\n",
              "      <td>188.000000</td>\n",
              "    </tr>\n",
              "    <tr>\n",
              "      <th>50%</th>\n",
              "      <td>150.000000</td>\n",
              "      <td>500.000000</td>\n",
              "      <td>50.000000</td>\n",
              "      <td>5.400000</td>\n",
              "      <td>393.200000</td>\n",
              "    </tr>\n",
              "    <tr>\n",
              "      <th>75%</th>\n",
              "      <td>280.000000</td>\n",
              "      <td>1000.000000</td>\n",
              "      <td>50.000000</td>\n",
              "      <td>7.800000</td>\n",
              "      <td>540.000000</td>\n",
              "    </tr>\n",
              "    <tr>\n",
              "      <th>max</th>\n",
              "      <td>500.000000</td>\n",
              "      <td>5000.000000</td>\n",
              "      <td>50.000000</td>\n",
              "      <td>8.010000</td>\n",
              "      <td>980.300000</td>\n",
              "    </tr>\n",
              "  </tbody>\n",
              "</table>\n",
              "</div>"
            ],
            "text/plain": [
              "                P            S          L          D          HV\n",
              "count   73.000000    73.000000  73.000000  73.000000   73.000000\n",
              "mean   193.013699   840.979452  45.684932   5.561233  410.906849\n",
              "std    108.107906   846.483607   8.948738   2.289946  225.770134\n",
              "min     80.000000    55.600000  20.000000   2.340000  118.000000\n",
              "25%    100.000000   250.000000  50.000000   2.590000  188.000000\n",
              "50%    150.000000   500.000000  50.000000   5.400000  393.200000\n",
              "75%    280.000000  1000.000000  50.000000   7.800000  540.000000\n",
              "max    500.000000  5000.000000  50.000000   8.010000  980.300000"
            ]
          },
          "metadata": {},
          "execution_count": 3
        }
      ]
    },
    {
      "cell_type": "markdown",
      "metadata": {
        "id": "lFVoj9tfSQJJ"
      },
      "source": [
        "\n",
        "Setting inputs - output:"
      ]
    },
    {
      "cell_type": "code",
      "metadata": {
        "colab": {
          "base_uri": "https://localhost:8080/",
          "height": 730
        },
        "id": "SVvdbKrdZIj5",
        "outputId": "6c60c8bd-82c0-4aaf-b36d-6db620ba3b0c"
      },
      "source": [
        "from pandas.plotting import scatter_matrix\n",
        "#DISPLAY MATRIX - identificar correlacion entre variables\n",
        "import seaborn as sns\n",
        "sns.set()\n",
        "\n",
        "plt.rcParams[\"axes.grid\"] = False\n",
        "\n",
        "#pd.tools.plotting.scatter_matrix(df, alpha=0.2, c='red', hist_kwds={'color':['burlywood']})\n",
        "\n",
        "#scatter_matrix(data, alpha=0.2, marker='s', figsize = (12,12), color = 'blue')\n",
        "scatter_matrix(data, alpha=0.9,marker='s', figsize = (12,12),  c='red', hist_kwds={'color':['red']})\n",
        "\n",
        "warnings.filterwarnings(\"ignore\")"
      ],
      "execution_count": null,
      "outputs": [
        {
          "output_type": "display_data",
          "data": {
            "image/png": "[encoded data removed]",
            "text/plain": [
              "<Figure size 864x864 with 25 Axes>"
            ]
          },
          "metadata": {}
        }
      ]
    },
    {
      "cell_type": "code",
      "metadata": {
        "id": "VJ_ob8PakPzf"
      },
      "source": [
        "#X=data[['P', 'S', 'L',  'HD1',  'F', 'd' ]]\n",
        "X=data[['P', 'S', 'L',  'D']]\n",
        "Y=data['HV'][:,None]"
      ],
      "execution_count": null,
      "outputs": []
    },
    {
      "cell_type": "markdown",
      "metadata": {
        "id": "7o8zckSzFI7O"
      },
      "source": [
        "# Hardness prediction"
      ]
    },
    {
      "cell_type": "markdown",
      "metadata": {
        "id": "Q6pAiesfTDDU"
      },
      "source": [
        " Split data"
      ]
    },
    {
      "cell_type": "code",
      "metadata": {
        "colab": {
          "base_uri": "https://localhost:8080/"
        },
        "id": "HI3IlTeHTF_Z",
        "outputId": "321219bc-f3c9-4551-f454-0a3e13a97dd2"
      },
      "source": [
        "from sklearn.model_selection import train_test_split\n",
        "\n",
        "X_train, X_test, y_train, y_test = train_test_split(X, Y, test_size=0.2, random_state=4321)\n",
        "print('training samples:', X_train.shape[0],  ' test samples:', X_test.shape[0])"
      ],
      "execution_count": null,
      "outputs": [
        {
          "output_type": "stream",
          "text": [
            "training samples: 58  test samples: 15\n"
          ],
          "name": "stdout"
        }
      ]
    },
    {
      "cell_type": "code",
      "metadata": {
        "colab": {
          "base_uri": "https://localhost:8080/"
        },
        "id": "1aSG6IEM8RK4",
        "outputId": "de00354b-daa5-4511-d160-5d6f9f199f4c"
      },
      "source": [
        "YTR=np.mean(y_train)\n",
        "YTR"
      ],
      "execution_count": null,
      "outputs": [
        {
          "output_type": "execute_result",
          "data": {
            "text/plain": [
              "410.7206896551724"
            ]
          },
          "metadata": {},
          "execution_count": 41
        }
      ]
    },
    {
      "cell_type": "code",
      "metadata": {
        "colab": {
          "base_uri": "https://localhost:8080/"
        },
        "id": "dcJ9-slG8jCA",
        "outputId": "6e88859d-a237-4c89-9ac7-2a55f2f275a2"
      },
      "source": [
        "YT=np.mean(y_test)\n",
        "YT"
      ],
      "execution_count": null,
      "outputs": [
        {
          "output_type": "execute_result",
          "data": {
            "text/plain": [
              "411.6266666666667"
            ]
          },
          "metadata": {},
          "execution_count": 42
        }
      ]
    },
    {
      "cell_type": "code",
      "metadata": {
        "id": "N9C38QmsAXm-"
      },
      "source": [
        "from sklearn.preprocessing import StandardScaler\n",
        "\n",
        "scaler = StandardScaler()\n",
        "X_train = scaler.fit_transform(X_train)\n",
        "X_test = scaler.transform(X_test)\n",
        "\n",
        "#y_train = scaler.fit_transform(y_train)\n",
        "#y_test = scaler.transform(y_test)\n"
      ],
      "execution_count": null,
      "outputs": []
    },
    {
      "cell_type": "markdown",
      "metadata": {
        "id": "7Zk7lMoGhdFO"
      },
      "source": [
        "###Results:"
      ]
    },
    {
      "cell_type": "code",
      "metadata": {
        "id": "zNL_O3xVwKpR"
      },
      "source": [
        "from lazypredict.Supervised import LazyRegressor\n",
        "from sklearn.utils import shuffle"
      ],
      "execution_count": null,
      "outputs": []
    },
    {
      "cell_type": "code",
      "metadata": {
        "colab": {
          "base_uri": "https://localhost:8080/"
        },
        "id": "gf5o7CPSwQaT",
        "outputId": "e289cac8-d91a-4acc-cccd-69c1eea8c483"
      },
      "source": [
        "from sklearn.metrics import mean_absolute_error as MAE\n",
        "reg = LazyRegressor(verbose=0,ignore_warnings=False, custom_metric=None)\n",
        "models,predictions = reg.fit(X_train, X_test, y_train, y_test)\n",
        "\n",
        "print(models)"
      ],
      "execution_count": null,
      "outputs": [
        {
          "output_type": "stream",
          "text": [
            "100%|██████████| 42/42 [00:01<00:00, 27.33it/s]"
          ],
          "name": "stderr"
        },
        {
          "output_type": "stream",
          "text": [
            "                               Adjusted R-Squared  ...  Time Taken\n",
            "Model                                              ...            \n",
            "XGBRegressor                                 0.62  ...        0.02\n",
            "GradientBoostingRegressor                    0.62  ...        0.07\n",
            "ExtraTreesRegressor                          0.55  ...        0.13\n",
            "AdaBoostRegressor                            0.43  ...        0.09\n",
            "ExtraTreeRegressor                           0.39  ...        0.02\n",
            "BaggingRegressor                             0.37  ...        0.03\n",
            "RandomForestRegressor                        0.37  ...        0.19\n",
            "DecisionTreeRegressor                        0.14  ...        0.01\n",
            "HistGradientBoostingRegressor                0.07  ...        0.06\n",
            "LGBMRegressor                                0.05  ...        0.02\n",
            "OrthogonalMatchingPursuit                    0.03  ...        0.01\n",
            "OrthogonalMatchingPursuitCV                  0.03  ...        0.02\n",
            "HuberRegressor                               0.01  ...        0.02\n",
            "PassiveAggressiveRegressor                  -0.03  ...        0.01\n",
            "RANSACRegressor                             -0.04  ...        0.05\n",
            "KNeighborsRegressor                         -0.05  ...        0.02\n",
            "LassoLars                                   -0.12  ...        0.01\n",
            "LarsCV                                      -0.12  ...        0.05\n",
            "LassoLarsCV                                 -0.12  ...        0.02\n",
            "LassoCV                                     -0.12  ...        0.09\n",
            "Lasso                                       -0.13  ...        0.02\n",
            "LinearRegression                            -0.13  ...        0.01\n",
            "TransformedTargetRegressor                  -0.13  ...        0.01\n",
            "Lars                                        -0.13  ...        0.03\n",
            "Ridge                                       -0.13  ...        0.01\n",
            "SGDRegressor                                -0.13  ...        0.01\n",
            "LassoLarsIC                                 -0.14  ...        0.01\n",
            "RidgeCV                                     -0.15  ...        0.01\n",
            "ElasticNetCV                                -0.17  ...        0.08\n",
            "PoissonRegressor                            -0.18  ...        0.01\n",
            "ElasticNet                                  -0.19  ...        0.01\n",
            "BayesianRidge                               -0.21  ...        0.02\n",
            "GammaRegressor                              -0.21  ...        0.01\n",
            "TweedieRegressor                            -0.23  ...        0.01\n",
            "GeneralizedLinearRegressor                  -0.23  ...        0.02\n",
            "DummyRegressor                              -0.40  ...        0.01\n",
            "SVR                                         -0.40  ...        0.02\n",
            "NuSVR                                       -0.45  ...        0.02\n",
            "LinearSVR                                   -4.20  ...        0.01\n",
            "KernelRidge                                 -4.92  ...        0.04\n",
            "MLPRegressor                                -5.27  ...        0.15\n",
            "GaussianProcessRegressor                 -1441.22  ...        0.02\n",
            "\n",
            "[42 rows x 4 columns]\n"
          ],
          "name": "stdout"
        },
        {
          "output_type": "stream",
          "text": [
            "\n"
          ],
          "name": "stderr"
        }
      ]
    },
    {
      "cell_type": "markdown",
      "metadata": {
        "id": "hkMQ_W07zri6"
      },
      "source": [
        "### XGB"
      ]
    },
    {
      "cell_type": "code",
      "metadata": {
        "id": "rLTTuAFyzJeP"
      },
      "source": [
        "import pickle\n",
        "import xgboost as xgb\n",
        "\n",
        "xgbr = xgb.XGBRegressor(base_score=0.5, booster='gbtree', colsample_bylevel=1,\n",
        "             colsample_bynode=1, colsample_bytree=1, gamma=0,\n",
        "             importance_type='gain', learning_rate=0.1, max_delta_step=0,\n",
        "             max_depth=20, min_child_weight=1, missing=None, n_estimators=1000,\n",
        "             n_jobs=1, nthread=None, objective='reg:linear', random_state=42,\n",
        "             reg_alpha=0, reg_lambda=0.1, scale_pos_weight=1, seed=None,\n",
        "             silent=None, subsample=1, verbosity=0)\n",
        "xgbr.fit(X_train, y_train)\n",
        "y_pred = xgbr.predict(X_test)"
      ],
      "execution_count": null,
      "outputs": []
    },
    {
      "cell_type": "code",
      "metadata": {
        "colab": {
          "base_uri": "https://localhost:8080/",
          "height": 562
        },
        "id": "P-auJlXw2D8o",
        "outputId": "84d37e3a-eed7-4d35-e3cc-4dca8fef8cdf"
      },
      "source": [
        "print(\"-XGBRegressor -\")\n",
        "print(\"------------------\")\n",
        "y_star_train = xgbr.predict(X_train)\n",
        "\n",
        "#EVAL\n",
        "from sklearn.metrics import mean_squared_error as MSE\n",
        "MSE_test = MSE(y_test, y_pred)\n",
        "\n",
        "#Plots\n",
        "sns.set_theme(style=\"whitegrid\")\n",
        "plt.rcParams[\"axes.grid\"] = False\n",
        "fig = plt.figure()\n",
        "fig.set_size_inches((9,6))\n",
        "import matplotlib.pyplot as plt\n",
        "#plt.rcParams.update({'font.size': 30})\n",
        "\n",
        "plt.plot(y_train, y_star_train, 'bx', label = 'Train')\n",
        "plt.plot([y_star_train.min(), y_star_train.max()], [y_star_train.min(), y_star_train.max()], 'k--')\n",
        "plt.plot(y_test, y_pred, 'ro', label = 'Test')\n",
        "plt.plot([y_pred.min(), y_pred.max()], [y_pred.min(), y_pred.max()], 'k--')\n",
        "plt.legend()\n",
        "plt.ylabel('Predicted melting efficiency')\n",
        "plt.xlabel('Measured melting efficiency')\n",
        "plt.title(\"Extreme Gradient boosting regressor\")\n",
        "\n",
        "print('MSE test:', MSE_test)\n",
        "\n",
        "print()\n",
        "\n",
        "from sklearn.metrics import r2_score\n",
        "from sklearn.metrics import mean_absolute_error as MAE \n",
        "\n",
        "#METRICS: R2, RMSE, MAE\n",
        "R2=r2_score(y_test, y_pred)\n",
        "print('R2: ',R2)\n",
        "RMSE = np.sqrt(MSE_test)\n",
        "print(\"RMSE: \", RMSE)\n",
        "MAE = MAE(y_test, y_pred)\n",
        "print(\"MAE: \", MAE)\n",
        "IM=np.sqrt(((1-R2)**2) + (RMSE**2) + (MAE**2) )\n",
        "print(\"IM: \", IM)\n",
        "print()"
      ],
      "execution_count": null,
      "outputs": [
        {
          "output_type": "stream",
          "text": [
            "-XGBRegressor -\n",
            "------------------\n",
            "MSE test: 19709.884897451597\n",
            "\n",
            "R2:  0.5727313738924646\n",
            "RMSE:  140.39189754915202\n",
            "MAE:  102.29695495605469\n",
            "IM:  173.70876330574558\n",
            "\n"
          ],
          "name": "stdout"
        },
        {
          "output_type": "display_data",
          "data": {
            "image/png": "[encoded data removed]",
            "text/plain": [
              "<Figure size 648x432 with 1 Axes>"
            ]
          },
          "metadata": {}
        }
      ]
    },
    {
      "cell_type": "code",
      "metadata": {
        "colab": {
          "base_uri": "https://localhost:8080/"
        },
        "id": "0z6iA4Tv5y6c",
        "outputId": "039d0cae-a90c-4a30-c505-6c91fedb9ec2"
      },
      "source": [
        "# get importance\n",
        "\n",
        "importance = xgbr.feature_importances_\n",
        "# summarize feature importance\n",
        "\n",
        "for i,v in enumerate(importance):\n",
        "\tprint('Feature: %0d, Score: %.5f' % (i,v))\n",
        "# plot feature importance\n"
      ],
      "execution_count": null,
      "outputs": [
        {
          "output_type": "stream",
          "text": [
            "Feature: 0, Score: 0.31300\n",
            "Feature: 1, Score: 0.03160\n",
            "Feature: 2, Score: 0.02474\n",
            "Feature: 3, Score: 0.63065\n"
          ],
          "name": "stdout"
        }
      ]
    },
    {
      "cell_type": "code",
      "metadata": {
        "colab": {
          "base_uri": "https://localhost:8080/",
          "height": 322
        },
        "id": "f5jXaBcveTeJ",
        "outputId": "9985ab52-78db-4dc5-e579-db7067ee6dfc"
      },
      "source": [
        "# Create lists for the plot\n",
        "import seaborn as sns\n",
        "sns.set()\n",
        "\n",
        "#plt.rcParams[\"axes.grid\"] = False\n",
        "\n",
        "labels = ['P', 'S', 'L',  'D' ]\n",
        "x_pos = np.arange(len(labels))\n",
        "\n",
        "fig, ax = plt.subplots()\n",
        "fig.set_size_inches((8,5))\n",
        "\n",
        "ax.bar(x_pos, importance, align='center', alpha=0.95, color='red')\n",
        "ax.set_ylabel('Features Importance')\n",
        "ax.set_xticks(x_pos)\n",
        "ax.set_xticklabels(labels)\n",
        "#ax.set_title('Features Importance Analysis')\n",
        "ax.yaxis.grid(True)\n"
      ],
      "execution_count": null,
      "outputs": [
        {
          "output_type": "display_data",
          "data": {
            "image/png": "[encoded data removed]",
            "text/plain": [
              "<Figure size 576x360 with 1 Axes>"
            ]
          },
          "metadata": {}
        }
      ]
    },
    {
      "cell_type": "markdown",
      "metadata": {
        "id": "lZ2wVx6IxyZb"
      },
      "source": [
        "## GBR"
      ]
    },
    {
      "cell_type": "code",
      "metadata": {
        "colab": {
          "base_uri": "https://localhost:8080/"
        },
        "id": "Vsko3aNry1kl",
        "outputId": "3072a123-5942-4fb1-fe56-f7b90eb636cd"
      },
      "source": [
        "from sklearn.ensemble import GradientBoostingRegressor\n",
        "#KERNEL\n",
        "#GBR=GradientBoostingRegressor(n_estimators=100, random_state=0)\n",
        "GBR=GradientBoostingRegressor(n_estimators=1000, random_state=42, learning_rate=0.1 )\n",
        "\n",
        "#START TRAINING\n",
        "GBR.fit(X_train, y_train)\n",
        "#PREDICTION\n",
        "y_pred=GBR.predict(X_test)\n",
        "\n",
        "#EVAL\n",
        "from sklearn.metrics import mean_squared_error as MSE\n",
        "MSE_test = MSE(y_test, y_pred)\n",
        "\n",
        " \n",
        "print(\"-Gradient boosting regressor-\")\n",
        "print(\"-----------------------------\")\n",
        "\n",
        "print('MSE test:', MSE_test)\n",
        "\n",
        "print()\n",
        "\n",
        "from sklearn.metrics import r2_score\n",
        "from sklearn.metrics import mean_absolute_error as MAE \n",
        "\n",
        "#METRICS: R2, RMSE, MAE\n",
        "R2=r2_score(y_test, y_pred)\n",
        "print('R2: ',R2)\n",
        "RMSE = np.sqrt(MSE_test)\n",
        "print(\"RMSE: \", RMSE)\n",
        "MAE = MAE(y_test, y_pred)\n",
        "print(\"MAE: \", MAE)\n",
        "IM=np.sqrt(((1-R2)**2) + (RMSE**2) + (MAE**2) )\n",
        "print(\"IM: \", IM)\n",
        "print()\n"
      ],
      "execution_count": null,
      "outputs": [
        {
          "output_type": "stream",
          "text": [
            "-Gradient boosting regressor-\n",
            "-----------------------------\n",
            "MSE test: 10973.330174626639\n",
            "\n",
            "R2:  0.7621214059883579\n",
            "RMSE:  104.75366425393739\n",
            "MAE:  76.81548868643229\n",
            "IM:  129.89998484598655\n",
            "\n"
          ],
          "name": "stdout"
        }
      ]
    },
    {
      "cell_type": "markdown",
      "metadata": {
        "id": "z-I-8DZZnl5K"
      },
      "source": [
        "## ADA"
      ]
    },
    {
      "cell_type": "code",
      "metadata": {
        "colab": {
          "base_uri": "https://localhost:8080/"
        },
        "id": "NituWLLikcek",
        "outputId": "ccf67b1b-e92a-48dc-da2d-1746fe13d83f"
      },
      "source": [
        "from sklearn.ensemble import AdaBoostRegressor\n",
        "\n",
        "print(\" AdaBoost -\")\n",
        "print(\"------------------\")\n",
        "\n",
        "Ada = AdaBoostRegressor(random_state=42, n_estimators=1000)\n",
        "#START TRAINING\n",
        "Ada.fit(X_train,y_train)\n",
        "#PREDICTION\n",
        "y_pred=Ada.predict(X_test)\n",
        "\n",
        "#EVAL\n",
        "from sklearn.metrics import mean_squared_error as MSE\n",
        "MSE_test = MSE(y_test, y_pred)\n",
        "\n",
        "print('MSE test:', MSE_test)\n",
        "\n",
        "print()\n",
        "\n",
        "from sklearn.metrics import r2_score\n",
        "from sklearn.metrics import mean_absolute_error as MAE \n",
        "\n",
        "#METRICS: R2, RMSE, MAE\n",
        "R2=r2_score(y_test, y_pred)\n",
        "print('R2: ',R2)\n",
        "RMSE = np.sqrt(MSE_test)\n",
        "print(\"RMSE: \", RMSE)\n",
        "MAE = MAE(y_test, y_pred)\n",
        "print(\"MAE: \", MAE)\n",
        "IM=np.sqrt(((1-R2)**2) + (RMSE**2) + (MAE**2) )\n",
        "print(\"IM: \", IM)\n",
        "print()"
      ],
      "execution_count": null,
      "outputs": [
        {
          "output_type": "stream",
          "text": [
            " AdaBoost -\n",
            "------------------\n",
            "MSE test: 18441.36325404439\n",
            "\n",
            "R2:  0.6002302407091018\n",
            "RMSE:  135.79898104935984\n",
            "MAE:  103.80134513634513\n",
            "IM:  170.92759379930285\n",
            "\n"
          ],
          "name": "stdout"
        }
      ]
    },
    {
      "cell_type": "markdown",
      "metadata": {
        "id": "ttmqN0XXnq8H"
      },
      "source": [
        "## RFR"
      ]
    },
    {
      "cell_type": "code",
      "metadata": {
        "colab": {
          "base_uri": "https://localhost:8080/"
        },
        "id": "CP_A-XGEntxU",
        "outputId": "ceaea00f-d3d1-4d9b-c395-8202bbbb3a3c"
      },
      "source": [
        "from sklearn.ensemble import RandomForestRegressor\n",
        "#KERNEL\n",
        "RFR=RandomForestRegressor(n_estimators=2000,max_depth=20)\n",
        "\n",
        "#START TRAINING\n",
        "RFR.fit(X_train,y_train)\n",
        "#PREDICTION\n",
        "y_pred=RFR.predict(X_test)\n",
        "\n",
        "#EVAL\n",
        "from sklearn.metrics import mean_squared_error as MSE\n",
        "MSE_test = MSE(y_test, y_pred)\n",
        "\n",
        "print(\"-----------------------------\")\n",
        "\n",
        "print('MSE test:', MSE_test)\n",
        "\n",
        "print()\n",
        "\n",
        "from sklearn.metrics import r2_score\n",
        "from sklearn.metrics import mean_absolute_error as MAE \n",
        "\n",
        "#METRICS: R2, RMSE, MAE\n",
        "R2=r2_score(y_test, y_pred)\n",
        "print('R2: ',R2)\n",
        "RMSE = np.sqrt(MSE_test)\n",
        "print(\"RMSE: \", RMSE)\n",
        "MAE = MAE(y_test, y_pred)\n",
        "print(\"MAE: \", MAE)\n",
        "IM=np.sqrt(((1-R2)**2) + (RMSE**2) + (MAE**2) )\n",
        "print(\"IM: \", IM)\n",
        "print()"
      ],
      "execution_count": null,
      "outputs": [
        {
          "output_type": "stream",
          "text": [
            "-----------------------------\n",
            "MSE test: 19349.975344506835\n",
            "\n",
            "R2:  0.5805334519365414\n",
            "RMSE:  139.10418881006723\n",
            "MAE:  105.18109666666518\n",
            "IM:  174.39384849441836\n",
            "\n"
          ],
          "name": "stdout"
        }
      ]
    },
    {
      "cell_type": "markdown",
      "metadata": {
        "id": "ZOYI1QkauabG"
      },
      "source": [
        "## Comparisson"
      ]
    },
    {
      "cell_type": "code",
      "metadata": {
        "colab": {
          "base_uri": "https://localhost:8080/",
          "height": 411
        },
        "id": "DH0SyeJQ04d1",
        "outputId": "577d53e5-af1b-427a-9fad-b0d04adfdeb4"
      },
      "source": [
        "import seaborn as sns\n",
        "sns.set()\n",
        "\n",
        "y1=xgbr.predict(X_test)\n",
        "y2=GBR.predict(X_test)\n",
        "y3=Ada.predict(X_test)\n",
        "y4=RFR.predict(X_test)\n",
        "\n",
        "#Plots\n",
        "#sns.set_theme(style=\"whitegrid\")\n",
        "#sns.set_theme(style=\"darkgrid\")\n",
        "plt.rcParams[\"axes.grid\"] = True\n",
        "fig = plt.figure()\n",
        "fig.set_size_inches((9,6))\n",
        "import matplotlib.pyplot as plt\n",
        "plt.rcParams.update({'font.size': 30})\n",
        "\n",
        "plt.plot(y_train, y_star_train, 'mx', label = 'Train')\n",
        "plt.plot([y_star_train.min(), y_star_train.max()], [y_star_train.min(), y_star_train.max()], 'k--')\n",
        "plt.plot(y_test, y1, 'rs', label = 'XGBR')\n",
        "plt.plot(y_test, y2, 'g^', label = 'GBR')\n",
        "plt.plot(y_test, y3, 'bo', label = 'Adaboost')\n",
        "plt.plot(y_test, y4, 'yp', label = 'RFR')\n",
        "\n",
        "plt.legend()\n",
        "plt.ylabel('Predicted microhardness (HV)')\n",
        "plt.xlabel('Measured microhardness (HV)')\n",
        "#plt.title(\"Machine learning regressors\")\n",
        "print()"
      ],
      "execution_count": null,
      "outputs": [
        {
          "output_type": "stream",
          "text": [
            "\n"
          ],
          "name": "stdout"
        },
        {
          "output_type": "display_data",
          "data": {
            "image/png": "[encoded data removed]",
            "text/plain": [
              "<Figure size 648x432 with 1 Axes>"
            ]
          },
          "metadata": {}
        }
      ]
    },
    {
      "cell_type": "markdown",
      "metadata": {
        "id": "cNDmSIe0TMW4"
      },
      "source": [
        "### CROSS-VALIDATION"
      ]
    },
    {
      "cell_type": "code",
      "metadata": {
        "colab": {
          "base_uri": "https://localhost:8080/"
        },
        "id": "HIEmJUZF69lo",
        "outputId": "8909ed2f-d2a2-4704-c570-39d7047505b4"
      },
      "source": [
        "\n",
        "from sklearn.metrics import r2_score\n",
        "from sklearn.metrics import mean_squared_error as MSE\n",
        "from sklearn.metrics import mean_absolute_error \n",
        "from sklearn.model_selection import cross_val_score as CV\n",
        "\n",
        "import warnings\n",
        "warnings.filterwarnings('ignore')\n",
        "\n",
        "models = [ xgbr,  GBR, Ada, RFR ]\n",
        "labels = ['XGBR',  'GBR', 'Adaboost', 'RFR']\n",
        "IMS = []\n",
        "\n",
        "print(\"--------------------------------------------------------------\")\n",
        "print(\"%5s | %5s | %5s | %5s | %5s \" % (\"ML algorithm\",  \"CV-R2\", \"CV-MSE\", \"CV-MAE\", \"IM\"))\n",
        "print(\"--------------------------------------------------------------\")\n",
        "\n",
        "for mod, label in zip( models, labels): \n",
        "  #y_star = mod.predict(X)\n",
        " \n",
        "  scoreR2 = CV(mod, X_train, y_train, cv=5, scoring='r2')\n",
        "  #print(-1*scoreR2)\n",
        "  scoreMSE = CV(mod, X_train, y_train, cv=5, scoring='neg_mean_squared_error')\n",
        "  #print(-1*scoreMSE)\n",
        "  scoreMAE = CV(mod, X_train, y_train, cv=5, scoring='neg_mean_absolute_error')\n",
        "  #print(-1*scoreMAE)\n",
        "  IM=np.sqrt(((1-scoreR2)**2) + (scoreMSE) + (scoreMAE**2) )\n",
        "  #print(\"IM: \", IM)\n",
        "  \n",
        " \n",
        "  print(\"%15s | %.4f | %.4f | %.4f | %.4f \" % (label,  scoreR2.mean(), -1*scoreMSE.mean(), -1*scoreMAE.mean() , np.sqrt(((1-scoreR2.mean())**2) + (-1*scoreMSE.mean()) + (scoreMAE.mean()**2) )))\n",
        "print(\"--------------------------------------------------------------\")"
      ],
      "execution_count": null,
      "outputs": [
        {
          "output_type": "stream",
          "text": [
            "--------------------------------------------------------------\n",
            "ML algorithm | CV-R2 | CV-MSE | CV-MAE |    IM \n",
            "--------------------------------------------------------------\n",
            "           XGBR | 0.6516 | 16118.6454 | 84.8690 | 152.7138 \n",
            "            GBR | 0.6467 | 16060.2004 | 87.2538 | 153.8621 \n",
            "       Adaboost | 0.7224 | 12395.5841 | 76.7778 | 135.2423 \n",
            "            RFR | 0.7046 | 13779.1618 | 80.0813 | 142.0995 \n",
            "--------------------------------------------------------------\n"
          ],
          "name": "stdout"
        }
      ]
    },
    {
      "cell_type": "markdown",
      "metadata": {
        "id": "lkgBZClMhPGV"
      },
      "source": [
        "# Wear evaluation"
      ]
    },
    {
      "cell_type": "code",
      "metadata": {
        "colab": {
          "base_uri": "https://localhost:8080/",
          "height": 295
        },
        "id": "RTyLpJqShTkK",
        "outputId": "bb7d8305-6fd4-496e-a036-e736b2902bbf"
      },
      "source": [
        "#Experimental data\n",
        "data = pd.read_table('wear.txt') \n",
        "data.describe()"
      ],
      "execution_count": null,
      "outputs": [
        {
          "output_type": "execute_result",
          "data": {
            "text/html": [
              "<div>\n",
              "<style scoped>\n",
              "    .dataframe tbody tr th:only-of-type {\n",
              "        vertical-align: middle;\n",
              "    }\n",
              "\n",
              "    .dataframe tbody tr th {\n",
              "        vertical-align: top;\n",
              "    }\n",
              "\n",
              "    .dataframe thead th {\n",
              "        text-align: right;\n",
              "    }\n",
              "</style>\n",
              "<table border=\"1\" class=\"dataframe\">\n",
              "  <thead>\n",
              "    <tr style=\"text-align: right;\">\n",
              "      <th></th>\n",
              "      <th>LP</th>\n",
              "      <th>SS</th>\n",
              "      <th>LT</th>\n",
              "      <th>RD</th>\n",
              "      <th>HBM</th>\n",
              "      <th>HCB</th>\n",
              "      <th>F</th>\n",
              "      <th>D</th>\n",
              "      <th>w</th>\n",
              "      <th>K</th>\n",
              "    </tr>\n",
              "  </thead>\n",
              "  <tbody>\n",
              "    <tr>\n",
              "      <th>count</th>\n",
              "      <td>62.00</td>\n",
              "      <td>62.00</td>\n",
              "      <td>62.00</td>\n",
              "      <td>62.00</td>\n",
              "      <td>62.00</td>\n",
              "      <td>62.00</td>\n",
              "      <td>62.00</td>\n",
              "      <td>62.00</td>\n",
              "      <td>62.00</td>\n",
              "      <td>62.00</td>\n",
              "    </tr>\n",
              "    <tr>\n",
              "      <th>mean</th>\n",
              "      <td>173.87</td>\n",
              "      <td>591.90</td>\n",
              "      <td>44.35</td>\n",
              "      <td>5.76</td>\n",
              "      <td>439.43</td>\n",
              "      <td>1229.27</td>\n",
              "      <td>9.65</td>\n",
              "      <td>158.17</td>\n",
              "      <td>2.88</td>\n",
              "      <td>10.42</td>\n",
              "    </tr>\n",
              "    <tr>\n",
              "      <th>std</th>\n",
              "      <td>117.91</td>\n",
              "      <td>523.77</td>\n",
              "      <td>8.42</td>\n",
              "      <td>2.17</td>\n",
              "      <td>218.08</td>\n",
              "      <td>645.37</td>\n",
              "      <td>14.46</td>\n",
              "      <td>76.36</td>\n",
              "      <td>3.32</td>\n",
              "      <td>11.44</td>\n",
              "    </tr>\n",
              "    <tr>\n",
              "      <th>min</th>\n",
              "      <td>25.00</td>\n",
              "      <td>55.60</td>\n",
              "      <td>20.00</td>\n",
              "      <td>2.40</td>\n",
              "      <td>145.00</td>\n",
              "      <td>600.00</td>\n",
              "      <td>3.00</td>\n",
              "      <td>70.37</td>\n",
              "      <td>0.00</td>\n",
              "      <td>0.01</td>\n",
              "    </tr>\n",
              "    <tr>\n",
              "      <th>25%</th>\n",
              "      <td>100.00</td>\n",
              "      <td>200.00</td>\n",
              "      <td>40.00</td>\n",
              "      <td>4.34</td>\n",
              "      <td>309.25</td>\n",
              "      <td>746.00</td>\n",
              "      <td>3.00</td>\n",
              "      <td>105.56</td>\n",
              "      <td>0.43</td>\n",
              "      <td>1.17</td>\n",
              "    </tr>\n",
              "    <tr>\n",
              "      <th>50%</th>\n",
              "      <td>110.00</td>\n",
              "      <td>400.00</td>\n",
              "      <td>50.00</td>\n",
              "      <td>4.99</td>\n",
              "      <td>399.50</td>\n",
              "      <td>830.00</td>\n",
              "      <td>4.95</td>\n",
              "      <td>133.20</td>\n",
              "      <td>1.47</td>\n",
              "      <td>7.36</td>\n",
              "    </tr>\n",
              "    <tr>\n",
              "      <th>75%</th>\n",
              "      <td>247.50</td>\n",
              "      <td>800.00</td>\n",
              "      <td>50.00</td>\n",
              "      <td>7.87</td>\n",
              "      <td>538.50</td>\n",
              "      <td>1601.50</td>\n",
              "      <td>5.75</td>\n",
              "      <td>211.12</td>\n",
              "      <td>4.39</td>\n",
              "      <td>14.52</td>\n",
              "    </tr>\n",
              "    <tr>\n",
              "      <th>max</th>\n",
              "      <td>800.00</td>\n",
              "      <td>2000.00</td>\n",
              "      <td>50.00</td>\n",
              "      <td>8.01</td>\n",
              "      <td>980.30</td>\n",
              "      <td>2800.00</td>\n",
              "      <td>50.00</td>\n",
              "      <td>592.50</td>\n",
              "      <td>11.90</td>\n",
              "      <td>48.30</td>\n",
              "    </tr>\n",
              "  </tbody>\n",
              "</table>\n",
              "</div>"
            ],
            "text/plain": [
              "          LP      SS    LT    RD    HBM     HCB     F      D     w     K\n",
              "count  62.00   62.00 62.00 62.00  62.00   62.00 62.00  62.00 62.00 62.00\n",
              "mean  173.87  591.90 44.35  5.76 439.43 1229.27  9.65 158.17  2.88 10.42\n",
              "std   117.91  523.77  8.42  2.17 218.08  645.37 14.46  76.36  3.32 11.44\n",
              "min    25.00   55.60 20.00  2.40 145.00  600.00  3.00  70.37  0.00  0.01\n",
              "25%   100.00  200.00 40.00  4.34 309.25  746.00  3.00 105.56  0.43  1.17\n",
              "50%   110.00  400.00 50.00  4.99 399.50  830.00  4.95 133.20  1.47  7.36\n",
              "75%   247.50  800.00 50.00  7.87 538.50 1601.50  5.75 211.12  4.39 14.52\n",
              "max   800.00 2000.00 50.00  8.01 980.30 2800.00 50.00 592.50 11.90 48.30"
            ]
          },
          "metadata": {},
          "execution_count": 44
        }
      ]
    },
    {
      "cell_type": "code",
      "metadata": {
        "colab": {
          "base_uri": "https://localhost:8080/",
          "height": 733
        },
        "id": "tv1t0rt3qitU",
        "outputId": "f73c859f-0fa2-426a-8785-5431b6662065"
      },
      "source": [
        "from pandas.plotting import scatter_matrix\n",
        "#DISPLAY MATRIX - identificar correlacion entre variables\n",
        "import seaborn as sns\n",
        "sns.set()\n",
        "\n",
        "plt.rcParams[\"axes.grid\"] = False\n",
        "\n",
        "#pd.tools.plotting.scatter_matrix(df, alpha=0.2, c='red', hist_kwds={'color':['burlywood']})\n",
        "\n",
        "#scatter_matrix(data, alpha=0.2, marker='s', figsize = (12,12), color = 'blue')\n",
        "scatter_matrix(data, alpha=0.9,marker='s', figsize = (12,12),  c='red', hist_kwds={'color':['red']})\n",
        "\n",
        "warnings.filterwarnings(\"ignore\")"
      ],
      "execution_count": null,
      "outputs": [
        {
          "output_type": "display_data",
          "data": {
            "image/png": "[encoded data removed]",
            "text/plain": [
              "<Figure size 864x864 with 36 Axes>"
            ]
          },
          "metadata": {
            "tags": []
          }
        }
      ]
    },
    {
      "cell_type": "code",
      "metadata": {
        "colab": {
          "base_uri": "https://localhost:8080/",
          "height": 428
        },
        "id": "P_YLcmX3tyy3",
        "outputId": "0b29eee8-7331-44c2-bad1-09c4c37dada4"
      },
      "source": [
        "#Plots\n",
        "#sns.set_theme(style=\"whitegrid\")\n",
        "plt.rcParams[\"axes.grid\"] = True\n",
        "fig = plt.figure()\n",
        "fig.set_size_inches((9,6))\n",
        "import matplotlib.pyplot as plt\n",
        "plt.rcParams.update({'font.size': 30})\n",
        "\n",
        "plt.plot(data['K'], data['w'], alpha=0.95, color='red',  marker='o', linestyle='None')\n",
        "\n",
        "plt.legend()\n",
        "plt.ylabel('Wear rate')\n",
        "plt.xlabel('Wear coefficient')\n"
      ],
      "execution_count": null,
      "outputs": [
        {
          "output_type": "stream",
          "text": [
            "No handles with labels found to put in legend.\n"
          ],
          "name": "stderr"
        },
        {
          "output_type": "execute_result",
          "data": {
            "text/plain": [
              "Text(0.5, 0, 'Wear coefficient')"
            ]
          },
          "metadata": {
            "tags": []
          },
          "execution_count": 6
        },
        {
          "output_type": "display_data",
          "data": {
            "image/png": "[encoded data removed]",
            "text/plain": [
              "<Figure size 648x432 with 1 Axes>"
            ]
          },
          "metadata": {
            "tags": []
          }
        }
      ]
    },
    {
      "cell_type": "code",
      "metadata": {
        "id": "PAcwwaQLiT7w"
      },
      "source": [
        "#X=data[[ 'HBM', 'HCB', 'F','D', 'K']]\n",
        "X=data[['LP','SS', 'LT', 'RD', 'HBM', 'HCB', 'F','D', 'K']]\n",
        "Y=data['w'][:,None]"
      ],
      "execution_count": null,
      "outputs": []
    },
    {
      "cell_type": "code",
      "metadata": {
        "colab": {
          "base_uri": "https://localhost:8080/"
        },
        "id": "h9eH4KMIi7lM",
        "outputId": "e5349386-26b4-4779-f4b3-5e98fb3ab4d0"
      },
      "source": [
        "from sklearn.model_selection import train_test_split\n",
        "\n",
        "X_train, X_test, y_train, y_test = train_test_split(X, Y, test_size=0.2, random_state=4321)\n",
        "print('training samples:', X_train.shape[0],  ' test samples:', X_test.shape[0])"
      ],
      "execution_count": null,
      "outputs": [
        {
          "output_type": "stream",
          "text": [
            "training samples: 49  test samples: 13\n"
          ],
          "name": "stdout"
        }
      ]
    },
    {
      "cell_type": "code",
      "metadata": {
        "colab": {
          "base_uri": "https://localhost:8080/"
        },
        "id": "03SlFWZY-wFa",
        "outputId": "18f663f5-a94b-49ce-e640-818c42b26720"
      },
      "source": [
        "YW1=np.mean(y_train)\n",
        "YW1"
      ],
      "execution_count": null,
      "outputs": [
        {
          "output_type": "execute_result",
          "data": {
            "text/plain": [
              "2.869795918367347"
            ]
          },
          "metadata": {},
          "execution_count": 64
        }
      ]
    },
    {
      "cell_type": "code",
      "metadata": {
        "colab": {
          "base_uri": "https://localhost:8080/"
        },
        "id": "PrMT2wts-7Il",
        "outputId": "bbd0a046-ea5f-46a8-f330-7b26ae819fd8"
      },
      "source": [
        "YW2=np.mean(y_test)\n",
        "YW2"
      ],
      "execution_count": null,
      "outputs": [
        {
          "output_type": "execute_result",
          "data": {
            "text/plain": [
              "2.9191538461538467"
            ]
          },
          "metadata": {},
          "execution_count": 65
        }
      ]
    },
    {
      "cell_type": "code",
      "metadata": {
        "id": "bDp28wMQi_qi"
      },
      "source": [
        "from sklearn.preprocessing import StandardScaler\n",
        "\n",
        "scaler = StandardScaler()\n",
        "X_train = scaler.fit_transform(X_train)\n",
        "X_test = scaler.transform(X_test)"
      ],
      "execution_count": null,
      "outputs": []
    },
    {
      "cell_type": "code",
      "metadata": {
        "id": "pOMAkvfOjAL8"
      },
      "source": [
        "from lazypredict.Supervised import LazyRegressor\n",
        "from sklearn.utils import shuffle"
      ],
      "execution_count": null,
      "outputs": []
    },
    {
      "cell_type": "code",
      "metadata": {
        "colab": {
          "base_uri": "https://localhost:8080/"
        },
        "id": "U0Q5UH6GjFnh",
        "outputId": "758369b6-1f14-492c-c2c4-30171ee5dd73"
      },
      "source": [
        "from sklearn.metrics import mean_absolute_error as MAE\n",
        "reg = LazyRegressor(verbose=0,ignore_warnings=False, custom_metric=None)\n",
        "models,predictions = reg.fit(X_train, X_test, y_train, y_test)\n",
        "\n",
        "print(models)"
      ],
      "execution_count": null,
      "outputs": [
        {
          "output_type": "stream",
          "text": [
            "100%|██████████| 42/42 [00:01<00:00, 25.82it/s]"
          ],
          "name": "stderr"
        },
        {
          "output_type": "stream",
          "text": [
            "                               Adjusted R-Squared  R-Squared  RMSE  Time Taken\n",
            "Model                                                                         \n",
            "RANSACRegressor                              0.90       0.98  0.49        0.07\n",
            "ExtraTreesRegressor                          0.86       0.96  0.59        0.13\n",
            "LinearSVR                                    0.85       0.96  0.61        0.01\n",
            "DecisionTreeRegressor                        0.84       0.96  0.62        0.02\n",
            "GradientBoostingRegressor                    0.84       0.96  0.62        0.08\n",
            "HuberRegressor                               0.83       0.96  0.64        0.03\n",
            "LassoLarsIC                                  0.81       0.95  0.67        0.01\n",
            "MLPRegressor                                 0.76       0.94  0.77        0.15\n",
            "ElasticNetCV                                 0.74       0.94  0.79        0.09\n",
            "LarsCV                                       0.71       0.93  0.83        0.05\n",
            "LassoLarsCV                                  0.71       0.93  0.83        0.03\n",
            "LassoCV                                      0.70       0.93  0.84        0.09\n",
            "AdaBoostRegressor                            0.68       0.92  0.88        0.11\n",
            "XGBRegressor                                 0.63       0.91  0.95        0.02\n",
            "SGDRegressor                                 0.60       0.90  0.98        0.02\n",
            "BayesianRidge                                0.53       0.88  1.06        0.01\n",
            "GaussianProcessRegressor                     0.53       0.88  1.06        0.02\n",
            "RidgeCV                                      0.51       0.88  1.08        0.01\n",
            "Ridge                                        0.51       0.88  1.08        0.01\n",
            "OrthogonalMatchingPursuitCV                  0.50       0.88  1.10        0.02\n",
            "RandomForestRegressor                        0.43       0.86  1.17        0.19\n",
            "Lars                                         0.39       0.85  1.22        0.04\n",
            "TransformedTargetRegressor                   0.39       0.85  1.22        0.01\n",
            "LinearRegression                             0.39       0.85  1.22        0.01\n",
            "GammaRegressor                               0.38       0.85  1.22        0.01\n",
            "Lasso                                        0.37       0.84  1.23        0.02\n",
            "ElasticNet                                   0.34       0.84  1.26        0.01\n",
            "PoissonRegressor                             0.25       0.81  1.34        0.01\n",
            "BaggingRegressor                             0.23       0.81  1.36        0.04\n",
            "GeneralizedLinearRegressor                   0.18       0.79  1.41        0.02\n",
            "TweedieRegressor                             0.18       0.79  1.41        0.02\n",
            "KNeighborsRegressor                          0.13       0.78  1.45        0.02\n",
            "PassiveAggressiveRegressor                   0.07       0.77  1.50        0.01\n",
            "OrthogonalMatchingPursuit                    0.04       0.76  1.52        0.01\n",
            "NuSVR                                       -0.38       0.66  1.82        0.02\n",
            "SVR                                         -0.43       0.64  1.85        0.01\n",
            "HistGradientBoostingRegressor               -0.79       0.55  2.07        0.06\n",
            "LGBMRegressor                               -0.84       0.54  2.10        0.02\n",
            "ExtraTreeRegressor                          -2.58       0.10  2.94        0.02\n",
            "DummyRegressor                              -3.00      -0.00  3.10        0.01\n",
            "LassoLars                                   -3.00      -0.00  3.10        0.02\n",
            "KernelRidge                                 -3.54      -0.14  3.30        0.03\n"
          ],
          "name": "stdout"
        },
        {
          "output_type": "stream",
          "text": [
            "\n"
          ],
          "name": "stderr"
        }
      ]
    },
    {
      "cell_type": "markdown",
      "metadata": {
        "id": "3Ylcj7nNlK1d"
      },
      "source": [
        "XGBR"
      ]
    },
    {
      "cell_type": "code",
      "metadata": {
        "id": "wGWof7YDjGHw"
      },
      "source": [
        "import pickle\n",
        "import xgboost as xgb\n",
        "\n",
        "xgbr = xgb.XGBRegressor(base_score=0.5, booster='gbtree', colsample_bylevel=1,\n",
        "             colsample_bynode=1, colsample_bytree=1, gamma=0, gpu_id=-1,\n",
        "             importance_type='gain', interaction_constraints='',\n",
        "             learning_rate=0.01, max_delta_step=0, max_depth=10,\n",
        "             min_child_weight=1,  monotone_constraints='()',\n",
        "             n_estimators=1000, n_jobs=0, num_parallel_tree=1, random_state=42,\n",
        "             reg_alpha=0, reg_lambda=1, scale_pos_weight=1, subsample=1,\n",
        "             tree_method='exact', validate_parameters=1, verbosity=0)\n",
        "xgbr.fit(X_train, y_train)\n",
        "y_pred = xgbr.predict(X_test)"
      ],
      "execution_count": null,
      "outputs": []
    },
    {
      "cell_type": "code",
      "metadata": {
        "colab": {
          "base_uri": "https://localhost:8080/"
        },
        "id": "Y284C_GokAkj",
        "outputId": "91f7fc2c-a093-4d99-ef07-35c8bde9b9ee"
      },
      "source": [
        "print(\"-XGBRegressor -\")\n",
        "print(\"------------------\")\n",
        "y_star_train = xgbr.predict(X_train)\n",
        "\n",
        "#EVAL\n",
        "from sklearn.metrics import mean_squared_error as MSE\n",
        "MSE_test = MSE(y_test, y_pred)\n",
        "\n",
        "print('MSE test:', MSE_test)\n",
        "\n",
        "print()\n",
        "\n",
        "from sklearn.metrics import r2_score\n",
        "from sklearn.metrics import mean_absolute_error as MAE \n",
        "\n",
        "#METRICS: R2, RMSE, MAE\n",
        "R2=r2_score(y_test, y_pred)\n",
        "print('R2: ',R2)\n",
        "RMSE = np.sqrt(MSE_test)\n",
        "print(\"RMSE: \", RMSE)\n",
        "MAE = MAE(y_test, y_pred)\n",
        "print(\"MAE: \", MAE)\n",
        "IM=np.sqrt(((1-R2)**2) + (RMSE**2) + (MAE**2) )\n",
        "print(\"IM: \", IM)\n",
        "print()"
      ],
      "execution_count": null,
      "outputs": [
        {
          "output_type": "stream",
          "text": [
            "-XGBRegressor -\n",
            "------------------\n",
            "MSE test: 2.037399975479347\n",
            "\n",
            "R2:  0.7880705660766398\n",
            "RMSE:  1.427375204870586\n",
            "MAE:  0.9303458775740404\n",
            "IM:  1.7169325881820272\n",
            "\n"
          ],
          "name": "stdout"
        }
      ]
    },
    {
      "cell_type": "markdown",
      "metadata": {
        "id": "euUcV1Y5o-QW"
      },
      "source": [
        "Random search optimization"
      ]
    },
    {
      "cell_type": "code",
      "metadata": {
        "colab": {
          "base_uri": "https://localhost:8080/"
        },
        "id": "wKyqHA7qkFhE",
        "outputId": "a40b1974-f014-4867-c280-a6c1e58dcd8c"
      },
      "source": [
        "# get importance\n",
        "\n",
        "importance = xgbr.feature_importances_\n",
        "# summarize feature importance\n",
        "\n",
        "for i,v in enumerate(importance):\n",
        "\tprint('Feature: %0d, Score: %.5f' % (i,v))\n",
        "# plot feature importance\n"
      ],
      "execution_count": null,
      "outputs": [
        {
          "output_type": "stream",
          "text": [
            "Feature: 0, Score: 0.00292\n",
            "Feature: 1, Score: 0.00604\n",
            "Feature: 2, Score: 0.00000\n",
            "Feature: 3, Score: 0.02536\n",
            "Feature: 4, Score: 0.13589\n",
            "Feature: 5, Score: 0.05539\n",
            "Feature: 6, Score: 0.00001\n",
            "Feature: 7, Score: 0.10630\n",
            "Feature: 8, Score: 0.66810\n"
          ],
          "name": "stdout"
        }
      ]
    },
    {
      "cell_type": "code",
      "metadata": {
        "colab": {
          "base_uri": "https://localhost:8080/",
          "height": 326
        },
        "id": "jxupf4yskJE0",
        "outputId": "31c87448-2317-4e2e-8cbe-864318b8f073"
      },
      "source": [
        "# Create lists for the plot\n",
        "import seaborn as sns\n",
        "sns.set()\n",
        "\n",
        "#plt.rcParams[\"axes.grid\"] = False\n",
        "\n",
        "#labels = [ 'LP','SS', 'LT', 'RD','HBM', 'HCB', 'F','d', 'K']\n",
        "labels = [ 'P','S', 'L', 'D','HBM', 'HCB', 'F','d', 'K']\n",
        "#labels = [ 'HBM', 'HCB', 'F','D','K' ]\n",
        "x_pos = np.arange(len(labels))\n",
        "\n",
        "\n",
        "fig, ax = plt.subplots()\n",
        "fig.set_size_inches((8,5))\n",
        "\n",
        "ax.bar(x_pos, importance, align='center', alpha=0.95, color='red')\n",
        "ax.set_ylabel('Features Importance')\n",
        "ax.set_xticks(x_pos)\n",
        "ax.set_xticklabels(labels)\n",
        "#ax.set_title('Features Importance Analysis')\n",
        "ax.yaxis.grid(True)"
      ],
      "execution_count": null,
      "outputs": [
        {
          "output_type": "display_data",
          "data": {
            "image/png": "[encoded data removed]",
            "text/plain": [
              "<Figure size 576x360 with 1 Axes>"
            ]
          },
          "metadata": {}
        }
      ]
    },
    {
      "cell_type": "markdown",
      "metadata": {
        "id": "rtiABXjPlF0g"
      },
      "source": [
        "GBR"
      ]
    },
    {
      "cell_type": "code",
      "metadata": {
        "colab": {
          "base_uri": "https://localhost:8080/"
        },
        "id": "ezNArQ76k6M8",
        "outputId": "b8b8d985-d387-426f-f2c1-922eb9b09793"
      },
      "source": [
        "from sklearn.ensemble import GradientBoostingRegressor\n",
        "#KERNEL\n",
        "#GBR=GradientBoostingRegressor(n_estimators=100, random_state=0)\n",
        "GBR=GradientBoostingRegressor(n_estimators=2000, random_state=42, learning_rate=0.1 )\n",
        "\n",
        "#START TRAINING\n",
        "GBR.fit(X_train, y_train)\n",
        "#PREDICTION\n",
        "y_pred=GBR.predict(X_test)\n",
        "\n",
        "#EVAL\n",
        "from sklearn.metrics import mean_squared_error as MSE\n",
        "MSE_test = MSE(y_test, y_pred)\n",
        "\n",
        " \n",
        "print(\"-Gradient boosting regressor-\")\n",
        "print(\"-----------------------------\")\n",
        "\n",
        "print('MSE test:', MSE_test)\n",
        "\n",
        "print()\n",
        "\n",
        "from sklearn.metrics import r2_score\n",
        "from sklearn.metrics import mean_absolute_error as MAE \n",
        "\n",
        "#METRICS: R2, RMSE, MAE\n",
        "R2=r2_score(y_test, y_pred)\n",
        "print('R2: ',R2)\n",
        "RMSE = np.sqrt(MSE_test)\n",
        "print(\"RMSE: \", RMSE)\n",
        "MAE = MAE(y_test, y_pred)\n",
        "print(\"MAE: \", MAE)\n",
        "IM=np.sqrt(((1-R2)**2) + (RMSE**2) + (MAE**2) )\n",
        "print(\"IM: \", IM)\n",
        "print()"
      ],
      "execution_count": null,
      "outputs": [
        {
          "output_type": "stream",
          "text": [
            "-Gradient boosting regressor-\n",
            "-----------------------------\n",
            "MSE test: 0.38779028113173203\n",
            "\n",
            "R2:  0.9596622284527647\n",
            "RMSE:  0.6227280956659431\n",
            "MAE:  0.4810532563250899\n",
            "IM:  0.7879274410541249\n",
            "\n"
          ],
          "name": "stdout"
        }
      ]
    },
    {
      "cell_type": "markdown",
      "metadata": {
        "id": "PHnJOVfblHoi"
      },
      "source": [
        "AdaBoost"
      ]
    },
    {
      "cell_type": "code",
      "metadata": {
        "colab": {
          "base_uri": "https://localhost:8080/"
        },
        "id": "-zjt4ApAlEOq",
        "outputId": "4f4191a3-afa1-4b9e-a02c-1e930ef2c007"
      },
      "source": [
        "from sklearn.ensemble import AdaBoostRegressor\n",
        "\n",
        "print(\" AdaBoost -\")\n",
        "print(\"------------------\")\n",
        "\n",
        "Ada = AdaBoostRegressor(random_state=42, n_estimators=2000)\n",
        "#START TRAINING\n",
        "Ada.fit(X_train,y_train)\n",
        "#PREDICTION\n",
        "y_pred=Ada.predict(X_test)\n",
        "\n",
        "#EVAL\n",
        "from sklearn.metrics import mean_squared_error as MSE\n",
        "MSE_test = MSE(y_test, y_pred)\n",
        "\n",
        "print('MSE test:', MSE_test)\n",
        "\n",
        "print()\n",
        "\n",
        "from sklearn.metrics import r2_score\n",
        "from sklearn.metrics import mean_absolute_error as MAE \n",
        "\n",
        "#METRICS: R2, RMSE, MAE\n",
        "R2=r2_score(y_test, y_pred)\n",
        "print('R2: ',R2)\n",
        "RMSE = np.sqrt(MSE_test)\n",
        "print(\"RMSE: \", RMSE)\n",
        "MAE = MAE(y_test, y_pred)\n",
        "print(\"MAE: \", MAE)\n",
        "IM=np.sqrt(((1-R2)**2) + (RMSE**2) + (MAE**2) )\n",
        "print(\"IM: \", IM)\n",
        "print()"
      ],
      "execution_count": null,
      "outputs": [
        {
          "output_type": "stream",
          "text": [
            " AdaBoost -\n",
            "------------------\n",
            "MSE test: 0.7744628924446703\n",
            "\n",
            "R2:  0.9194407164200386\n",
            "RMSE:  0.8800357336180561\n",
            "MAE:  0.6492700404858298\n",
            "IM:  1.0965875596996613\n",
            "\n"
          ],
          "name": "stdout"
        }
      ]
    },
    {
      "cell_type": "markdown",
      "metadata": {
        "id": "luhokZpA0hUd"
      },
      "source": [
        "GPR"
      ]
    },
    {
      "cell_type": "code",
      "metadata": {
        "colab": {
          "base_uri": "https://localhost:8080/"
        },
        "id": "bTe3OIgp0i4j",
        "outputId": "a7e3ef3f-1ea5-4ca4-9540-19bac38cf70f"
      },
      "source": [
        "from sklearn.gaussian_process import GaussianProcessRegressor as GPR\n",
        "from sklearn.gaussian_process.kernels import RBF, ConstantKernel as C\n",
        "kernel = C(1.0, (1e-3, 1e3)) * RBF(10, (1e-2, 1e2))\n",
        " \n",
        "GP=GPR(alpha=0.001, copy_X_train=True,\n",
        "                         kernel=1**2 * RBF(length_scale=10),\n",
        "                         n_restarts_optimizer=40, normalize_y=True,\n",
        "                         optimizer='fmin_l_bfgs_b', random_state=42)\n",
        " \n",
        "#Training\n",
        "GP.fit(X_train,y_train)\n",
        " \n",
        "#Testing\n",
        "y_star_train = GP.predict(X_train)\n",
        "y_pred = GP.predict(X_test)\n",
        " \n",
        "from sklearn.metrics import mean_squared_error\n",
        "MSE_test = mean_squared_error(y_test, y_pred)\n",
        "MSE_train = mean_squared_error(y_train, y_star_train)\n",
        " \n",
        "print(\"Gaussian Process\")\n",
        "print('MSE train:', MSE_train)\n",
        "print('MSE test:', MSE_test)\n",
        "print(\"MSE train < MSE test?\", MSE_train < MSE_test)\n",
        "print()\n",
        "from sklearn.metrics import r2_score\n",
        "R2_train=r2_score(y_train, y_star_train)\n",
        "print('R2_train: ',R2_train)\n",
        "R2_test=r2_score(y_test, y_pred)\n",
        "print('R2_test: ',R2_test)\n",
        "print()\n",
        "\"\"\" \n",
        "RE=100 * abs(y_test - y_pred) / y_test\n",
        "print('Relative error (%): ',RE)\n",
        "\"\"\"\n",
        "from sklearn.metrics import r2_score\n",
        "from sklearn.metrics import mean_absolute_error as MAE \n",
        "#METRICS: R2, RMSE, MAE\n",
        "R2=r2_score(y_test, y_pred)\n",
        "print('R2: ',R2)\n",
        "RMSE = np.sqrt(MSE_test)\n",
        "print(\"RMSE: \", RMSE)\n",
        "MAE = MAE(y_test, y_pred)\n",
        "print(\"MAE: \", MAE)\n",
        "IM=np.sqrt(((1-R2)**2) + (RMSE**2) + (MAE**2) )\n",
        "print(\"IM: \", IM)\n",
        "print()"
      ],
      "execution_count": null,
      "outputs": [
        {
          "output_type": "stream",
          "text": [
            "Gaussian Process\n",
            "MSE train: 0.0010303758925420564\n",
            "MSE test: 0.3532469497400271\n",
            "MSE train < MSE test? True\n",
            "\n",
            "R2_train:  0.9999078813491068\n",
            "R2_test:  0.9632554103295577\n",
            "\n",
            "R2:  0.9632554103295577\n",
            "RMSE:  0.5943458166253273\n",
            "MAE:  0.4069148781729661\n",
            "IM:  0.7212328560795024\n",
            "\n"
          ],
          "name": "stdout"
        }
      ]
    },
    {
      "cell_type": "markdown",
      "metadata": {
        "id": "65BcrZ7PlVu3"
      },
      "source": [
        "C-V"
      ]
    },
    {
      "cell_type": "code",
      "metadata": {
        "colab": {
          "base_uri": "https://localhost:8080/",
          "height": 411
        },
        "id": "L74jTiKQlWmN",
        "outputId": "69dedc7c-cad0-41dd-b9f1-3e7690d641d6"
      },
      "source": [
        "import seaborn as sns\n",
        "sns.set()\n",
        "\n",
        "y1=xgbr.predict(X_test)\n",
        "y2=GBR.predict(X_test)\n",
        "y3=Ada.predict(X_test)\n",
        "y4=GP.predict(X_test)\n",
        "#Plots\n",
        "#sns.set_theme(style=\"whitegrid\")\n",
        "plt.rcParams[\"axes.grid\"] = True\n",
        "fig = plt.figure()\n",
        "fig.set_size_inches((9,6))\n",
        "import matplotlib.pyplot as plt\n",
        "plt.rcParams.update({'font.size': 30})\n",
        "\n",
        "plt.plot(y_train, y_star_train, 'yx', label = 'Train')\n",
        "plt.plot([y_star_train.min(), y_star_train.max()], [y_star_train.min(), y_star_train.max()], 'k--')\n",
        "plt.plot(y_test, y1, 'rs', label = 'XGBR')\n",
        "plt.plot(y_test, y2, 'g^', label = 'GBR')\n",
        "plt.plot(y_test, y3, 'bo', label = 'AdaBoost')\n",
        "plt.plot(y_test, y4, 'm*', label = 'GPR')\n",
        "\n",
        "\n",
        "plt.legend()\n",
        "plt.ylabel('Predicted wear rate')\n",
        "plt.xlabel('Measured wear rate')\n",
        "#plt.title(\"Machine learning regressors\")\n",
        "print()"
      ],
      "execution_count": null,
      "outputs": [
        {
          "output_type": "stream",
          "text": [
            "\n"
          ],
          "name": "stdout"
        },
        {
          "output_type": "display_data",
          "data": {
            "image/png": "[encoded data removed]",
            "text/plain": [
              "<Figure size 648x432 with 1 Axes>"
            ]
          },
          "metadata": {}
        }
      ]
    },
    {
      "cell_type": "code",
      "metadata": {
        "colab": {
          "base_uri": "https://localhost:8080/"
        },
        "id": "Z_9GprQUldvK",
        "outputId": "15d226d5-c4c8-4f9e-c84e-8ee8ec72f57a"
      },
      "source": [
        "\n",
        "from sklearn.metrics import r2_score\n",
        "from sklearn.metrics import mean_squared_error as MSE\n",
        "from sklearn.metrics import mean_absolute_error \n",
        "from sklearn.model_selection import cross_val_score as CV\n",
        "\n",
        "import warnings\n",
        "warnings.filterwarnings('ignore')\n",
        "\n",
        "models = [ xgbr,  GBR, Ada, GP ]\n",
        "labels = ['XGBR',  'GBR', 'Adaboost', 'GPR']\n",
        "IMS = []\n",
        "\n",
        "print(\"--------------------------------------------------------------\")\n",
        "print(\"%5s | %5s | %5s | %5s | %5s \" % (\"ML algorithm\",  \"CV-R2\", \"CV-MSE\", \"CV-MAE\", \"IM\"))\n",
        "print(\"--------------------------------------------------------------\")\n",
        "\n",
        "for mod, label in zip( models, labels): \n",
        "  #y_star = mod.predict(X)\n",
        " \n",
        "  scoreR2 = CV(mod, X_train, y_train, cv=5, scoring='r2')\n",
        "  #print(-1*scoreR2)\n",
        "  scoreMSE = CV(mod, X_train, y_train, cv=5, scoring='neg_mean_squared_error')\n",
        "  #print(-1*scoreMSE)\n",
        "  scoreMAE = CV(mod, X_train, y_train, cv=5, scoring='neg_mean_absolute_error')\n",
        "  #print(-1*scoreMAE)\n",
        "  IM=np.sqrt(((1-scoreR2)**2) + (scoreMSE) + (scoreMAE**2) )\n",
        "  #print(\"IM: \", IM)\n",
        "  \n",
        " \n",
        "  print(\"%15s | %.4f | %.4f | %.4f | %.4f \" % (label,  scoreR2.mean(), -1*scoreMSE.mean(), -1*scoreMAE.mean() , np.sqrt(((1-scoreR2.mean())**2) + (-1*scoreMSE.mean()) + (scoreMAE.mean()**2) )))\n",
        "print(\"--------------------------------------------------------------\")"
      ],
      "execution_count": null,
      "outputs": [
        {
          "output_type": "stream",
          "text": [
            "--------------------------------------------------------------\n",
            "ML algorithm | CV-R2 | CV-MSE | CV-MAE |    IM \n",
            "--------------------------------------------------------------\n",
            "           XGBR | 0.8306 | 1.8261 | 0.8275 | 1.5936 \n",
            "            GBR | 0.8210 | 1.6275 | 0.7570 | 1.4942 \n",
            "       Adaboost | 0.8656 | 1.3319 | 0.8015 | 1.4115 \n",
            "            GPR | 0.9345 | 0.6374 | 0.5149 | 0.9523 \n",
            "--------------------------------------------------------------\n"
          ],
          "name": "stdout"
        }
      ]
    },
    {
      "cell_type": "markdown",
      "metadata": {
        "id": "VWa-KJkqwh0Y"
      },
      "source": [
        "## Uncertainty quantification"
      ]
    },
    {
      "cell_type": "code",
      "metadata": {
        "colab": {
          "base_uri": "https://localhost:8080/",
          "height": 629
        },
        "id": "u8E6NCZNlzTi",
        "outputId": "9b30ba08-0977-4546-a603-320ca950c771"
      },
      "source": [
        "from sklearn.gaussian_process import GaussianProcessRegressor as GPR\n",
        "from sklearn.gaussian_process.kernels import RBF, ConstantKernel as C\n",
        "kernel = C(1.0, (1e-3, 1e3)) * RBF(10, (1e-2, 1e2))\n",
        " \n",
        "GP=GPR(alpha=0.001, copy_X_train=True,\n",
        "                         kernel=1**2 * RBF(length_scale=10),\n",
        "                         n_restarts_optimizer=40, normalize_y=True,\n",
        "                         optimizer='fmin_l_bfgs_b', random_state=1234)\n",
        " \n",
        "#Training\n",
        "GP.fit(X_train,y_train)\n",
        " \n",
        "#Testing\n",
        "y_star_train = GP.predict(X_train)\n",
        "y_pred = GP.predict(X_test)\n",
        " \n",
        "#Plots\n",
        "sns.set_theme(style=\"darkgrid\")\n",
        "plt.rcParams[\"axes.grid\"] = True\n",
        "fig = plt.figure()\n",
        "fig.set_size_inches((9,6))\n",
        "\n",
        "import matplotlib.pyplot as plt\n",
        "plt.rcParams.update({'font.size': 30})\n",
        "\n",
        "plt.plot(y_train, y_star_train, 'bx', label = 'Train')\n",
        "plt.plot([y_star_train.min(), y_star_train.max()], [y_star_train.min(), y_star_train.max()], 'k--')\n",
        "plt.plot(y_test, y_pred, 'ro', label = 'Test')\n",
        "plt.plot([y_pred.min(), y_pred.max()], [y_pred.min(), y_pred.max()], 'k--')\n",
        "plt.legend()\n",
        "plt.ylabel('Predicted melting efficiency')\n",
        "plt.xlabel('Measured melting efficiency')\n",
        "plt.title(\"Gaussian process regressor\")\n",
        " \n",
        "from sklearn.metrics import mean_squared_error\n",
        "MSE_test = mean_squared_error(y_test, y_pred)\n",
        "MSE_train = mean_squared_error(y_train, y_star_train)\n",
        " \n",
        "print(\"Gaussian Process\")\n",
        "print('MSE train:', MSE_train)\n",
        "print('MSE test:', MSE_test)\n",
        "print(\"MSE train < MSE test?\", MSE_train < MSE_test)\n",
        "print()\n",
        "from sklearn.metrics import r2_score\n",
        "R2_train=r2_score(y_train, y_star_train)\n",
        "print('R2_train: ',R2_train)\n",
        "R2_test=r2_score(y_test, y_pred)\n",
        "print('R2_test: ',R2_test)\n",
        "print()\n",
        "\"\"\" \n",
        "RE=100 * abs(y_test - y_pred) / y_test\n",
        "print('Relative error (%): ',RE)\n",
        "\"\"\"\n",
        "from sklearn.metrics import r2_score\n",
        "from sklearn.metrics import mean_absolute_error as MAE \n",
        "#METRICS: R2, RMSE, MAE\n",
        "R2=r2_score(y_test, y_pred)\n",
        "print('R2: ',R2)\n",
        "RMSE = np.sqrt(MSE_test)\n",
        "print(\"RMSE: \", RMSE)\n",
        "MAE = MAE(y_test, y_pred)\n",
        "print(\"MAE: \", MAE)\n",
        "IM=np.sqrt(((1-R2)**2) + (RMSE**2) + (MAE**2) )\n",
        "print(\"IM: \", IM)\n",
        "print()"
      ],
      "execution_count": null,
      "outputs": [
        {
          "output_type": "stream",
          "text": [
            "Gaussian Process\n",
            "MSE train: 0.0006457681724503525\n",
            "MSE test: 0.9593565077942205\n",
            "MSE train < MSE test? True\n",
            "\n",
            "R2_train:  0.999936261006588\n",
            "R2_test:  0.9155525749285434\n",
            "\n",
            "R2:  0.9155525749285434\n",
            "RMSE:  0.9794674613248878\n",
            "MAE:  0.5572743137976341\n",
            "IM:  1.1300630673613061\n",
            "\n"
          ],
          "name": "stdout"
        },
        {
          "output_type": "display_data",
          "data": {
            "image/png": "[encoded data removed]",
            "text/plain": [
              "<Figure size 648x432 with 1 Axes>"
            ]
          },
          "metadata": {
            "tags": []
          }
        }
      ]
    },
    {
      "cell_type": "code",
      "metadata": {
        "id": "aQCToIRQxiUQ"
      },
      "source": [
        "X=data['K'][:,None]\n",
        "Y=data['w'][:,None]"
      ],
      "execution_count": null,
      "outputs": []
    },
    {
      "cell_type": "code",
      "metadata": {
        "colab": {
          "base_uri": "https://localhost:8080/"
        },
        "id": "4ES8XxX_xmr5",
        "outputId": "7c935ee7-9b7d-4850-e73b-ab498a2400a4"
      },
      "source": [
        "from sklearn.model_selection import train_test_split\n",
        "\n",
        "X_train, X_test, y_train, y_test = train_test_split(X, Y, test_size=0.2, random_state=42)\n",
        "print('training samples:', X_train.shape[0],  ' test samples:', X_test.shape[0])"
      ],
      "execution_count": null,
      "outputs": [
        {
          "output_type": "stream",
          "text": [
            "training samples: 49  test samples: 13\n"
          ],
          "name": "stdout"
        }
      ]
    },
    {
      "cell_type": "markdown",
      "metadata": {
        "id": "8oG52c-Lxulv"
      },
      "source": [
        "Analitical model"
      ]
    },
    {
      "cell_type": "code",
      "metadata": {
        "colab": {
          "base_uri": "https://localhost:8080/",
          "height": 428
        },
        "id": "YqXnLnyDxwLN",
        "outputId": "44e4bc92-5bce-49aa-c19c-4647ba7c1574"
      },
      "source": [
        "def f(x):\n",
        "  #return  2.9321*x + 1.9759\n",
        "  return  0.2166*x + 0.5047\n",
        "\n",
        "Xs = np.linspace(0.014,48.31,30)\n",
        "Ys=f(Xs)\n",
        "plt.figure()\n",
        "plt.figure(figsize =(9, 6))\n",
        "plt.plot(Xs, Ys, 'k--',  label = 'Model')\n",
        "plt.plot(X_train, y_train, 'b*', label = 'Train')\n",
        "plt.plot(X_test, y_test, 'ro', label = 'Test')\n",
        "plt.legend()\n",
        "plt.xlabel('Wear coefficient')\n",
        "plt.ylabel('Wear rate')"
      ],
      "execution_count": null,
      "outputs": [
        {
          "output_type": "execute_result",
          "data": {
            "text/plain": [
              "Text(0, 0.5, 'Wear rate')"
            ]
          },
          "metadata": {
            "tags": []
          },
          "execution_count": 43
        },
        {
          "output_type": "display_data",
          "data": {
            "text/plain": [
              "<Figure size 432x288 with 0 Axes>"
            ]
          },
          "metadata": {
            "tags": []
          }
        },
        {
          "output_type": "display_data",
          "data": {
            "image/png": "[encoded data removed]",
            "text/plain": [
              "<Figure size 648x432 with 1 Axes>"
            ]
          },
          "metadata": {
            "tags": []
          }
        }
      ]
    },
    {
      "cell_type": "code",
      "metadata": {
        "colab": {
          "base_uri": "https://localhost:8080/",
          "height": 428
        },
        "id": "6bLsN8OnyJL5",
        "outputId": "607404bf-9ef0-426a-c011-bc94942d12f2"
      },
      "source": [
        "#Tunning hiperparameters (Training data)\n",
        "def f(x):\n",
        "  #return 2.9321*x + 1.9759\n",
        "  return  0.2166*x + 0.5047\n",
        "\n",
        "X1 = np.asarray(X_train)\n",
        "y1 = np.asarray(y_train).ravel()\n",
        "\n",
        "x1 = np.atleast_2d(np.linspace(0.014,48.31,30)).T\n",
        "\n",
        "kernel = C(1.0, (1e-3, 1e3)) * RBF(10, (1e-3, 1e3))\n",
        "model = GPR(kernel=kernel, n_restarts_optimizer=8, alpha=0.5, normalize_y=True)\n",
        "\n",
        "model.fit(X1, y1)\n",
        "\n",
        "# Make the prediction on the meshed x-axis (ask for MSE as well)\n",
        "y_pred, sigma = model.predict(x1, return_std=True)\n",
        "\n",
        "# Plot the function, the prediction and the 95% confidence interval based on the MSE\n",
        "plt.figure()\n",
        "plt.figure(figsize =(9, 6)) \n",
        "plt.plot(x1, f(x1), 'k:', label=r'Empirical Model')\n",
        "plt.plot(X1, y1, 'b.', markersize=10, label='Experimental data')\n",
        "plt.plot(x1, y_pred, 'r-', label='Prediction')\n",
        "plt.fill(np.concatenate([x1, x1[::-1]]),\n",
        "         np.concatenate([y_pred - 1.9600 * sigma,\n",
        "                        (y_pred + 1.9600 * sigma)[::-1]]),\n",
        "         alpha=.25, fc='y', ec='None', label='95% confidence interval')\n",
        "plt.xlabel('Power (kW)')\n",
        "plt.ylabel('WW (mm)')\n",
        "plt.legend(loc='upper left')"
      ],
      "execution_count": null,
      "outputs": [
        {
          "output_type": "execute_result",
          "data": {
            "text/plain": [
              "<matplotlib.legend.Legend at 0x7f5a357bb710>"
            ]
          },
          "metadata": {
            "tags": []
          },
          "execution_count": 45
        },
        {
          "output_type": "display_data",
          "data": {
            "text/plain": [
              "<Figure size 432x288 with 0 Axes>"
            ]
          },
          "metadata": {
            "tags": []
          }
        },
        {
          "output_type": "display_data",
          "data": {
            "image/png": "[encoded data removed]",
            "text/plain": [
              "<Figure size 648x432 with 1 Axes>"
            ]
          },
          "metadata": {
            "tags": []
          }
        }
      ]
    },
    {
      "cell_type": "code",
      "metadata": {
        "colab": {
          "base_uri": "https://localhost:8080/",
          "height": 428
        },
        "id": "2eX3-bCvy0J1",
        "outputId": "365960bf-8a71-4808-a7d5-a1ff71ce0327"
      },
      "source": [
        "#Tunning hiperparameters (Testing data)\n",
        "def f(x):\n",
        "  return 0.2166*x + 0.5047\n",
        "\n",
        "X2 = np.asarray(X)\n",
        "y2 = np.asarray(Y).ravel()\n",
        "\n",
        "x2 = np.atleast_2d(np.linspace(0.014,48.31,30)).T\n",
        "\n",
        "kernel = C(1.0, (1e-3, 1e3)) * RBF(10, (1e-3, 1e3))\n",
        "model = GPR(kernel=kernel, n_restarts_optimizer=10, alpha=0.5 , normalize_y=True)\n",
        "\n",
        "model.fit(X2, y2)\n",
        "\n",
        "# Make the prediction on the meshed x-axis (ask for MSE as well)\n",
        "y_pred, sigma = model.predict(x2, return_std=True)\n",
        "\n",
        "# Plot the function, the prediction and the 95% confidence interval based on the MSE\n",
        "plt.figure()\n",
        "plt.figure(figsize =(9, 6)) \n",
        "plt.plot(x2, f(x2), 'k:', label=r'Analitical Model')\n",
        "plt.plot(X_train, y_train, 'bo', label = 'Train')\n",
        "plt.plot(X_test, y_test, 'ys', label = 'Test')\n",
        "plt.plot(x2, y_pred, 'r-' , label='Prediction')\n",
        "plt.fill(np.concatenate([x2, x2[::-1]]),\n",
        "         np.concatenate([y_pred - 1.9600 * sigma,\n",
        "                        (y_pred + 1.9600 * sigma)[::-1]]),\n",
        "         alpha=.1, fc='r', ec='None', label='95% confidence interval')\n",
        "plt.xlabel('Wear rate ')\n",
        "plt.ylabel('Wear coefficient ')\n",
        "plt.legend(loc='upper left')"
      ],
      "execution_count": null,
      "outputs": [
        {
          "output_type": "execute_result",
          "data": {
            "text/plain": [
              "<matplotlib.legend.Legend at 0x7f5a356a7c10>"
            ]
          },
          "metadata": {
            "tags": []
          },
          "execution_count": 52
        },
        {
          "output_type": "display_data",
          "data": {
            "text/plain": [
              "<Figure size 432x288 with 0 Axes>"
            ]
          },
          "metadata": {
            "tags": []
          }
        },
        {
          "output_type": "display_data",
          "data": {
            "image/png": "[encoded data removed]",
            "text/plain": [
              "<Figure size 648x432 with 1 Axes>"
            ]
          },
          "metadata": {
            "tags": []
          }
        }
      ]
    },
    {
      "cell_type": "code",
      "metadata": {
        "id": "icFew20OzB6S"
      },
      "source": [
        ""
      ],
      "execution_count": null,
      "outputs": []
    }
  ]
}